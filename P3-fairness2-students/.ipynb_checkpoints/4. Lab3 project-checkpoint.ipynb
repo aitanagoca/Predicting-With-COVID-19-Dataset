{
 "cells": [
  {
   "cell_type": "markdown",
   "metadata": {},
   "source": [
    "# Fairness, Accountability, Transparency and Ethics Course (FATE)\n",
    "\n",
    "## Universitat Pompeu Fabra (UPF)\n",
    "### Year 22/23\n",
    "### Author: Manuel Portela (manuel.portela@upf.edu) with the contribution from Ioannis Bilionis (ibilionis@adherahealth.com)\n",
    "*** Partially based on the original exercises made by David Solans (david.solans@upf.edu) ***\n",
    "<br>\n",
    "<br>\n",
    "<br>\n",
    "Submission date: 17/03/2023 at 23:59 on Aula Global\n",
    "\n",
    "Please, implement this notebook **in pairs**.\n",
    "\n",
    "<br>\n",
    "<br>"
   ]
  },
  {
   "cell_type": "markdown",
   "metadata": {},
   "source": [
    "**Legend** <br>\n",
    "In this notebook we use:    \n",
    "<div class=\"alert alert-block col-md-7 alert-info\">To recall information from the theory classes and other tips</div>\n",
    "<div class=\"alert alert-block col-md-7 alert-warning\">To point important things that should not be \n",
    "   forgotten</div> \n",
    "<div class=\"alert alert-block col-md-7 alert-primary bg-primary\">LAB TASK</div>"
   ]
  },
  {
   "cell_type": "markdown",
   "metadata": {},
   "source": [
    "# 3. Part 2: Predicting with a COVID-19 Dataset\n",
    "\n",
    "This project consist on applying the concepts and the techniques acquired during the course, with the addition of mitigation algorithms. \n",
    "\n",
    "The purpose of this project is to train a model that answer a specific question. Each group will have to choose a question and will have a subset of the original dataset to use. \n",
    "\n",
    "<div class=\"alert alert-block alert-info\">We will work with subsets obtainef from the full dataset available at <a href=\"https://www.kaggle.com/datasets/omarlarasa/cov19-open-data-mexico\">kaggle</a>.</div>\n",
    "\n",
    "Use the question that correlates to your group with its corresponding dataset:\n",
    "1. How probability of dying increase with the patient's age? <a href=\"\">Group 1 Dataset</a>\n",
    "\n",
    "2. How that probability increases if the patient has another health issue? <a href=\"\">Group 2 Dataset</a> \n",
    "3. How dying probability increases when the patient has been intubated? <a href=\"\">Group 3 Dataset</a>\n",
    "4. Is it true that smoking increases the probability of dying by COV19? <a href=\"\">Group 4 Dataset</a>\n",
    "5. Do pregnant women has more probability of being intubated? <a href=\"\">Group 5 Dataset</a>\n",
    "6. Do longer periods of symptoms lead to a higher probability of death? <a href=\"\">Group 6 Dataset</a>\n",
    "7. Migrants? <a href=\"\">Group 7 Dataset</a>\n",
    "\n",
    "<div class=\"alert alert-block alert-success\">\n",
    "    <p><b>[To complete]</b></p>\n",
    "    <p>Group numer: ...</p>\n",
    "    <p>Group members: ..., ... </p>\n",
    "</div>"
   ]
  },
  {
   "cell_type": "markdown",
   "metadata": {},
   "source": [
    "###  Libraries used in this notebook\n",
    "You will need to install: **numpy**, **pandas**, **matplotlib**, and **sklearn**."
   ]
  },
  {
   "cell_type": "code",
   "execution_count": 1,
   "metadata": {},
   "outputs": [],
   "source": [
    "## Required statements\n",
    "import pandas as pd\n",
    "import numpy as np\n",
    "\n",
    "from sklearn import linear_model\n",
    "from sklearn.metrics import mean_squared_error\n",
    "from sklearn.model_selection import train_test_split\n",
    "from sklearn.preprocessing import LabelEncoder\n",
    "from sklearn.linear_model import LogisticRegression\n",
    "from sklearn.preprocessing import StandardScaler\n",
    "from sklearn.metrics import accuracy_score\n",
    "\n",
    "\n",
    "from aif360.datasets import BinaryLabelDataset\n",
    "from aif360.datasets import AdultDataset\n",
    "from aif360.metrics import BinaryLabelDatasetMetric\n",
    "from aif360.metrics import ClassificationMetric\n",
    "\n",
    "from aif360.algorithms.preprocessing.optim_preproc_helpers.data_preproc_functions\\\n",
    "        import load_preproc_data_adult\n",
    "\n",
    "from aif360.metrics import BinaryLabelDatasetMetric\n",
    "\n",
    "from IPython.display import Markdown, display\n",
    "\n",
    "\n",
    "from IPython.display import Markdown, display\n",
    "import matplotlib.pyplot as plt\n",
    "%matplotlib inline"
   ]
  },
  {
   "cell_type": "markdown",
   "metadata": {},
   "source": [
    "<div class=\"alert alert-block alert-primary bg-primary head-2\">\n",
    "    <h2 class=\"alert-heading\">[L3.1] Load and analyse your dataset (1 point)</h2>\n",
    "    <hr>\n",
    "     <p class=\"mb-0\">Load your assigned dataset and answer the following questions:</p>\n",
    "\n",
    "   <ol>\n",
    "    <li>Is it k-anonymous?  [Interpret]</li>\n",
    "    <li>Does it complies with l-diversity ? [interpret]</li>\n",
    "    <li>Is it balanced? [Interpret]</li>\n",
    "    <li>Select your protected class [justify]</li>\n",
    "    <li>Define sensitive attributes [justify]</li>\n",
    "   </ol>\n",
    "</div>"
   ]
  },
  {
   "cell_type": "code",
   "execution_count": null,
   "metadata": {},
   "outputs": [],
   "source": [
    "## Your code here"
   ]
  },
  {
   "cell_type": "markdown",
   "metadata": {},
   "source": [
    "<div class=\"alert alert-block alert-primary bg-primary head-2\">\n",
    "    <h2 class=\"alert-heading\">[L3.2] Prepare your dataset and train a model (0.5 point)</h2>\n",
    "    <hr>\n",
    "    <p class=\"mb-0\">Split your dataset for train and test [Code]</p>\n",
    "     <p>Then, train a classifier (scikit-learn model) [Code] considering the question that you should solve [justify]. </p>\n",
    "</div>\n",
    "\n"
   ]
  },
  {
   "cell_type": "code",
   "execution_count": 28,
   "metadata": {},
   "outputs": [],
   "source": [
    "## Your code here"
   ]
  },
  {
   "cell_type": "markdown",
   "metadata": {},
   "source": [
    "<div class=\"alert alert-block alert-primary bg-primary head-2\">\n",
    "    <h2 class=\"alert-heading\">[L3.3] Assess your model performance (1 point)</h2>\n",
    "    <hr>\n",
    "    <p class=\"mb-0\">You should analyse the following analysis:</p>\n",
    "    <ol>\n",
    "        <li>Performance metrics [interpret]</li>\n",
    "        <li>Use Specificity to understand how well it classifies TRUE NEGATIVES (important for COVID) [Interpret</li>\n",
    "        <li>Training a XGB regressor analyse the risk factors used in this dataset and how they impact on your protected class.  [Code and Interpret]</li>\n",
    "    </ol>\n",
    "     \n",
    "</div>\n",
    "\n",
    "<div class=\"alert alert-block alert-info col-md-12\">\n",
    "    <p><b>Specificity metric:</b> (true negative rate) is the probability of a negative test result, conditioned on the individual truly being negative. This is important on COVID-19 detection because we know that is hard to detect the infection, therefore there has been many false negatives, resulting in underidentification.</p>\n",
    "    <p><b>Analysing factors:</b> When using multiple attributes for a classifier, each attribute can have a different impact in the precision of the algorithm, which also varies regarding the dataset. Understanding the weights of each factor can help to understand what are the effects on the protected class.</p>\n",
    "</div>"
   ]
  },
  {
   "cell_type": "code",
   "execution_count": 30,
   "metadata": {},
   "outputs": [],
   "source": [
    "## Your code here"
   ]
  },
  {
   "cell_type": "markdown",
   "metadata": {},
   "source": [
    "<div class=\"alert alert-block alert-primary bg-primary head-2\">\n",
    "    <h2 class=\"alert-heading\">[L3.4] Assess the fairness metrics (1 point)</h2>\n",
    "    <hr>\n",
    "    <p class=\"mb-0\">Assess the performance from the fairness point of view of the created model.</p>\n",
    "    <p>For that, you should plot the result of some fairness metric for classification.</p>\n",
    "    <p> You can just use the same metrics we used in Part 1, but remember to add other metrics if you need them to detect changes of performance in the following exercises.</p>\n",
    "</div>"
   ]
  },
  {
   "cell_type": "code",
   "execution_count": null,
   "metadata": {},
   "outputs": [],
   "source": [
    "## Your code here"
   ]
  },
  {
   "cell_type": "markdown",
   "metadata": {},
   "source": [
    "### Unfairness mitigation algorithms  in AIF360\n",
    "The library contains a set of algorithms to mitigate potential unfairness in machine-learning pipelines.\n",
    "\n",
    "The provided algorithms correspond implementation of to state of the art techniques (most of them contain a link to a scientific paper that introduced them).\n",
    "\n",
    "The existing algorithms can be found [here](https://aif360.readthedocs.io/en/latest/modules/algorithms.html).\n",
    "\n",
    "They are divided between:\n",
    "- **Preprocessing.** Algorithms that are applied before starting the learning process (modification of the input data before feeding it to the model).\n",
    "\n",
    "- **Inprocessing.** Algorithms that are applied during the learning process (e.g.: modification of the loss function to account for fairness).\n",
    "\n",
    "- **Postprocessing.** Algorithms that are applied after the predictions of the models, substituting them for more fair solutions."
   ]
  },
  {
   "cell_type": "markdown",
   "metadata": {},
   "source": [
    "<div class=\"alert alert-block alert-primary bg-primary head-2\">\n",
    "    <h2 class=\"alert-heading\">[L3.5] Apply mitigation algorithms to your model (0.5 points)</h2>\n",
    "    <hr>\n",
    "     <p class=\"mb-0\">Apply an unfairness mitigation algorithm of your election, train a new classifier of the same family used above and assess the new performance from the fairness point of view.</p>\n",
    "    <p>Provide a textial description of the results (max 3 lines).</p>\n",
    "</div>\n",
    "\n",
    "\n",
    "\n",
    "<div class=\"alert alert-block alert-info col-md-12\">\n",
    "\n",
    "<p>Although you can try other algorihtms if you want, the suggested algorithms to mitigate unfairness are the following:</p>\n",
    "\n",
    "    \n",
    "<ul>\n",
    "<li><b><a href=\"https://aif360.readthedocs.io/en/latest/modules/generated/aif360.algorithms.preprocessing.DisparateImpactRemover.html\" >Preprocessing</a></b>\n",
    "<ul>\n",
    "<li>Disparate Impact Remover</li>\n",
    "<li>Rewighing (you need a classifier that allows you to parametrize sample weights for this)</li>\n",
    "</ul>\n",
    "\n",
    "</li>\n",
    "<li><b><a href=\"https://aif360.readthedocs.io/en/latest/modules/algorithms.html#aif360-algorithms-inprocessing\">Inprocessing</a></b>\n",
    "<ul>\n",
    "<li>MetaFairClassifier</li>\n",
    "</ul>\n",
    "</li>\n",
    "<li><b><a href=\"https://aif360.readthedocs.io/en/latest/modules/algorithms.html#module-aif360.algorithms.postprocessing\">Postprocessing</a></b>\n",
    "<ul>\n",
    "<li>Disparate Impact Remover</li>\n",
    "<li>EqOddsPostprocessing (You need to use the equalized odds ratio to measure performance of this classifier and the classifier trained above)</li>\n",
    "</ul>\n",
    "</li>\n",
    "</ul>\n",
    "\n",
    "<p>You can add necessary imports for using the algorithm</p>\n",
    "\n",
    "</div>\n",
    "\n",
    "\n",
    "<div class=\"alert alert-block alert-warning col-md-12\">\n",
    "    <p>Sometimes, certain algorithms do not work well with certain classifiers / output distributions</p>\n",
    "    <p>This can happen for several reasons, one of them being the changes done for subsequent versions of the tool</p>\n",
    "    <br>\n",
    "    <p><b>If you see that your unfairness mitigation algorithm does not work as expected, do not invest too much time trying to solve it, use another algorithm.</b></p>\n",
    "</div>   "
   ]
  },
  {
   "cell_type": "code",
   "execution_count": null,
   "metadata": {},
   "outputs": [],
   "source": [
    "## Your code here"
   ]
  },
  {
   "cell_type": "markdown",
   "metadata": {},
   "source": [
    "<div class=\"alert alert-block alert-primary bg-primary head-2\">\n",
    "    <h2 class=\"alert-heading\">[L3.6] Assess the effects of the mitigation technique (1 point)</h2>\n",
    "    <hr>\n",
    "     <p class=\"mb-0\">Analyse the performance of the effects of the mitigation algorithm in the performance of your model. You can iterate over your training to get the best result (in relation to you goal). Explain how do arrive to the best choice and why it is the best one.</p>\n",
    "</div>\n"
   ]
  },
  {
   "cell_type": "code",
   "execution_count": null,
   "metadata": {},
   "outputs": [],
   "source": [
    "## Your code here"
   ]
  },
  {
   "cell_type": "markdown",
   "metadata": {},
   "source": [
    "<div class=\"alert alert-block alert-primary bg-primary head-2\">\n",
    "    <h2 class=\"alert-heading\">[L3...] Executive report (5 points)</h2>\n",
    "    <hr>\n",
    "     <p class=\"mb-0\">After analysing your dataset and training your models, please create a 1-3 page report containing the following items (on your consideration): </p>\n",
    "    <ul>\n",
    "        <li>Anonymization of the dataset</li>\n",
    "        <li>Fairness in original dataset</li>\n",
    "        <li>Factors that impact on discrimination</li>\n",
    "        <li>Fairness metrics</li>\n",
    "        <li>Algorithms used for training the model</li>\n",
    "        <li>Algorithmic performance expected and obtained</li>\n",
    "        <li>Algorithmic metrics applied</li>\n",
    "        <li>Algorithmic performance after the metrics</li>\n",
    "        <li>Conclusions regarding the goal of your model and the expected utility in a real-case scenario</li>\n",
    "    </ul>\n",
    "</div>\n",
    "\n",
    "<div class=\"alert alert-block alert-warning\">\n",
    "<p>You can include figure if you consider necessary, and you can reuse observations from the notebook, please avoid placing code in the report.</p>\n",
    "<p>Please, include the contribution of each of the team mates to this project. </p>\n",
    "</div> \n"
   ]
  },
  {
   "cell_type": "code",
   "execution_count": null,
   "metadata": {},
   "outputs": [],
   "source": []
  }
 ],
 "metadata": {
  "kernelspec": {
   "display_name": "Python 3 (ipykernel)",
   "language": "python",
   "name": "python3"
  },
  "language_info": {
   "codemirror_mode": {
    "name": "ipython",
    "version": 3
   },
   "file_extension": ".py",
   "mimetype": "text/x-python",
   "name": "python",
   "nbconvert_exporter": "python",
   "pygments_lexer": "ipython3",
   "version": "3.11.1"
  }
 },
 "nbformat": 4,
 "nbformat_minor": 2
}
