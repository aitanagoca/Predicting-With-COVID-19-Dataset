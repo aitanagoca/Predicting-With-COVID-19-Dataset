{
 "cells": [
  {
   "cell_type": "markdown",
   "metadata": {},
   "source": [
    "# Fairness, Accountability, Transparency and Ethics Course (FATE)\n",
    "\n",
    "## Universitat Pompeu Fabra (UPF)\n",
    "### Year 23/24\n",
    "### Author: Manuel Portela (manuel.portela@upf.edu) with the contribution from Ioannis Bilionis (ibilionis@adherahealth.com)\n",
    "*** Partially based on the original exercises made by David Solans (david.solans@upf.edu) ***\n",
    "<br>\n",
    "<br>\n",
    "<br>\n",
    "Submission date: 22/03/2024 at 23:59 on Aula Global\n",
    "\n",
    "Please, implement this notebook **in pairs**.\n",
    "\n",
    "<br>\n",
    "<br>"
   ]
  },
  {
   "cell_type": "markdown",
   "metadata": {},
   "source": [
    "**Legend** <br>\n",
    "In this notebook we use:    \n",
    "<div class=\"alert alert-block col-md-7 alert-info\">To recall information from the theory classes and other tips</div>\n",
    "<div class=\"alert alert-block col-md-7 alert-warning\">To point important things that should not be \n",
    "   forgotten</div> \n",
    "<div class=\"alert alert-block col-md-7 alert-primary bg-primary\">LAB TASK</div>"
   ]
  },
  {
   "cell_type": "markdown",
   "metadata": {},
   "source": [
    "# 3. Part 2: Predicting with a COVID-19 Dataset\n",
    "\n",
    "This project consist on applying the concepts and the techniques acquired during the course, with the addition of mitigation algorithms. \n",
    "\n",
    "The purpose of this project is to train a model that answer a specific question. Each group will have to choose a question and will have a subset of the original dataset to use. \n",
    "\n",
    "<div class=\"alert alert-block alert-info\">We will work with subsets obtainef from the full dataset available at <a href=\"https://www.kaggle.com/datasets/omarlarasa/cov19-open-data-mexico\">kaggle</a>.</div>\n",
    "\n",
    "Use the question that correlates to your group with its corresponding dataset:\n",
    "1. What is the probability of dying increase with the patient's age? \n",
    "2. What does probability change if the patient has another health issue? \n",
    "3. How dying probability increases when the patient has been intubated? \n",
    "4. Is it true that smoking increases the probability of dying by COV19?\n",
    "5. Do pregnant women has more probability of being intubated?\n",
    "6. How is the probability of hospitalization and probability of death are related to the length of symptoms?  \n",
    "7. Is there a potential discrimination against Migrants? Hint: calculate the ratio between death and ICU/intubation\n",
    "\n",
    "\n",
    "<div class=\"alert alert-block alert-success\">\n",
    "    <p><b>[To complete]</b></p>\n",
    "    <p>Group number: 6</p>\n",
    "    <p>Group members: Aitana Gonzalez, Berta Mitjavila </p>\n",
    "    <p>Chosen question: How does the probability of dying from covid vary with the age of the patient?</p>\n",
    "</div>"
   ]
  },
  {
   "cell_type": "markdown",
   "metadata": {},
   "source": [
    "###  Libraries used in this notebook\n",
    "You will need to install: **numpy**, **pandas**, **matplotlib**, and **sklearn**."
   ]
  },
  {
   "cell_type": "code",
   "execution_count": 132,
   "metadata": {},
   "outputs": [
    {
     "name": "stdout",
     "output_type": "stream",
     "text": [
      "Requirement already satisfied: aif360 in /Users/aitanagonzalezcardenas/anaconda3/lib/python3.11/site-packages (0.5.0)\n",
      "Requirement already satisfied: numpy>=1.16 in /Users/aitanagonzalezcardenas/anaconda3/lib/python3.11/site-packages (from aif360) (1.24.3)\n",
      "Requirement already satisfied: scipy>=1.2.0 in /Users/aitanagonzalezcardenas/anaconda3/lib/python3.11/site-packages (from aif360) (1.11.1)\n",
      "Requirement already satisfied: pandas>=0.24.0 in /Users/aitanagonzalezcardenas/anaconda3/lib/python3.11/site-packages (from aif360) (2.0.3)\n",
      "Requirement already satisfied: scikit-learn>=1.0 in /Users/aitanagonzalezcardenas/anaconda3/lib/python3.11/site-packages (from aif360) (1.3.0)\n",
      "Requirement already satisfied: matplotlib in /Users/aitanagonzalezcardenas/anaconda3/lib/python3.11/site-packages (from aif360) (3.7.2)\n",
      "Requirement already satisfied: python-dateutil>=2.8.2 in /Users/aitanagonzalezcardenas/anaconda3/lib/python3.11/site-packages (from pandas>=0.24.0->aif360) (2.8.2)\n",
      "Requirement already satisfied: pytz>=2020.1 in /Users/aitanagonzalezcardenas/anaconda3/lib/python3.11/site-packages (from pandas>=0.24.0->aif360) (2023.3.post1)\n",
      "Requirement already satisfied: tzdata>=2022.1 in /Users/aitanagonzalezcardenas/anaconda3/lib/python3.11/site-packages (from pandas>=0.24.0->aif360) (2023.3)\n",
      "Requirement already satisfied: joblib>=1.1.1 in /Users/aitanagonzalezcardenas/anaconda3/lib/python3.11/site-packages (from scikit-learn>=1.0->aif360) (1.2.0)\n",
      "Requirement already satisfied: threadpoolctl>=2.0.0 in /Users/aitanagonzalezcardenas/anaconda3/lib/python3.11/site-packages (from scikit-learn>=1.0->aif360) (2.2.0)\n",
      "Requirement already satisfied: contourpy>=1.0.1 in /Users/aitanagonzalezcardenas/anaconda3/lib/python3.11/site-packages (from matplotlib->aif360) (1.0.5)\n",
      "Requirement already satisfied: cycler>=0.10 in /Users/aitanagonzalezcardenas/anaconda3/lib/python3.11/site-packages (from matplotlib->aif360) (0.11.0)\n",
      "Requirement already satisfied: fonttools>=4.22.0 in /Users/aitanagonzalezcardenas/anaconda3/lib/python3.11/site-packages (from matplotlib->aif360) (4.25.0)\n",
      "Requirement already satisfied: kiwisolver>=1.0.1 in /Users/aitanagonzalezcardenas/anaconda3/lib/python3.11/site-packages (from matplotlib->aif360) (1.4.4)\n",
      "Requirement already satisfied: packaging>=20.0 in /Users/aitanagonzalezcardenas/anaconda3/lib/python3.11/site-packages (from matplotlib->aif360) (23.1)\n",
      "Requirement already satisfied: pillow>=6.2.0 in /Users/aitanagonzalezcardenas/anaconda3/lib/python3.11/site-packages (from matplotlib->aif360) (10.0.1)\n",
      "Requirement already satisfied: pyparsing<3.1,>=2.3.1 in /Users/aitanagonzalezcardenas/anaconda3/lib/python3.11/site-packages (from matplotlib->aif360) (3.0.9)\n",
      "Requirement already satisfied: six>=1.5 in /Users/aitanagonzalezcardenas/anaconda3/lib/python3.11/site-packages (from python-dateutil>=2.8.2->pandas>=0.24.0->aif360) (1.16.0)\n",
      "Collecting shap\n",
      "  Obtaining dependency information for shap from https://files.pythonhosted.org/packages/6d/bc/1634f74a4761685de4389ecf092557ebb73e07071cdcd3841e4b3a257f44/shap-0.44.1-cp311-cp311-macosx_10_9_x86_64.whl.metadata\n",
      "  Downloading shap-0.44.1-cp311-cp311-macosx_10_9_x86_64.whl.metadata (24 kB)\n",
      "Requirement already satisfied: numpy in /Users/aitanagonzalezcardenas/anaconda3/lib/python3.11/site-packages (from shap) (1.24.3)\n",
      "Requirement already satisfied: scipy in /Users/aitanagonzalezcardenas/anaconda3/lib/python3.11/site-packages (from shap) (1.11.1)\n",
      "Requirement already satisfied: scikit-learn in /Users/aitanagonzalezcardenas/anaconda3/lib/python3.11/site-packages (from shap) (1.3.0)\n",
      "Requirement already satisfied: pandas in /Users/aitanagonzalezcardenas/anaconda3/lib/python3.11/site-packages (from shap) (2.0.3)\n",
      "Requirement already satisfied: tqdm>=4.27.0 in /Users/aitanagonzalezcardenas/anaconda3/lib/python3.11/site-packages (from shap) (4.65.0)\n",
      "Requirement already satisfied: packaging>20.9 in /Users/aitanagonzalezcardenas/anaconda3/lib/python3.11/site-packages (from shap) (23.1)\n",
      "Collecting slicer==0.0.7 (from shap)\n",
      "  Obtaining dependency information for slicer==0.0.7 from https://files.pythonhosted.org/packages/78/c2/b3f55dfdb8af9812fdb9baf70cacf3b9e82e505b2bd4324d588888b81202/slicer-0.0.7-py3-none-any.whl.metadata\n",
      "  Downloading slicer-0.0.7-py3-none-any.whl.metadata (3.7 kB)\n",
      "Requirement already satisfied: numba in /Users/aitanagonzalezcardenas/anaconda3/lib/python3.11/site-packages (from shap) (0.57.0)\n",
      "Requirement already satisfied: cloudpickle in /Users/aitanagonzalezcardenas/anaconda3/lib/python3.11/site-packages (from shap) (2.2.1)\n",
      "Requirement already satisfied: llvmlite<0.41,>=0.40.0dev0 in /Users/aitanagonzalezcardenas/anaconda3/lib/python3.11/site-packages (from numba->shap) (0.40.0)\n",
      "Requirement already satisfied: python-dateutil>=2.8.2 in /Users/aitanagonzalezcardenas/anaconda3/lib/python3.11/site-packages (from pandas->shap) (2.8.2)\n",
      "Requirement already satisfied: pytz>=2020.1 in /Users/aitanagonzalezcardenas/anaconda3/lib/python3.11/site-packages (from pandas->shap) (2023.3.post1)\n",
      "Requirement already satisfied: tzdata>=2022.1 in /Users/aitanagonzalezcardenas/anaconda3/lib/python3.11/site-packages (from pandas->shap) (2023.3)\n",
      "Requirement already satisfied: joblib>=1.1.1 in /Users/aitanagonzalezcardenas/anaconda3/lib/python3.11/site-packages (from scikit-learn->shap) (1.2.0)\n",
      "Requirement already satisfied: threadpoolctl>=2.0.0 in /Users/aitanagonzalezcardenas/anaconda3/lib/python3.11/site-packages (from scikit-learn->shap) (2.2.0)\n",
      "Requirement already satisfied: six>=1.5 in /Users/aitanagonzalezcardenas/anaconda3/lib/python3.11/site-packages (from python-dateutil>=2.8.2->pandas->shap) (1.16.0)\n",
      "Downloading shap-0.44.1-cp311-cp311-macosx_10_9_x86_64.whl (453 kB)\n",
      "\u001b[2K   \u001b[90m━━━━━━━━━━━━━━━━━━━━━━━━━━━━━━━━━━━━━━━━\u001b[0m \u001b[32m453.1/453.1 kB\u001b[0m \u001b[31m7.3 MB/s\u001b[0m eta \u001b[36m0:00:00\u001b[0ma \u001b[36m0:00:01\u001b[0m\n",
      "\u001b[?25hUsing cached slicer-0.0.7-py3-none-any.whl (14 kB)\n",
      "Installing collected packages: slicer, shap\n",
      "Successfully installed shap-0.44.1 slicer-0.0.7\n"
     ]
    }
   ],
   "source": [
    "## Required statements\n",
    "import pandas as pd\n",
    "import numpy as np\n",
    "\n",
    "from sklearn import linear_model\n",
    "\n",
    "from sklearn.metrics import mean_squared_error, mean_absolute_error, accuracy_score, confusion_matrix, precision_score, recall_score, roc_auc_score, roc_curve, auc, ConfusionMatrixDisplay, classification_report\n",
    "\n",
    "from sklearn.model_selection import train_test_split\n",
    "from sklearn.preprocessing import LabelEncoder\n",
    "from sklearn.linear_model import LogisticRegression\n",
    "from sklearn.preprocessing import StandardScaler\n",
    "from sklearn.impute import SimpleImputer\n",
    "from sklearn.metrics import accuracy_score\n",
    "from sklearn.metrics import precision_recall_curve\n",
    "\n",
    "!pip install aif360\n",
    "\n",
    "from aif360.datasets import BinaryLabelDataset\n",
    "from aif360.datasets import AdultDataset\n",
    "from aif360.metrics import BinaryLabelDatasetMetric\n",
    "from aif360.metrics import ClassificationMetric\n",
    "\n",
    "from aif360.algorithms.preprocessing.optim_preproc_helpers.data_preproc_functions\\\n",
    "        import load_preproc_data_adult\n",
    "\n",
    "from aif360.metrics import BinaryLabelDatasetMetric\n",
    "\n",
    "from IPython.display import Markdown, display\n",
    "\n",
    "\n",
    "from IPython.display import Markdown, display\n",
    "import matplotlib.pyplot as plt\n",
    "%matplotlib inline\n",
    "\n",
    "# Necessary libraries EXTRA #\n",
    "import seaborn as sns\n",
    "from xgboost import XGBClassifier, plot_importance\n",
    "!pip install shap\n",
    "import shap\n",
    "\n",
    "# Ignore all warnings\n",
    "import warnings\n",
    "warnings.simplefilter(\"ignore\")"
   ]
  },
  {
   "cell_type": "markdown",
   "metadata": {},
   "source": [
    "<div class=\"alert alert-block alert-primary bg-primary head-2\">\n",
    "    <h2 class=\"alert-heading\">[L3.1] Load and analyse your dataset (1 point)</h2>\n",
    "    <hr>\n",
    "     <p class=\"mb-0\">Load your assigned dataset and answer the following questions:</p>\n",
    "\n",
    "   <ol>\n",
    "    <li>Is it k-anonymous?  [Interpret]</li>\n",
    "    <li>Does it complies with l-diversity ? [interpret]</li>\n",
    "    <li>Is it balanced? [Interpret]</li>\n",
    "    <li>Select your protected class [justify]</li>\n",
    "    <li>Define sensitive attributes [justify]</li>\n",
    "   </ol>\n",
    "</div>"
   ]
  },
  {
   "cell_type": "code",
   "execution_count": 2,
   "metadata": {},
   "outputs": [
    {
     "data": {
      "text/html": [
       "<div>\n",
       "<style scoped>\n",
       "    .dataframe tbody tr th:only-of-type {\n",
       "        vertical-align: middle;\n",
       "    }\n",
       "\n",
       "    .dataframe tbody tr th {\n",
       "        vertical-align: top;\n",
       "    }\n",
       "\n",
       "    .dataframe thead th {\n",
       "        text-align: right;\n",
       "    }\n",
       "</style>\n",
       "<table border=\"1\" class=\"dataframe\">\n",
       "  <thead>\n",
       "    <tr style=\"text-align: right;\">\n",
       "      <th></th>\n",
       "      <th>respiratory_hospital_unit</th>\n",
       "      <th>sex</th>\n",
       "      <th>admission_date</th>\n",
       "      <th>symptoms_onset_date</th>\n",
       "      <th>decease_date</th>\n",
       "      <th>intubation</th>\n",
       "      <th>pneumonia</th>\n",
       "      <th>age</th>\n",
       "      <th>native_speaker</th>\n",
       "      <th>native_mexican</th>\n",
       "      <th>...</th>\n",
       "      <th>immunosuppression</th>\n",
       "      <th>hypertension</th>\n",
       "      <th>other_diseases</th>\n",
       "      <th>cardiovascular</th>\n",
       "      <th>obesity</th>\n",
       "      <th>chronic_renal_failure</th>\n",
       "      <th>smoker</th>\n",
       "      <th>ICU_admission</th>\n",
       "      <th>covid_positive</th>\n",
       "      <th>deceased_patient</th>\n",
       "    </tr>\n",
       "  </thead>\n",
       "  <tbody>\n",
       "    <tr>\n",
       "      <th>0</th>\n",
       "      <td>1.0</td>\n",
       "      <td>1.0</td>\n",
       "      <td>12/10/2020</td>\n",
       "      <td>12/09/2020</td>\n",
       "      <td>12/14/2020</td>\n",
       "      <td>0.0</td>\n",
       "      <td>1.0</td>\n",
       "      <td>76.0</td>\n",
       "      <td>0.0</td>\n",
       "      <td>0.0</td>\n",
       "      <td>...</td>\n",
       "      <td>0.0</td>\n",
       "      <td>1.0</td>\n",
       "      <td>0.0</td>\n",
       "      <td>0.0</td>\n",
       "      <td>0.0</td>\n",
       "      <td>0.0</td>\n",
       "      <td>0.0</td>\n",
       "      <td>0.0</td>\n",
       "      <td>1</td>\n",
       "      <td>1</td>\n",
       "    </tr>\n",
       "    <tr>\n",
       "      <th>1</th>\n",
       "      <td>1.0</td>\n",
       "      <td>2.0</td>\n",
       "      <td>07/25/2020</td>\n",
       "      <td>07/18/2020</td>\n",
       "      <td>08/07/2020</td>\n",
       "      <td>0.0</td>\n",
       "      <td>0.0</td>\n",
       "      <td>55.0</td>\n",
       "      <td>1.0</td>\n",
       "      <td>1.0</td>\n",
       "      <td>...</td>\n",
       "      <td>0.0</td>\n",
       "      <td>1.0</td>\n",
       "      <td>0.0</td>\n",
       "      <td>0.0</td>\n",
       "      <td>0.0</td>\n",
       "      <td>0.0</td>\n",
       "      <td>0.0</td>\n",
       "      <td>0.0</td>\n",
       "      <td>1</td>\n",
       "      <td>1</td>\n",
       "    </tr>\n",
       "    <tr>\n",
       "      <th>2</th>\n",
       "      <td>1.0</td>\n",
       "      <td>1.0</td>\n",
       "      <td>05/19/2020</td>\n",
       "      <td>05/16/2020</td>\n",
       "      <td>05/23/2020</td>\n",
       "      <td>0.0</td>\n",
       "      <td>1.0</td>\n",
       "      <td>81.0</td>\n",
       "      <td>0.0</td>\n",
       "      <td>0.0</td>\n",
       "      <td>...</td>\n",
       "      <td>0.0</td>\n",
       "      <td>0.0</td>\n",
       "      <td>0.0</td>\n",
       "      <td>0.0</td>\n",
       "      <td>1.0</td>\n",
       "      <td>0.0</td>\n",
       "      <td>0.0</td>\n",
       "      <td>0.0</td>\n",
       "      <td>1</td>\n",
       "      <td>1</td>\n",
       "    </tr>\n",
       "    <tr>\n",
       "      <th>3</th>\n",
       "      <td>0.0</td>\n",
       "      <td>2.0</td>\n",
       "      <td>01/19/2021</td>\n",
       "      <td>01/07/2021</td>\n",
       "      <td>01/25/2021</td>\n",
       "      <td>0.0</td>\n",
       "      <td>1.0</td>\n",
       "      <td>76.0</td>\n",
       "      <td>0.0</td>\n",
       "      <td>0.0</td>\n",
       "      <td>...</td>\n",
       "      <td>0.0</td>\n",
       "      <td>0.0</td>\n",
       "      <td>0.0</td>\n",
       "      <td>0.0</td>\n",
       "      <td>0.0</td>\n",
       "      <td>0.0</td>\n",
       "      <td>0.0</td>\n",
       "      <td>0.0</td>\n",
       "      <td>1</td>\n",
       "      <td>1</td>\n",
       "    </tr>\n",
       "    <tr>\n",
       "      <th>4</th>\n",
       "      <td>1.0</td>\n",
       "      <td>2.0</td>\n",
       "      <td>05/06/2020</td>\n",
       "      <td>05/02/2020</td>\n",
       "      <td>NaN</td>\n",
       "      <td>NaN</td>\n",
       "      <td>0.0</td>\n",
       "      <td>20.0</td>\n",
       "      <td>0.0</td>\n",
       "      <td>0.0</td>\n",
       "      <td>...</td>\n",
       "      <td>0.0</td>\n",
       "      <td>0.0</td>\n",
       "      <td>0.0</td>\n",
       "      <td>0.0</td>\n",
       "      <td>0.0</td>\n",
       "      <td>0.0</td>\n",
       "      <td>0.0</td>\n",
       "      <td>NaN</td>\n",
       "      <td>0</td>\n",
       "      <td>0</td>\n",
       "    </tr>\n",
       "  </tbody>\n",
       "</table>\n",
       "<p>5 rows × 23 columns</p>\n",
       "</div>"
      ],
      "text/plain": [
       "   respiratory_hospital_unit  sex admission_date symptoms_onset_date  \\\n",
       "0                        1.0  1.0     12/10/2020          12/09/2020   \n",
       "1                        1.0  2.0     07/25/2020          07/18/2020   \n",
       "2                        1.0  1.0     05/19/2020          05/16/2020   \n",
       "3                        0.0  2.0     01/19/2021          01/07/2021   \n",
       "4                        1.0  2.0     05/06/2020          05/02/2020   \n",
       "\n",
       "  decease_date  intubation  pneumonia   age  native_speaker  native_mexican  \\\n",
       "0   12/14/2020         0.0        1.0  76.0             0.0             0.0   \n",
       "1   08/07/2020         0.0        0.0  55.0             1.0             1.0   \n",
       "2   05/23/2020         0.0        1.0  81.0             0.0             0.0   \n",
       "3   01/25/2021         0.0        1.0  76.0             0.0             0.0   \n",
       "4          NaN         NaN        0.0  20.0             0.0             0.0   \n",
       "\n",
       "   ...  immunosuppression  hypertension  other_diseases  cardiovascular  \\\n",
       "0  ...                0.0           1.0             0.0             0.0   \n",
       "1  ...                0.0           1.0             0.0             0.0   \n",
       "2  ...                0.0           0.0             0.0             0.0   \n",
       "3  ...                0.0           0.0             0.0             0.0   \n",
       "4  ...                0.0           0.0             0.0             0.0   \n",
       "\n",
       "   obesity  chronic_renal_failure  smoker  ICU_admission  covid_positive  \\\n",
       "0      0.0                    0.0     0.0            0.0               1   \n",
       "1      0.0                    0.0     0.0            0.0               1   \n",
       "2      1.0                    0.0     0.0            0.0               1   \n",
       "3      0.0                    0.0     0.0            0.0               1   \n",
       "4      0.0                    0.0     0.0            NaN               0   \n",
       "\n",
       "   deceased_patient  \n",
       "0                 1  \n",
       "1                 1  \n",
       "2                 1  \n",
       "3                 1  \n",
       "4                 0  \n",
       "\n",
       "[5 rows x 23 columns]"
      ]
     },
     "execution_count": 2,
     "metadata": {},
     "output_type": "execute_result"
    }
   ],
   "source": [
    "df = pd.read_csv(\"../Data/deceased_dataset_v1.csv\")\n",
    "df.head()"
   ]
  },
  {
   "cell_type": "code",
   "execution_count": 3,
   "metadata": {},
   "outputs": [
    {
     "data": {
      "text/plain": [
       "['respiratory_hospital_unit',\n",
       " 'sex',\n",
       " 'admission_date',\n",
       " 'symptoms_onset_date',\n",
       " 'decease_date',\n",
       " 'intubation',\n",
       " 'pneumonia',\n",
       " 'age',\n",
       " 'native_speaker',\n",
       " 'native_mexican',\n",
       " 'diabetes',\n",
       " 'epoc',\n",
       " 'asma',\n",
       " 'immunosuppression',\n",
       " 'hypertension',\n",
       " 'other_diseases',\n",
       " 'cardiovascular',\n",
       " 'obesity',\n",
       " 'chronic_renal_failure',\n",
       " 'smoker',\n",
       " 'ICU_admission',\n",
       " 'covid_positive',\n",
       " 'deceased_patient']"
      ]
     },
     "execution_count": 3,
     "metadata": {},
     "output_type": "execute_result"
    }
   ],
   "source": [
    "df.columns.to_list()"
   ]
  },
  {
   "cell_type": "code",
   "execution_count": 4,
   "metadata": {},
   "outputs": [
    {
     "data": {
      "text/plain": [
       "['sex',\n",
       " 'pneumonia',\n",
       " 'age',\n",
       " 'native_speaker',\n",
       " 'native_mexican',\n",
       " 'diabetes',\n",
       " 'epoc',\n",
       " 'asma',\n",
       " 'immunosuppression',\n",
       " 'hypertension',\n",
       " 'other_diseases',\n",
       " 'cardiovascular',\n",
       " 'obesity',\n",
       " 'chronic_renal_failure',\n",
       " 'deceased_patient']"
      ]
     },
     "execution_count": 4,
     "metadata": {},
     "output_type": "execute_result"
    }
   ],
   "source": [
    "# We will work only with covid_positive = 1 because we want the probability of dying due to covid\n",
    "df = df[df['covid_positive'] == 1]\n",
    "\n",
    "# As covid_positive is always 1, it is unuseful\n",
    "# Attributes like 'admission_date' are not affected by the age so are irrelevant\n",
    "df = df.drop(columns=['covid_positive', 'admission_date', 'symptoms_onset_date', 'decease_date', 'respiratory_hospital_unit', 'intubation', 'smoker','ICU_admission'])\n",
    "\n",
    "df.columns.to_list()"
   ]
  },
  {
   "cell_type": "code",
   "execution_count": 5,
   "metadata": {},
   "outputs": [],
   "source": [
    "df = df.dropna(subset=['age'])"
   ]
  },
  {
   "cell_type": "code",
   "execution_count": 6,
   "metadata": {},
   "outputs": [
    {
     "data": {
      "text/html": [
       "<div>\n",
       "<style scoped>\n",
       "    .dataframe tbody tr th:only-of-type {\n",
       "        vertical-align: middle;\n",
       "    }\n",
       "\n",
       "    .dataframe tbody tr th {\n",
       "        vertical-align: top;\n",
       "    }\n",
       "\n",
       "    .dataframe thead th {\n",
       "        text-align: right;\n",
       "    }\n",
       "</style>\n",
       "<table border=\"1\" class=\"dataframe\">\n",
       "  <thead>\n",
       "    <tr style=\"text-align: right;\">\n",
       "      <th></th>\n",
       "      <th>sex</th>\n",
       "      <th>pneumonia</th>\n",
       "      <th>age</th>\n",
       "      <th>native_speaker</th>\n",
       "      <th>native_mexican</th>\n",
       "      <th>diabetes</th>\n",
       "      <th>epoc</th>\n",
       "      <th>asma</th>\n",
       "      <th>immunosuppression</th>\n",
       "      <th>hypertension</th>\n",
       "      <th>other_diseases</th>\n",
       "      <th>cardiovascular</th>\n",
       "      <th>obesity</th>\n",
       "      <th>chronic_renal_failure</th>\n",
       "      <th>deceased_patient</th>\n",
       "    </tr>\n",
       "  </thead>\n",
       "  <tbody>\n",
       "    <tr>\n",
       "      <th>0</th>\n",
       "      <td>1.0</td>\n",
       "      <td>1.0</td>\n",
       "      <td>76.0</td>\n",
       "      <td>0.0</td>\n",
       "      <td>0.0</td>\n",
       "      <td>1.0</td>\n",
       "      <td>0.0</td>\n",
       "      <td>0.0</td>\n",
       "      <td>0.0</td>\n",
       "      <td>1.0</td>\n",
       "      <td>0.0</td>\n",
       "      <td>0.0</td>\n",
       "      <td>0.0</td>\n",
       "      <td>0.0</td>\n",
       "      <td>1</td>\n",
       "    </tr>\n",
       "    <tr>\n",
       "      <th>1</th>\n",
       "      <td>2.0</td>\n",
       "      <td>0.0</td>\n",
       "      <td>55.0</td>\n",
       "      <td>1.0</td>\n",
       "      <td>1.0</td>\n",
       "      <td>1.0</td>\n",
       "      <td>0.0</td>\n",
       "      <td>0.0</td>\n",
       "      <td>0.0</td>\n",
       "      <td>1.0</td>\n",
       "      <td>0.0</td>\n",
       "      <td>0.0</td>\n",
       "      <td>0.0</td>\n",
       "      <td>0.0</td>\n",
       "      <td>1</td>\n",
       "    </tr>\n",
       "    <tr>\n",
       "      <th>2</th>\n",
       "      <td>1.0</td>\n",
       "      <td>1.0</td>\n",
       "      <td>81.0</td>\n",
       "      <td>0.0</td>\n",
       "      <td>0.0</td>\n",
       "      <td>0.0</td>\n",
       "      <td>0.0</td>\n",
       "      <td>0.0</td>\n",
       "      <td>0.0</td>\n",
       "      <td>0.0</td>\n",
       "      <td>0.0</td>\n",
       "      <td>0.0</td>\n",
       "      <td>1.0</td>\n",
       "      <td>0.0</td>\n",
       "      <td>1</td>\n",
       "    </tr>\n",
       "    <tr>\n",
       "      <th>3</th>\n",
       "      <td>2.0</td>\n",
       "      <td>1.0</td>\n",
       "      <td>76.0</td>\n",
       "      <td>0.0</td>\n",
       "      <td>0.0</td>\n",
       "      <td>1.0</td>\n",
       "      <td>0.0</td>\n",
       "      <td>0.0</td>\n",
       "      <td>0.0</td>\n",
       "      <td>0.0</td>\n",
       "      <td>0.0</td>\n",
       "      <td>0.0</td>\n",
       "      <td>0.0</td>\n",
       "      <td>0.0</td>\n",
       "      <td>1</td>\n",
       "    </tr>\n",
       "    <tr>\n",
       "      <th>10</th>\n",
       "      <td>2.0</td>\n",
       "      <td>1.0</td>\n",
       "      <td>38.0</td>\n",
       "      <td>NaN</td>\n",
       "      <td>NaN</td>\n",
       "      <td>1.0</td>\n",
       "      <td>0.0</td>\n",
       "      <td>0.0</td>\n",
       "      <td>0.0</td>\n",
       "      <td>1.0</td>\n",
       "      <td>0.0</td>\n",
       "      <td>0.0</td>\n",
       "      <td>0.0</td>\n",
       "      <td>0.0</td>\n",
       "      <td>1</td>\n",
       "    </tr>\n",
       "  </tbody>\n",
       "</table>\n",
       "</div>"
      ],
      "text/plain": [
       "    sex  pneumonia   age  native_speaker  native_mexican  diabetes  epoc  \\\n",
       "0   1.0        1.0  76.0             0.0             0.0       1.0   0.0   \n",
       "1   2.0        0.0  55.0             1.0             1.0       1.0   0.0   \n",
       "2   1.0        1.0  81.0             0.0             0.0       0.0   0.0   \n",
       "3   2.0        1.0  76.0             0.0             0.0       1.0   0.0   \n",
       "10  2.0        1.0  38.0             NaN             NaN       1.0   0.0   \n",
       "\n",
       "    asma  immunosuppression  hypertension  other_diseases  cardiovascular  \\\n",
       "0    0.0                0.0           1.0             0.0             0.0   \n",
       "1    0.0                0.0           1.0             0.0             0.0   \n",
       "2    0.0                0.0           0.0             0.0             0.0   \n",
       "3    0.0                0.0           0.0             0.0             0.0   \n",
       "10   0.0                0.0           1.0             0.0             0.0   \n",
       "\n",
       "    obesity  chronic_renal_failure  deceased_patient  \n",
       "0       0.0                    0.0                 1  \n",
       "1       0.0                    0.0                 1  \n",
       "2       1.0                    0.0                 1  \n",
       "3       0.0                    0.0                 1  \n",
       "10      0.0                    0.0                 1  "
      ]
     },
     "execution_count": 6,
     "metadata": {},
     "output_type": "execute_result"
    }
   ],
   "source": [
    "df.head()"
   ]
  },
  {
   "cell_type": "markdown",
   "metadata": {},
   "source": [
    "## K-anonimity"
   ]
  },
  {
   "cell_type": "markdown",
   "metadata": {},
   "source": [
    "### - Initial Idea -\n",
    "\n",
    "**Identifiers:** These are unique attributes that can be used to identify an individual. In this dataset, there doesn’t seem to be any explicit identifiers like name, social security number, or patient ID.\n",
    "\n",
    "**Quasi-identifiers:** These are attributes that, in combination, can be used to identify an individual. In this dataset, the following could be considered quasi-identifiers: ‘age’, 'sex', 'native_speaker’, ‘native_mexican’.\n",
    "\n",
    "**Sensitive attributes:** These are sensitive attributes that should be protected. In this dataset, the following could be considered confidential attributes: 'sex', 'native_speaker’, ‘native_mexican’.\n",
    "\n",
    "**Other:** These attributes could also be considered sensitive attributes, however, as far as our study is concerned, they are attributes that are related to a person's state of health, as well as possible habits (such as smoking). These attributes are related to a person's age, so we consider them as \"other\": 'pneumonia', 'diabetes', 'epoc', 'asma', 'immunosuppression', 'hypertension', 'other_diseases', 'cardiovascular', 'obesity', 'chronic_renal_failure', 'deceased_patient'."
   ]
  },
  {
   "cell_type": "code",
   "execution_count": 7,
   "metadata": {},
   "outputs": [],
   "source": [
    "df_anonimity = df[['age', 'sex', 'native_speaker', 'native_mexican', 'deceased_patient']]"
   ]
  },
  {
   "cell_type": "code",
   "execution_count": 8,
   "metadata": {},
   "outputs": [],
   "source": [
    "## Use a helper function that calculates the groups by value\n",
    "## If using pandas, you can consider using grouping and group sizes for that\n",
    "def get_values_frequencies(_df, quasi_identifier_cols):\n",
    "    _df = _df.groupby(quasi_identifier_cols).size().reset_index(name='Count')\n",
    "    return _df[_df['Count'] != 0]\n",
    "\n",
    "## Code a function that uses the function above and determines whether a given dataset satifies K-anonimity \n",
    "# for a given K\n",
    "def is_k_anonymous(_df, K, quasi_identifier_cols):\n",
    "    value_counts = get_values_frequencies(_df, quasi_identifier_cols)\n",
    "    max_k = min(value_counts['Count'])\n",
    "    if K < max_k:\n",
    "        return str(all(value_counts['Count'] >= K)) + f', and it is {max_k}-anonymous too.'\n",
    "    else:\n",
    "        return all(value_counts['Count'] >= K)"
   ]
  },
  {
   "cell_type": "code",
   "execution_count": 9,
   "metadata": {},
   "outputs": [
    {
     "name": "stdout",
     "output_type": "stream",
     "text": [
      "Given the previously established quasi-identifiers, does the dataset satisfy 2-anonymity)? False\n"
     ]
    }
   ],
   "source": [
    "print(\"Given the previously established quasi-identifiers, does the dataset satisfy 2-anonymity)?\", is_k_anonymous(df_anonimity, 2, ['age', 'sex', 'native_speaker', 'native_mexican']))\n"
   ]
  },
  {
   "cell_type": "markdown",
   "metadata": {},
   "source": [
    "As we can observe, with the given quasi-identifiers, the dataset is not 2-anonymous. If a dataset does not satisfy 2-anonymity, it means that there are individuals in the dataset who can be uniquely identified based on the quasi-identifiers."
   ]
  },
  {
   "cell_type": "code",
   "execution_count": 10,
   "metadata": {},
   "outputs": [
    {
     "data": {
      "text/plain": [
       "age   sex  native_speaker  native_mexican\n",
       "12.0  1.0  0.0             0.0                21\n",
       "                           1.0                 1\n",
       "      2.0  0.0             0.0                22\n",
       "13.0  1.0  0.0             0.0                24\n",
       "      2.0  0.0             0.0                29\n",
       "                                            ... \n",
       "90.0  1.0  1.0             0.0                 1\n",
       "                           1.0                 2\n",
       "      2.0  0.0             0.0               185\n",
       "                           1.0                 1\n",
       "           1.0             1.0                 4\n",
       "Length: 525, dtype: int64"
      ]
     },
     "execution_count": 10,
     "metadata": {},
     "output_type": "execute_result"
    }
   ],
   "source": [
    "df_anonimity.groupby(by=['age', 'sex', 'native_speaker', 'native_mexican']).size()\n"
   ]
  },
  {
   "cell_type": "markdown",
   "metadata": {},
   "source": [
    "The previous output shows the count of records for each unique combination of the four quasi-identifiers, and we can observe that there is an individual that can be uniquely identified."
   ]
  },
  {
   "cell_type": "code",
   "execution_count": 11,
   "metadata": {},
   "outputs": [
    {
     "data": {
      "text/html": [
       "<div>\n",
       "<style scoped>\n",
       "    .dataframe tbody tr th:only-of-type {\n",
       "        vertical-align: middle;\n",
       "    }\n",
       "\n",
       "    .dataframe tbody tr th {\n",
       "        vertical-align: top;\n",
       "    }\n",
       "\n",
       "    .dataframe thead th {\n",
       "        text-align: right;\n",
       "    }\n",
       "</style>\n",
       "<table border=\"1\" class=\"dataframe\">\n",
       "  <thead>\n",
       "    <tr style=\"text-align: right;\">\n",
       "      <th></th>\n",
       "      <th>age</th>\n",
       "      <th>sex</th>\n",
       "      <th>native_speaker</th>\n",
       "      <th>native_mexican</th>\n",
       "      <th>deceased_patient</th>\n",
       "    </tr>\n",
       "  </thead>\n",
       "  <tbody>\n",
       "    <tr>\n",
       "      <th>172362</th>\n",
       "      <td>12.0</td>\n",
       "      <td>1.0</td>\n",
       "      <td>0.0</td>\n",
       "      <td>1.0</td>\n",
       "      <td>0</td>\n",
       "    </tr>\n",
       "  </tbody>\n",
       "</table>\n",
       "</div>"
      ],
      "text/plain": [
       "         age  sex  native_speaker  native_mexican  deceased_patient\n",
       "172362  12.0  1.0             0.0             1.0                 0"
      ]
     },
     "execution_count": 11,
     "metadata": {},
     "output_type": "execute_result"
    }
   ],
   "source": [
    "df_anonimity[(df_anonimity['age'] == 12.0) & (df_anonimity['sex'] == 1.0) & (df_anonimity['native_speaker'] == 0.0) & (df_anonimity['native_mexican'] == 1.0)]\n"
   ]
  },
  {
   "cell_type": "markdown",
   "metadata": {},
   "source": [
    "Given this situation, we will have to **anonymize** the dataset. In this case, we could apply generalization to the ‘age’ attribute."
   ]
  },
  {
   "cell_type": "code",
   "execution_count": 12,
   "metadata": {},
   "outputs": [
    {
     "name": "stdout",
     "output_type": "stream",
     "text": [
      "[12. 13. 14. 15. 16. 17. 18. 19. 20. 21. 22. 23. 24. 25. 26. 27. 28. 29.\n",
      " 30. 31. 32. 33. 34. 35. 36. 37. 38. 39. 40. 41. 42. 43. 44. 45. 46. 47.\n",
      " 48. 49. 50. 51. 52. 53. 54. 55. 56. 57. 58. 59. 60. 61. 62. 63. 64. 65.\n",
      " 66. 67. 68. 69. 70. 71. 72. 73. 74. 75. 76. 77. 78. 79. 80. 81. 82. 83.\n",
      " 84. 85. 86. 87. 88. 89. 90.]\n"
     ]
    }
   ],
   "source": [
    "unique_ages = df_anonimity['age'].unique()\n",
    "unique_ages.sort()\n",
    "print(unique_ages)"
   ]
  },
  {
   "cell_type": "code",
   "execution_count": 13,
   "metadata": {},
   "outputs": [
    {
     "data": {
      "text/html": [
       "<div>\n",
       "<style scoped>\n",
       "    .dataframe tbody tr th:only-of-type {\n",
       "        vertical-align: middle;\n",
       "    }\n",
       "\n",
       "    .dataframe tbody tr th {\n",
       "        vertical-align: top;\n",
       "    }\n",
       "\n",
       "    .dataframe thead th {\n",
       "        text-align: right;\n",
       "    }\n",
       "</style>\n",
       "<table border=\"1\" class=\"dataframe\">\n",
       "  <thead>\n",
       "    <tr style=\"text-align: right;\">\n",
       "      <th></th>\n",
       "      <th>sex</th>\n",
       "      <th>native_speaker</th>\n",
       "      <th>native_mexican</th>\n",
       "      <th>deceased_patient</th>\n",
       "      <th>age_group</th>\n",
       "    </tr>\n",
       "  </thead>\n",
       "  <tbody>\n",
       "    <tr>\n",
       "      <th>0</th>\n",
       "      <td>1.0</td>\n",
       "      <td>0.0</td>\n",
       "      <td>0.0</td>\n",
       "      <td>1</td>\n",
       "      <td>70-80</td>\n",
       "    </tr>\n",
       "    <tr>\n",
       "      <th>1</th>\n",
       "      <td>2.0</td>\n",
       "      <td>1.0</td>\n",
       "      <td>1.0</td>\n",
       "      <td>1</td>\n",
       "      <td>50-60</td>\n",
       "    </tr>\n",
       "    <tr>\n",
       "      <th>2</th>\n",
       "      <td>1.0</td>\n",
       "      <td>0.0</td>\n",
       "      <td>0.0</td>\n",
       "      <td>1</td>\n",
       "      <td>80-90</td>\n",
       "    </tr>\n",
       "    <tr>\n",
       "      <th>3</th>\n",
       "      <td>2.0</td>\n",
       "      <td>0.0</td>\n",
       "      <td>0.0</td>\n",
       "      <td>1</td>\n",
       "      <td>70-80</td>\n",
       "    </tr>\n",
       "    <tr>\n",
       "      <th>10</th>\n",
       "      <td>2.0</td>\n",
       "      <td>NaN</td>\n",
       "      <td>NaN</td>\n",
       "      <td>1</td>\n",
       "      <td>30-40</td>\n",
       "    </tr>\n",
       "  </tbody>\n",
       "</table>\n",
       "</div>"
      ],
      "text/plain": [
       "    sex  native_speaker  native_mexican  deceased_patient age_group\n",
       "0   1.0             0.0             0.0                 1     70-80\n",
       "1   2.0             1.0             1.0                 1     50-60\n",
       "2   1.0             0.0             0.0                 1     80-90\n",
       "3   2.0             0.0             0.0                 1     70-80\n",
       "10  2.0             NaN             NaN                 1     30-40"
      ]
     },
     "execution_count": 13,
     "metadata": {},
     "output_type": "execute_result"
    }
   ],
   "source": [
    "bins = [10, 20, 30, 40, 50, 60, 70, 80, 90]\n",
    "labels = ['10-20', '20-30', '30-40', '40-50', '50-60', '60-70', '70-80', '80-90']\n",
    "df_anonimity['age_group'] = pd.cut(df_anonimity['age'], bins=bins, labels=labels, right=False)\n",
    "df_anonimity = df_anonimity.drop(columns=['age'])\n",
    "df_anonimity.head()"
   ]
  },
  {
   "cell_type": "markdown",
   "metadata": {},
   "source": [
    "We check that there is no individual who can be uniquely identified."
   ]
  },
  {
   "cell_type": "code",
   "execution_count": 14,
   "metadata": {},
   "outputs": [
    {
     "data": {
      "text/html": [
       "<div>\n",
       "<style scoped>\n",
       "    .dataframe tbody tr th:only-of-type {\n",
       "        vertical-align: middle;\n",
       "    }\n",
       "\n",
       "    .dataframe tbody tr th {\n",
       "        vertical-align: top;\n",
       "    }\n",
       "\n",
       "    .dataframe thead th {\n",
       "        text-align: right;\n",
       "    }\n",
       "</style>\n",
       "<table border=\"1\" class=\"dataframe\">\n",
       "  <thead>\n",
       "    <tr style=\"text-align: right;\">\n",
       "      <th></th>\n",
       "      <th>age_group</th>\n",
       "      <th>sex</th>\n",
       "      <th>native_speaker</th>\n",
       "      <th>native_mexican</th>\n",
       "      <th>Count</th>\n",
       "    </tr>\n",
       "  </thead>\n",
       "  <tbody>\n",
       "    <tr>\n",
       "      <th>3</th>\n",
       "      <td>10-20</td>\n",
       "      <td>1.0</td>\n",
       "      <td>1.0</td>\n",
       "      <td>1.0</td>\n",
       "      <td>2</td>\n",
       "    </tr>\n",
       "    <tr>\n",
       "      <th>10</th>\n",
       "      <td>20-30</td>\n",
       "      <td>1.0</td>\n",
       "      <td>1.0</td>\n",
       "      <td>0.0</td>\n",
       "      <td>2</td>\n",
       "    </tr>\n",
       "    <tr>\n",
       "      <th>14</th>\n",
       "      <td>20-30</td>\n",
       "      <td>2.0</td>\n",
       "      <td>1.0</td>\n",
       "      <td>0.0</td>\n",
       "      <td>3</td>\n",
       "    </tr>\n",
       "    <tr>\n",
       "      <th>1</th>\n",
       "      <td>10-20</td>\n",
       "      <td>1.0</td>\n",
       "      <td>0.0</td>\n",
       "      <td>1.0</td>\n",
       "      <td>4</td>\n",
       "    </tr>\n",
       "    <tr>\n",
       "      <th>7</th>\n",
       "      <td>10-20</td>\n",
       "      <td>2.0</td>\n",
       "      <td>1.0</td>\n",
       "      <td>1.0</td>\n",
       "      <td>4</td>\n",
       "    </tr>\n",
       "    <tr>\n",
       "      <th>...</th>\n",
       "      <td>...</td>\n",
       "      <td>...</td>\n",
       "      <td>...</td>\n",
       "      <td>...</td>\n",
       "      <td>...</td>\n",
       "    </tr>\n",
       "    <tr>\n",
       "      <th>28</th>\n",
       "      <td>40-50</td>\n",
       "      <td>2.0</td>\n",
       "      <td>0.0</td>\n",
       "      <td>0.0</td>\n",
       "      <td>8537</td>\n",
       "    </tr>\n",
       "    <tr>\n",
       "      <th>40</th>\n",
       "      <td>60-70</td>\n",
       "      <td>1.0</td>\n",
       "      <td>0.0</td>\n",
       "      <td>0.0</td>\n",
       "      <td>9261</td>\n",
       "    </tr>\n",
       "    <tr>\n",
       "      <th>52</th>\n",
       "      <td>70-80</td>\n",
       "      <td>2.0</td>\n",
       "      <td>0.0</td>\n",
       "      <td>0.0</td>\n",
       "      <td>11198</td>\n",
       "    </tr>\n",
       "    <tr>\n",
       "      <th>36</th>\n",
       "      <td>50-60</td>\n",
       "      <td>2.0</td>\n",
       "      <td>0.0</td>\n",
       "      <td>0.0</td>\n",
       "      <td>12476</td>\n",
       "    </tr>\n",
       "    <tr>\n",
       "      <th>44</th>\n",
       "      <td>60-70</td>\n",
       "      <td>2.0</td>\n",
       "      <td>0.0</td>\n",
       "      <td>0.0</td>\n",
       "      <td>14295</td>\n",
       "    </tr>\n",
       "  </tbody>\n",
       "</table>\n",
       "<p>62 rows × 5 columns</p>\n",
       "</div>"
      ],
      "text/plain": [
       "   age_group  sex  native_speaker  native_mexican  Count\n",
       "3      10-20  1.0             1.0             1.0      2\n",
       "10     20-30  1.0             1.0             0.0      2\n",
       "14     20-30  2.0             1.0             0.0      3\n",
       "1      10-20  1.0             0.0             1.0      4\n",
       "7      10-20  2.0             1.0             1.0      4\n",
       "..       ...  ...             ...             ...    ...\n",
       "28     40-50  2.0             0.0             0.0   8537\n",
       "40     60-70  1.0             0.0             0.0   9261\n",
       "52     70-80  2.0             0.0             0.0  11198\n",
       "36     50-60  2.0             0.0             0.0  12476\n",
       "44     60-70  2.0             0.0             0.0  14295\n",
       "\n",
       "[62 rows x 5 columns]"
      ]
     },
     "execution_count": 14,
     "metadata": {},
     "output_type": "execute_result"
    }
   ],
   "source": [
    "get_values_frequencies(df_anonimity, ['age_group', 'sex', 'native_speaker', 'native_mexican']).sort_values(by=\"Count\", ascending=True)\n"
   ]
  },
  {
   "cell_type": "code",
   "execution_count": 15,
   "metadata": {},
   "outputs": [
    {
     "name": "stdout",
     "output_type": "stream",
     "text": [
      "Given the previously established quasi-identifiers, does the dataset satisfy 2-anonymity)? True\n"
     ]
    }
   ],
   "source": [
    "print(\"Given the previously established quasi-identifiers, does the dataset satisfy 2-anonymity)?\", is_k_anonymous(df_anonimity, 2, ['age_group', 'sex', 'native_speaker', 'native_mexican']))\n"
   ]
  },
  {
   "cell_type": "markdown",
   "metadata": {},
   "source": [
    "## L-diversity"
   ]
  },
  {
   "cell_type": "code",
   "execution_count": 16,
   "metadata": {},
   "outputs": [],
   "source": [
    "def is_l_diverse(df, partitions, sensitive_column, l=2):\n",
    "    #your function here\n",
    "    \n",
    "    aux = True\n",
    "    \n",
    "    # Step 1: Create Qi groups\n",
    "    qi_groups = df.groupby(partitions)\n",
    "    \n",
    "    # Step 2: Check ℓ-diversity for each Qi group\n",
    "    for group_name, group_data in qi_groups:\n",
    "        unique_sensitive_values = group_data[sensitive_column].nunique()\n",
    "        \n",
    "        # Check if the number of unique sensitive attribute values is more than ℓ\n",
    "        if unique_sensitive_values > l:\n",
    "            print(f'{group_name} -> false')  # Print combination + False\n",
    "            aux = False  # Dataset does not satisfy ℓ-diversity for this group\n",
    "    \n",
    "    # Step 3: All Qi groups satisfy ℓ-diversity\n",
    "    return f\"* l-diversity of the dataset: {aux}\""
   ]
  },
  {
   "cell_type": "code",
   "execution_count": 17,
   "metadata": {},
   "outputs": [
    {
     "name": "stdout",
     "output_type": "stream",
     "text": [
      "For l = 2 : \n",
      "* l-diversity of the dataset: True \n",
      "\n",
      "For l = 3 : \n",
      "* l-diversity of the dataset: True \n",
      "\n",
      "For l = 4 : \n",
      "* l-diversity of the dataset: True \n",
      "\n",
      "For l = 5 : \n",
      "* l-diversity of the dataset: True \n",
      "\n"
     ]
    }
   ],
   "source": [
    "# Defining groups and sensitive column\n",
    "target_columns = ['age_group', 'sex', 'native_speaker', 'native_mexican']\n",
    "sensitive_column = \"deceased_patient\"\n",
    "\n",
    "for i in range(2,6):\n",
    "    print('For l =', i, ': ')\n",
    "    print(is_l_diverse(df_anonimity, target_columns, sensitive_column, l=i), \"\\n\")"
   ]
  },
  {
   "cell_type": "markdown",
   "metadata": {},
   "source": [
    "## Balance"
   ]
  },
  {
   "cell_type": "code",
   "execution_count": 18,
   "metadata": {},
   "outputs": [
    {
     "data": {
      "image/png": "[encoded data removed]",
      "text/plain": [
       "<Figure size 576x432 with 1 Axes>"
      ]
     },
     "metadata": {
      "needs_background": "light"
     },
     "output_type": "display_data"
    }
   ],
   "source": [
    "# Balance between recovered vs deceased\n",
    "counts = df_anonimity['deceased_patient'].value_counts()\n",
    "\n",
    "# Plotting\n",
    "plt.figure(figsize=(8, 6))  # Adjust the figure size as needed\n",
    "bars = counts.plot(kind='barh', color=['red', 'green'])  # Using barh() for horizontal bars\n",
    "plt.title('Count of Deceased Patients')\n",
    "plt.ylabel('Deceased Status')\n",
    "plt.xlabel('Count')\n",
    "plt.yticks(ticks=[0, 1], labels=['Deceased', 'Recovered'])\n",
    "\n",
    "# Annotating bars with counts\n",
    "for i, count in enumerate(counts):\n",
    "    plt.text(y=i, x=count/2, s=str(count), ha='center', va='center')  # Adjusting x and y positions for horizontal bars\n",
    "\n",
    "plt.show()"
   ]
  },
  {
   "cell_type": "markdown",
   "metadata": {},
   "source": [
    "As we can observe, regarding \"deceased_patients\", we could say that the dataset is imbalanced. The factor that there are significantly more deceased patients than recovered ones, could lead the model to become biased towards the majority class."
   ]
  },
  {
   "cell_type": "code",
   "execution_count": 19,
   "metadata": {},
   "outputs": [
    {
     "data": {
      "image/png": "[encoded data removed]",
      "text/plain": [
       "<Figure size 720x432 with 1 Axes>"
      ]
     },
     "metadata": {
      "needs_background": "light"
     },
     "output_type": "display_data"
    }
   ],
   "source": [
    "# Group by age and deceased status and count occurrences\n",
    "counts = df_anonimity.groupby(['age_group', 'deceased_patient']).size().unstack(fill_value=0)\n",
    "\n",
    "# Plotting\n",
    "plt.figure(figsize=(10, 6))\n",
    "\n",
    "# Plot deceased patients\n",
    "plt.bar(counts.index, counts[1], color='red', label='Deceased')\n",
    "\n",
    "# Plot recovered patients\n",
    "plt.bar(counts.index, counts[0], bottom=counts[1], color='green', label='Recovered')\n",
    "\n",
    "plt.title('Count of Deceased vs Recovered Patients by Age')\n",
    "plt.xlabel('Age')\n",
    "plt.ylabel('Count')\n",
    "plt.legend()\n",
    "\n",
    "# Annotating bars with counts\n",
    "for age, (recovered, deceased) in zip(counts.index, counts.values):\n",
    "    plt.text(age, deceased + recovered, f'{deceased} vs. {recovered}', ha='center', va='bottom')\n",
    "\n",
    "plt.show()"
   ]
  },
  {
   "cell_type": "markdown",
   "metadata": {},
   "source": [
    "Again, we can observe that regarding \"deceased_patients\", we could say that the dataset is imbalanced. This means there are significantly more deceased patients than recovered ones in most age groups and, in this case, especially in the older age groups."
   ]
  },
  {
   "cell_type": "code",
   "execution_count": 20,
   "metadata": {},
   "outputs": [
    {
     "data": {
      "image/png": "[encoded data removed]",
      "text/plain": [
       "<Figure size 432x432 with 1 Axes>"
      ]
     },
     "metadata": {
      "needs_background": "light"
     },
     "output_type": "display_data"
    }
   ],
   "source": [
    "# Group by sex and deceased status and count occurrences\n",
    "counts = df_anonimity.groupby(['sex', 'deceased_patient']).size().unstack(fill_value=0)\n",
    "\n",
    "# Plotting\n",
    "plt.figure(figsize=(6, 6))\n",
    "\n",
    "# Plot deceased patients\n",
    "plt.bar(counts.index, counts[1], color='red', label='Deceased')\n",
    "\n",
    "# Plot recovered patients\n",
    "plt.bar(counts.index, counts[0], bottom=counts[1], color='green', label='Recovered')\n",
    "\n",
    "plt.title('Count of Deceased vs Recovered Patients by Sex')\n",
    "plt.xlabel('Sex')\n",
    "plt.ylabel('Count')\n",
    "plt.xticks(ticks=[1, 2], labels=['Female', 'Male'])  # 1=Female, 2=Male\n",
    "plt.legend()\n",
    "\n",
    "# Annotating bars with counts\n",
    "for sex, (recovered, deceased) in zip(counts.index, counts.values):\n",
    "    plt.text(sex, deceased + recovered, f'{deceased} vs. {recovered}', ha='center', va='bottom')\n",
    "\n",
    "plt.show()"
   ]
  },
  {
   "cell_type": "markdown",
   "metadata": {},
   "source": [
    "The dataset, again, is imbalanced across different genders. This means there are significantly more deceased males than recovered ones, and significantly more recovered females than deceased ones.\n",
    "As usual, there are more males than females in the dataset.\n"
   ]
  },
  {
   "cell_type": "code",
   "execution_count": 21,
   "metadata": {},
   "outputs": [
    {
     "data": {
      "text/html": [
       "<div>\n",
       "<style scoped>\n",
       "    .dataframe tbody tr th:only-of-type {\n",
       "        vertical-align: middle;\n",
       "    }\n",
       "\n",
       "    .dataframe tbody tr th {\n",
       "        vertical-align: top;\n",
       "    }\n",
       "\n",
       "    .dataframe thead th {\n",
       "        text-align: right;\n",
       "    }\n",
       "</style>\n",
       "<table border=\"1\" class=\"dataframe\">\n",
       "  <thead>\n",
       "    <tr style=\"text-align: right;\">\n",
       "      <th></th>\n",
       "      <th>sex</th>\n",
       "      <th>deceased_patient</th>\n",
       "    </tr>\n",
       "  </thead>\n",
       "  <tbody>\n",
       "    <tr>\n",
       "      <th>0</th>\n",
       "      <td>1.0</td>\n",
       "      <td>0.728652</td>\n",
       "    </tr>\n",
       "    <tr>\n",
       "      <th>1</th>\n",
       "      <td>2.0</td>\n",
       "      <td>0.796536</td>\n",
       "    </tr>\n",
       "  </tbody>\n",
       "</table>\n",
       "</div>"
      ],
      "text/plain": [
       "   sex  deceased_patient\n",
       "0  1.0          0.728652\n",
       "1  2.0          0.796536"
      ]
     },
     "execution_count": 21,
     "metadata": {},
     "output_type": "execute_result"
    }
   ],
   "source": [
    "df_anonimity[['sex', \"deceased_patient\"]].groupby('sex', as_index=False).mean()"
   ]
  },
  {
   "cell_type": "markdown",
   "metadata": {},
   "source": [
    "This output suggests that the average rate of deceased patients is slightly higher for the ‘sex’ category Male compared to Female. "
   ]
  },
  {
   "cell_type": "code",
   "execution_count": 22,
   "metadata": {},
   "outputs": [
    {
     "data": {
      "image/png": "[encoded data removed]",
      "text/plain": [
       "<Figure size 1008x864 with 2 Axes>"
      ]
     },
     "metadata": {
      "needs_background": "light"
     },
     "output_type": "display_data"
    }
   ],
   "source": [
    "# Group by age group, gender, and deceased status and count occurrences\n",
    "counts_female = df_anonimity[df_anonimity['sex'] == 1.0].groupby(['age_group', 'deceased_patient']).size().unstack(fill_value=0)\n",
    "counts_male = df_anonimity[df_anonimity['sex'] == 2.0].groupby(['age_group', 'deceased_patient']).size().unstack(fill_value=0)\n",
    "\n",
    "# Plotting for male patients\n",
    "plt.figure(figsize=(14, 12))\n",
    "\n",
    "# Plot deceased male patients\n",
    "plt.subplot(2, 1, 1)\n",
    "plt.bar(counts_male.index, counts_male[1], color='red', label='Deceased')\n",
    "plt.bar(counts_male.index, counts_male[0], bottom=counts_male[1], color='green', label='Recovered')\n",
    "plt.title('Count of Deceased vs Recovered Male Patients by Age')\n",
    "plt.xlabel('Age')\n",
    "plt.ylabel('Count')\n",
    "plt.legend()\n",
    "\n",
    "# Annotating bars with counts for male patients\n",
    "for age, (recovered, deceased) in zip(counts_male.index, counts_male.values):\n",
    "    plt.text(age, deceased + recovered, f'{deceased} vs. {recovered}', ha='center', va='bottom')\n",
    "\n",
    "# Plotting for female patients\n",
    "plt.subplot(2, 1, 2)\n",
    "\n",
    "# Plot deceased female patients\n",
    "plt.bar(counts_female.index, counts_female[1], color='red', label='Deceased')\n",
    "plt.bar(counts_female.index, counts_female[0], bottom=counts_female[1], color='green', label='Recovered')\n",
    "plt.title('Count of Deceased vs Recovered Female Patients by Age')\n",
    "plt.xlabel('Age')\n",
    "plt.ylabel('Count')\n",
    "plt.legend()\n",
    "\n",
    "# Annotating bars with counts for female patients\n",
    "for age, (recovered, deceased) in zip(counts_female.index, counts_female.values):\n",
    "    plt.text(age, deceased + recovered, f'{deceased} vs. {recovered}', ha='center', va='bottom')\n",
    "\n",
    "plt.tight_layout()\n",
    "plt.show()"
   ]
  },
  {
   "cell_type": "markdown",
   "metadata": {},
   "source": [
    "These graphs provide valuable insights into the recovery and death rates among different age groups and genders.\n",
    "- For both males and females, there are more deceased patients than recovered in each age group, except for males aged 10-40 and females aged 10-50 where the number of recovered is higher.\n",
    "- The gap between the number of recovered and deceased patients seems to narrow as age increases, especially for females."
   ]
  },
  {
   "cell_type": "code",
   "execution_count": 23,
   "metadata": {},
   "outputs": [
    {
     "data": {
      "image/png": "[encoded data removed]",
      "text/plain": [
       "<Figure size 432x432 with 1 Axes>"
      ]
     },
     "metadata": {
      "needs_background": "light"
     },
     "output_type": "display_data"
    }
   ],
   "source": [
    "# Group by native speaker and deceased status and count occurrences\n",
    "counts_native_speaker = df_anonimity.groupby(['native_speaker', 'deceased_patient']).size().unstack(fill_value=0)\n",
    "\n",
    "# Plotting\n",
    "plt.figure(figsize=(6, 6))\n",
    "\n",
    "# Plot deceased patients\n",
    "plt.bar(counts_native_speaker.index, counts_native_speaker[1], color='red', label='Deceased')\n",
    "\n",
    "# Plot recovered patients\n",
    "plt.bar(counts_native_speaker.index, counts_native_speaker[0], bottom=counts_native_speaker[1], color='green', label='Recovered')\n",
    "\n",
    "plt.title('Count of Deceased vs Recovered Patients by Native Speaker')\n",
    "plt.xlabel('Native Speaker')\n",
    "plt.ylabel('Count')\n",
    "plt.xticks(ticks=[0, 1], labels=['Non-Native Speaker', 'Native Speaker'])  # Assuming 0=Non-Native Speaker, 1=Native Speaker\n",
    "plt.legend()\n",
    "\n",
    "# Annotating bars with counts\n",
    "for speaker, (recovered, deceased) in zip(counts_native_speaker.index, counts_native_speaker.values):\n",
    "    plt.text(speaker, deceased + recovered, f'{deceased} vs. {recovered}', ha='center', va='bottom')\n",
    "\n",
    "plt.show()"
   ]
  },
  {
   "cell_type": "markdown",
   "metadata": {},
   "source": [
    "As we can observe, the total count for non-native speakers is significantly higher than that for native speakers. Furtheremore, it’s important to note that the count of deceased patients is significantly higher than the count of recovered patients in both groups. However, the difference is much more pronounced for non-native speakers."
   ]
  },
  {
   "cell_type": "code",
   "execution_count": 24,
   "metadata": {},
   "outputs": [
    {
     "data": {
      "text/html": [
       "<div>\n",
       "<style scoped>\n",
       "    .dataframe tbody tr th:only-of-type {\n",
       "        vertical-align: middle;\n",
       "    }\n",
       "\n",
       "    .dataframe tbody tr th {\n",
       "        vertical-align: top;\n",
       "    }\n",
       "\n",
       "    .dataframe thead th {\n",
       "        text-align: right;\n",
       "    }\n",
       "</style>\n",
       "<table border=\"1\" class=\"dataframe\">\n",
       "  <thead>\n",
       "    <tr style=\"text-align: right;\">\n",
       "      <th></th>\n",
       "      <th>native_speaker</th>\n",
       "      <th>deceased_patient</th>\n",
       "    </tr>\n",
       "  </thead>\n",
       "  <tbody>\n",
       "    <tr>\n",
       "      <th>0</th>\n",
       "      <td>0.0</td>\n",
       "      <td>0.771025</td>\n",
       "    </tr>\n",
       "    <tr>\n",
       "      <th>1</th>\n",
       "      <td>1.0</td>\n",
       "      <td>0.791355</td>\n",
       "    </tr>\n",
       "  </tbody>\n",
       "</table>\n",
       "</div>"
      ],
      "text/plain": [
       "   native_speaker  deceased_patient\n",
       "0             0.0          0.771025\n",
       "1             1.0          0.791355"
      ]
     },
     "execution_count": 24,
     "metadata": {},
     "output_type": "execute_result"
    }
   ],
   "source": [
    "df_anonimity[['native_speaker', \"deceased_patient\"]].groupby('native_speaker', as_index=False).mean()"
   ]
  },
  {
   "cell_type": "markdown",
   "metadata": {},
   "source": [
    "This output suggests that the average value of the “deceased_patient” column is slightly higher for the group where “native_speaker” is 1.0 compared to the group where “native_speaker” is 0.0. "
   ]
  },
  {
   "cell_type": "code",
   "execution_count": 25,
   "metadata": {},
   "outputs": [
    {
     "data": {
      "image/png": "[encoded data removed]",
      "text/plain": [
       "<Figure size 1008x864 with 2 Axes>"
      ]
     },
     "metadata": {
      "needs_background": "light"
     },
     "output_type": "display_data"
    }
   ],
   "source": [
    "# Group by age group, native speaker, and deceased status and count occurrences\n",
    "counts_native_speaker = df_anonimity.groupby(['age_group', 'native_speaker', 'deceased_patient']).size().unstack(fill_value=0)\n",
    "\n",
    "# Separate counts for native speakers and non-native speakers\n",
    "counts_native = counts_native_speaker.xs(1, level='native_speaker')\n",
    "counts_non_native = counts_native_speaker.xs(0, level='native_speaker')\n",
    "\n",
    "# Plotting\n",
    "plt.figure(figsize=(14, 12))\n",
    "\n",
    "# Plot deceased patients for native speakers\n",
    "plt.subplot(2, 1, 1)\n",
    "plt.bar(counts_native.index, counts_native[1], color='red', label='Deceased')\n",
    "plt.bar(counts_native.index, counts_native[0], bottom=counts_native[1], color='green', label='Recovered')\n",
    "plt.title('Count of Deceased vs Recovered Native Speaker Patients by Age')\n",
    "plt.xlabel('Age')\n",
    "plt.ylabel('Count')\n",
    "plt.legend()\n",
    "\n",
    "# Annotating bars with counts for native speakers\n",
    "for age, (recovered, deceased) in zip(counts_native.index, counts_native.values):\n",
    "    plt.text(age, deceased + recovered, f'{deceased} vs. {recovered}', ha='center', va='bottom')\n",
    "\n",
    "# Plotting for non-native speakers\n",
    "plt.subplot(2, 1, 2)\n",
    "\n",
    "# Plot deceased patients for non-native speakers\n",
    "plt.bar(counts_non_native.index, counts_non_native[1], color='red', label='Deceased')\n",
    "plt.bar(counts_non_native.index, counts_non_native[0], bottom=counts_non_native[1], color='green', label='Recovered')\n",
    "plt.title('Count of Deceased vs Recovered Non-Native Speaker Patients by Age')\n",
    "plt.xlabel('Age')\n",
    "plt.ylabel('Count')\n",
    "plt.legend()\n",
    "\n",
    "# Annotating bars with counts for non-native speakers\n",
    "for age, (recovered, deceased) in zip(counts_non_native.index, counts_non_native.values):\n",
    "    plt.text(age, deceased + recovered, f'{deceased} vs. {recovered}', ha='center', va='bottom')\n",
    "\n",
    "plt.tight_layout()\n",
    "plt.show()"
   ]
  },
  {
   "cell_type": "markdown",
   "metadata": {},
   "source": [
    "The data suggests that the impact of the disease varies significantly between native and non-native speakers and across different age groups. \n",
    "- Native Speaker Patients: The graph shows that the highest number of deceased patients is in the age group of 80–90. The number of recovered patients is generally lower than the number of deceased patients across all age groups (as exception in the range of 10-40).\n",
    "- Non-Native Speaker Patients: The counts of both deceased and recovered patients are significantly higher compared to native speakers. The age group of 60–70 has the highest number of deceased patients, while the age group of 30–40 has the highest number of recovered patients."
   ]
  },
  {
   "cell_type": "code",
   "execution_count": 26,
   "metadata": {},
   "outputs": [
    {
     "data": {
      "image/png": "[encoded data removed]",
      "text/plain": [
       "<Figure size 432x432 with 1 Axes>"
      ]
     },
     "metadata": {
      "needs_background": "light"
     },
     "output_type": "display_data"
    }
   ],
   "source": [
    "# Group by native Mexican and deceased status and count occurrences\n",
    "counts_native_mexican = df_anonimity.groupby(['native_mexican', 'deceased_patient']).size().unstack(fill_value=0)\n",
    "\n",
    "# Plotting\n",
    "plt.figure(figsize=(6, 6))\n",
    "\n",
    "# Plot deceased patients\n",
    "plt.bar(counts_native_mexican.index, counts_native_mexican[1], color='red', label='Deceased')\n",
    "\n",
    "# Plot recovered patients\n",
    "plt.bar(counts_native_mexican.index, counts_native_mexican[0], bottom=counts_native_mexican[1], color='green', label='Recovered')\n",
    "\n",
    "plt.title('Count of Deceased vs Recovered Patients by Native Mexican')\n",
    "plt.xlabel('Native Mexican')\n",
    "plt.ylabel('Count')\n",
    "plt.xticks(ticks=[0, 1], labels=['Non-Native Mexican', 'Native Mexican'])  # Assuming 0=Non-Native Mexican, 1=Native Mexican\n",
    "plt.legend()\n",
    "\n",
    "# Annotating bars with counts\n",
    "for mexican, (recovered, deceased) in zip(counts_native_mexican.index, counts_native_mexican.values):\n",
    "    plt.text(mexican, deceased + recovered, f'{deceased} vs. {recovered}', ha='center', va='bottom')\n",
    "\n",
    "plt.show()"
   ]
  },
  {
   "cell_type": "markdown",
   "metadata": {},
   "source": [
    "As we can observe, the total count for non-native mexican is significantly higher than that for native mexican.\n",
    "Additionally, from the numbers, it’s clear that the count of deceased patients is significantly higher than the count of recovered patients in both categories. This could indicate a high mortality rate among the patient population. "
   ]
  },
  {
   "cell_type": "code",
   "execution_count": 27,
   "metadata": {},
   "outputs": [
    {
     "data": {
      "text/html": [
       "<div>\n",
       "<style scoped>\n",
       "    .dataframe tbody tr th:only-of-type {\n",
       "        vertical-align: middle;\n",
       "    }\n",
       "\n",
       "    .dataframe tbody tr th {\n",
       "        vertical-align: top;\n",
       "    }\n",
       "\n",
       "    .dataframe thead th {\n",
       "        text-align: right;\n",
       "    }\n",
       "</style>\n",
       "<table border=\"1\" class=\"dataframe\">\n",
       "  <thead>\n",
       "    <tr style=\"text-align: right;\">\n",
       "      <th></th>\n",
       "      <th>native_mexican</th>\n",
       "      <th>deceased_patient</th>\n",
       "    </tr>\n",
       "  </thead>\n",
       "  <tbody>\n",
       "    <tr>\n",
       "      <th>0</th>\n",
       "      <td>0.0</td>\n",
       "      <td>0.771438</td>\n",
       "    </tr>\n",
       "    <tr>\n",
       "      <th>1</th>\n",
       "      <td>1.0</td>\n",
       "      <td>0.742678</td>\n",
       "    </tr>\n",
       "  </tbody>\n",
       "</table>\n",
       "</div>"
      ],
      "text/plain": [
       "   native_mexican  deceased_patient\n",
       "0             0.0          0.771438\n",
       "1             1.0          0.742678"
      ]
     },
     "execution_count": 27,
     "metadata": {},
     "output_type": "execute_result"
    }
   ],
   "source": [
    "df_anonimity[['native_mexican', \"deceased_patient\"]].groupby('native_mexican', as_index=False).mean()"
   ]
  },
  {
   "cell_type": "markdown",
   "metadata": {},
   "source": [
    "This ouput suggests that the average value of the “deceased_patient” column is slightly higher for the group where “native_mexican” is 0.0 compared to the group where “native_mexican” is 1.0."
   ]
  },
  {
   "cell_type": "code",
   "execution_count": 28,
   "metadata": {},
   "outputs": [
    {
     "data": {
      "image/png": "[encoded data removed]",
      "text/plain": [
       "<Figure size 1008x864 with 2 Axes>"
      ]
     },
     "metadata": {
      "needs_background": "light"
     },
     "output_type": "display_data"
    }
   ],
   "source": [
    "# Group by age group, native Mexican, and deceased status and count occurrences\n",
    "counts_native_mexican = df_anonimity.groupby(['age_group', 'native_mexican', 'deceased_patient']).size().unstack(fill_value=0)\n",
    "\n",
    "# Separate counts for native Mexican and non-native Mexican\n",
    "counts_native = counts_native_mexican.xs(1, level='native_mexican')\n",
    "counts_non_native = counts_native_mexican.xs(0, level='native_mexican')\n",
    "\n",
    "# Plotting\n",
    "plt.figure(figsize=(14, 12))\n",
    "\n",
    "# Plot deceased patients for native Mexican\n",
    "plt.subplot(2, 1, 1)\n",
    "plt.bar(counts_native.index, counts_native[1], color='red', label='Deceased')\n",
    "plt.bar(counts_native.index, counts_native[0], bottom=counts_native[1], color='green', label='Recovered')\n",
    "plt.title('Count of Deceased vs Recovered Native Mexican Patients by Age')\n",
    "plt.xlabel('Age')\n",
    "plt.ylabel('Count')\n",
    "plt.legend()\n",
    "\n",
    "# Annotating bars with counts for native Mexican\n",
    "for age, (recovered, deceased) in zip(counts_native.index, counts_native.values):\n",
    "    plt.text(age, deceased + recovered, f'{deceased} vs. {recovered}', ha='center', va='bottom')\n",
    "\n",
    "# Plotting for non-native Mexican\n",
    "plt.subplot(2, 1, 2)\n",
    "\n",
    "# Plot deceased patients for non-native Mexican\n",
    "plt.bar(counts_non_native.index, counts_non_native[1], color='red', label='Deceased')\n",
    "plt.bar(counts_non_native.index, counts_non_native[0], bottom=counts_non_native[1], color='green', label='Recovered')\n",
    "plt.title('Count of Deceased vs Recovered Non-Native Mexican Patients by Age')\n",
    "plt.xlabel('Age')\n",
    "plt.ylabel('Count')\n",
    "plt.legend()\n",
    "\n",
    "# Annotating bars with counts for non-native Mexican\n",
    "for age, (recovered, deceased) in zip(counts_non_native.index, counts_non_native.values):\n",
    "    plt.text(age, deceased + recovered, f'{deceased} vs. {recovered}', ha='center', va='bottom')\n",
    "\n",
    "plt.tight_layout()\n",
    "plt.show()"
   ]
  },
  {
   "cell_type": "markdown",
   "metadata": {},
   "source": [
    "These graphs provide a comparative view of the recovery and death rates among different age groups for Native and Non-Native Mexican patients.\n",
    "- Native Mexican Patients by Age: For ages 10-20, 20-30 and 30-40, there are significantly more recovered patients than deceased. However, for ages 50 and above, the number of deceased patients is higher than those who have recovered.\n",
    "- Non-Native Mexican Patients by Age: All age groups except for 10-20, 20-30 and 30-40 have more deceased patients than recovered. The highest count of both recovered and deceased patients is in the age group of 50-60 and 60-70 respectively.\n",
    "\n",
    "These observations could suggest that age is a significant factor in the recovery rate of patients."
   ]
  },
  {
   "cell_type": "markdown",
   "metadata": {},
   "source": [
    "## Protected Class"
   ]
  },
  {
   "cell_type": "markdown",
   "metadata": {},
   "source": [
    "Considering the average mortality rates we’ve calculated:\n",
    "\n",
    "- For ‘sex’, the mortality rates are 0.728652 for group 1 (female) and 0.796536 for group 2 (male).\n",
    "- For ‘native_speaker’, the mortality rates are 0.771025 for group 0 (non-native) and 0.791355 for group 1 (native).\n",
    "- For ‘native_mexican’, the mortality rates are 0.771438 for group 0 (non-native) and 0.742678 for group 1 (native).\n",
    "\n",
    "So, if we want to protect the group with the highest disparity in mortality rates, ‘sex’ would be the protected class, as it has the largest difference between the two groups. Specifically, we will protect female as is the group with lower rate."
   ]
  },
  {
   "cell_type": "markdown",
   "metadata": {},
   "source": [
    "## Sensitive Attributes"
   ]
  },
  {
   "cell_type": "markdown",
   "metadata": {},
   "source": [
    "As we can observe, the attributes studied above influence the outcome of our analysis in a way that disadvantages one group over another, leading to inequality. For this reason, the sensitive attributes are ‘sex’, ‘native_speaker’, and ‘native_mexican’, as they they relate to personal characteristics of individuals that are protected under anti-discrimination laws.\n",
    "\n",
    "We cannot forget that medical data, such as illnesses (diabetes, pneumonia, etc.), are also considered sensitive attributes."
   ]
  },
  {
   "cell_type": "markdown",
   "metadata": {},
   "source": [
    "<div class=\"alert alert-block alert-primary bg-primary head-2\">\n",
    "    <h2 class=\"alert-heading\">[L3.2] Prepare your dataset and train a model (0.5 point)</h2>\n",
    "    <hr>\n",
    "    <p class=\"mb-0\">Split your dataset for train and test [Code]</p>\n",
    "     <p>Then, train a classifier (scikit-learn model) [Code] considering the question that you should solve [justify]. </p>\n",
    "</div>\n",
    "\n"
   ]
  },
  {
   "cell_type": "markdown",
   "metadata": {},
   "source": [
    "## Preparation"
   ]
  },
  {
   "cell_type": "code",
   "execution_count": 29,
   "metadata": {},
   "outputs": [
    {
     "data": {
      "text/html": [
       "<div>\n",
       "<style scoped>\n",
       "    .dataframe tbody tr th:only-of-type {\n",
       "        vertical-align: middle;\n",
       "    }\n",
       "\n",
       "    .dataframe tbody tr th {\n",
       "        vertical-align: top;\n",
       "    }\n",
       "\n",
       "    .dataframe thead th {\n",
       "        text-align: right;\n",
       "    }\n",
       "</style>\n",
       "<table border=\"1\" class=\"dataframe\">\n",
       "  <thead>\n",
       "    <tr style=\"text-align: right;\">\n",
       "      <th></th>\n",
       "      <th>sex</th>\n",
       "      <th>pneumonia</th>\n",
       "      <th>age</th>\n",
       "      <th>native_speaker</th>\n",
       "      <th>native_mexican</th>\n",
       "      <th>diabetes</th>\n",
       "      <th>epoc</th>\n",
       "      <th>asma</th>\n",
       "      <th>immunosuppression</th>\n",
       "      <th>hypertension</th>\n",
       "      <th>other_diseases</th>\n",
       "      <th>cardiovascular</th>\n",
       "      <th>obesity</th>\n",
       "      <th>chronic_renal_failure</th>\n",
       "      <th>deceased_patient</th>\n",
       "      <th>age_group</th>\n",
       "    </tr>\n",
       "  </thead>\n",
       "  <tbody>\n",
       "    <tr>\n",
       "      <th>0</th>\n",
       "      <td>1.0</td>\n",
       "      <td>1.0</td>\n",
       "      <td>76.0</td>\n",
       "      <td>0.0</td>\n",
       "      <td>0.0</td>\n",
       "      <td>1.0</td>\n",
       "      <td>0.0</td>\n",
       "      <td>0.0</td>\n",
       "      <td>0.0</td>\n",
       "      <td>1.0</td>\n",
       "      <td>0.0</td>\n",
       "      <td>0.0</td>\n",
       "      <td>0.0</td>\n",
       "      <td>0.0</td>\n",
       "      <td>1</td>\n",
       "      <td>70-80</td>\n",
       "    </tr>\n",
       "    <tr>\n",
       "      <th>1</th>\n",
       "      <td>2.0</td>\n",
       "      <td>0.0</td>\n",
       "      <td>55.0</td>\n",
       "      <td>1.0</td>\n",
       "      <td>1.0</td>\n",
       "      <td>1.0</td>\n",
       "      <td>0.0</td>\n",
       "      <td>0.0</td>\n",
       "      <td>0.0</td>\n",
       "      <td>1.0</td>\n",
       "      <td>0.0</td>\n",
       "      <td>0.0</td>\n",
       "      <td>0.0</td>\n",
       "      <td>0.0</td>\n",
       "      <td>1</td>\n",
       "      <td>50-60</td>\n",
       "    </tr>\n",
       "    <tr>\n",
       "      <th>2</th>\n",
       "      <td>1.0</td>\n",
       "      <td>1.0</td>\n",
       "      <td>81.0</td>\n",
       "      <td>0.0</td>\n",
       "      <td>0.0</td>\n",
       "      <td>0.0</td>\n",
       "      <td>0.0</td>\n",
       "      <td>0.0</td>\n",
       "      <td>0.0</td>\n",
       "      <td>0.0</td>\n",
       "      <td>0.0</td>\n",
       "      <td>0.0</td>\n",
       "      <td>1.0</td>\n",
       "      <td>0.0</td>\n",
       "      <td>1</td>\n",
       "      <td>80-90</td>\n",
       "    </tr>\n",
       "    <tr>\n",
       "      <th>3</th>\n",
       "      <td>2.0</td>\n",
       "      <td>1.0</td>\n",
       "      <td>76.0</td>\n",
       "      <td>0.0</td>\n",
       "      <td>0.0</td>\n",
       "      <td>1.0</td>\n",
       "      <td>0.0</td>\n",
       "      <td>0.0</td>\n",
       "      <td>0.0</td>\n",
       "      <td>0.0</td>\n",
       "      <td>0.0</td>\n",
       "      <td>0.0</td>\n",
       "      <td>0.0</td>\n",
       "      <td>0.0</td>\n",
       "      <td>1</td>\n",
       "      <td>70-80</td>\n",
       "    </tr>\n",
       "    <tr>\n",
       "      <th>10</th>\n",
       "      <td>2.0</td>\n",
       "      <td>1.0</td>\n",
       "      <td>38.0</td>\n",
       "      <td>NaN</td>\n",
       "      <td>NaN</td>\n",
       "      <td>1.0</td>\n",
       "      <td>0.0</td>\n",
       "      <td>0.0</td>\n",
       "      <td>0.0</td>\n",
       "      <td>1.0</td>\n",
       "      <td>0.0</td>\n",
       "      <td>0.0</td>\n",
       "      <td>0.0</td>\n",
       "      <td>0.0</td>\n",
       "      <td>1</td>\n",
       "      <td>30-40</td>\n",
       "    </tr>\n",
       "  </tbody>\n",
       "</table>\n",
       "</div>"
      ],
      "text/plain": [
       "    sex  pneumonia   age  native_speaker  native_mexican  diabetes  epoc  \\\n",
       "0   1.0        1.0  76.0             0.0             0.0       1.0   0.0   \n",
       "1   2.0        0.0  55.0             1.0             1.0       1.0   0.0   \n",
       "2   1.0        1.0  81.0             0.0             0.0       0.0   0.0   \n",
       "3   2.0        1.0  76.0             0.0             0.0       1.0   0.0   \n",
       "10  2.0        1.0  38.0             NaN             NaN       1.0   0.0   \n",
       "\n",
       "    asma  immunosuppression  hypertension  other_diseases  cardiovascular  \\\n",
       "0    0.0                0.0           1.0             0.0             0.0   \n",
       "1    0.0                0.0           1.0             0.0             0.0   \n",
       "2    0.0                0.0           0.0             0.0             0.0   \n",
       "3    0.0                0.0           0.0             0.0             0.0   \n",
       "10   0.0                0.0           1.0             0.0             0.0   \n",
       "\n",
       "    obesity  chronic_renal_failure  deceased_patient age_group  \n",
       "0       0.0                    0.0                 1     70-80  \n",
       "1       0.0                    0.0                 1     50-60  \n",
       "2       1.0                    0.0                 1     80-90  \n",
       "3       0.0                    0.0                 1     70-80  \n",
       "10      0.0                    0.0                 1     30-40  "
      ]
     },
     "execution_count": 29,
     "metadata": {},
     "output_type": "execute_result"
    }
   ],
   "source": [
    "bins = [10, 20, 30, 40, 50, 60, 70, 80, 90]\n",
    "labels = ['10-20', '20-30', '30-40', '40-50', '50-60', '60-70', '70-80', '80-90']\n",
    "df['age_group'] = pd.cut(df['age'], bins=bins, labels=labels, right=False)\n",
    "df.head()"
   ]
  },
  {
   "cell_type": "code",
   "execution_count": 30,
   "metadata": {},
   "outputs": [],
   "source": [
    "# Encode the age group column\n",
    "age_col = df['age_group']\n",
    "encoder = LabelEncoder()\n",
    "df['age_group_encoded'] = encoder.fit_transform(age_col)"
   ]
  },
  {
   "cell_type": "markdown",
   "metadata": {},
   "source": [
    "## Models"
   ]
  },
  {
   "cell_type": "markdown",
   "metadata": {},
   "source": [
    "### Model 1 (Features: Age)"
   ]
  },
  {
   "cell_type": "code",
   "execution_count": 31,
   "metadata": {},
   "outputs": [],
   "source": [
    "# Split the data\n",
    "X1 = df['age_group_encoded']  # Features\n",
    "y1 = df['deceased_patient']  # Target variable\n",
    "\n",
    "# Splitting the dataset into training and testing sets\n",
    "X_train1, X_test1, y_train1, y_test1 = train_test_split(X1, y1, test_size=0.2, random_state=42)"
   ]
  },
  {
   "cell_type": "markdown",
   "metadata": {},
   "source": [
    "In this case, we have chosed Logistic Regression as the classifier. Logistic Regression is a common choice for binary classification tasks, which seems appropriate for predicting whether a patient is deceased or not based on their age group. "
   ]
  },
  {
   "cell_type": "code",
   "execution_count": 32,
   "metadata": {},
   "outputs": [
    {
     "name": "stdout",
     "output_type": "stream",
     "text": [
      "Accuracy: 0.8213658536585365\n"
     ]
    }
   ],
   "source": [
    "# Choose a classifier (Logistic Regression, for example)\n",
    "classifier1 = LogisticRegression()\n",
    "\n",
    "# Train the classifier on the training data\n",
    "classifier1.fit(X_train1.values.reshape(-1, 1), y_train1)\n",
    "\n",
    "# Predict the labels of the test set\n",
    "y_pred1 = classifier1.predict(X_test1.values.reshape(-1, 1))\n",
    "\n",
    "# Evaluate the performance of the classifier\n",
    "accuracy1 = accuracy_score(y_test1, y_pred1)\n",
    "print(\"Accuracy:\", accuracy1)"
   ]
  },
  {
   "cell_type": "markdown",
   "metadata": {},
   "source": [
    "Although the accuracy is quite high, if we want better accuracy when predicting, we should consider, for example, the top 3 diseases that affect more as you get older."
   ]
  },
  {
   "cell_type": "code",
   "execution_count": 51,
   "metadata": {},
   "outputs": [
    {
     "data": {
      "image/png": "[encoded data removed]",
      "text/plain": [
       "<Figure size 792x648 with 2 Axes>"
      ]
     },
     "metadata": {
      "needs_background": "light"
     },
     "output_type": "display_data"
    }
   ],
   "source": [
    "# Compute the correlation matrix\n",
    "corr = df[['sex', 'pneumonia', 'native_speaker', 'native_mexican', 'diabetes', 'epoc', 'asma', 'immunosuppression', 'hypertension', 'cardiovascular', 'obesity', 'chronic_renal_failure', 'deceased_patient', 'age_group_encoded']].corr()\n",
    "\n",
    "# Generate a mask for the upper triangle\n",
    "mask = np.triu(np.ones_like(corr, dtype=bool))\n",
    "\n",
    "# Set up the matplotlib figure\n",
    "f, ax = plt.subplots(figsize=(11, 9))\n",
    "\n",
    "# Generate a custom diverging colormap\n",
    "cmap = sns.diverging_palette(230, 20, as_cmap=True)\n",
    "\n",
    "# Draw the heatmap with the mask and correct aspect ratio\n",
    "sns.heatmap(corr, mask=mask, cmap=cmap, vmax=.3, center=0,\n",
    "            square=True, linewidths=.5, cbar_kws={\"shrink\": .5})\n",
    "\n",
    "plt.show()"
   ]
  },
  {
   "cell_type": "markdown",
   "metadata": {},
   "source": [
    "### Model 2 (Features: Age, Pneumonia, Hypertension, Diabetes)"
   ]
  },
  {
   "cell_type": "markdown",
   "metadata": {},
   "source": [
    "As we can observe from the heatmap, the diseases that are more related to age are:\n",
    "\n",
    "- Pneumonia: Older adults are particularly vulnerable to pneumonia due to age-related declines in immune function and other factors, making it a significant concern for this population in terms of morbidity and mortality.\n",
    "\n",
    "- Hypertesion: Hypertension, or high blood pressure, becomes more common with age. It increases the risk of heart disease, stroke, and kidney problems.\n",
    "\n",
    "- Diabetes: Type 2 diabetes is prevalent in older adults due to factors like poor diet and sedentary lifestyle. It causes high blood sugar levels, leading to heart, kidney, and eye issues."
   ]
  },
  {
   "cell_type": "code",
   "execution_count": 41,
   "metadata": {},
   "outputs": [
    {
     "name": "stdout",
     "output_type": "stream",
     "text": [
      "Accuracy: 0.8696696402313498\n"
     ]
    }
   ],
   "source": [
    "# Drop NaN values from both feature and target datasets\n",
    "df_aux = df.copy()\n",
    "df_aux = df_aux.dropna(subset=['age_group_encoded', 'diabetes', 'hypertension', 'pneumonia', 'deceased_patient'])\n",
    "\n",
    "X2 = df_aux[['age_group_encoded', 'diabetes', 'hypertension', 'pneumonia']] # Features\n",
    "y2 = df_aux['deceased_patient']  # Target variable\n",
    "\n",
    "# Splitting the dataset into training and testing sets\n",
    "X_train2, X_test2, y_train2, y_test2 = train_test_split(X2, y2, test_size=0.2, random_state=42)\n",
    "\n",
    "# Choose a classifier (Logistic Regression, for example)\n",
    "classifier2 = LogisticRegression()\n",
    "\n",
    "# Train the classifier on the training data\n",
    "classifier2.fit(X_train2, y_train2)\n",
    "\n",
    "# Predict the labels of the test set\n",
    "y_pred2 = classifier2.predict(X_test2)\n",
    "\n",
    "# Evaluate the performance of the classifier\n",
    "accuracy2 = accuracy_score(y_test2, y_pred2)\n",
    "print(\"Accuracy:\", accuracy2)"
   ]
  },
  {
   "cell_type": "markdown",
   "metadata": {},
   "source": [
    "As initially in our analysis we obtained that the variable \"sex\" was unbalanced with respect to the dataset, we add it to see if the model learns from it or not."
   ]
  },
  {
   "cell_type": "markdown",
   "metadata": {},
   "source": [
    "### Model 3 (Features: Age, Sex, Pneumonia, Hypertension, Diabetes)"
   ]
  },
  {
   "cell_type": "code",
   "execution_count": 42,
   "metadata": {},
   "outputs": [
    {
     "name": "stdout",
     "output_type": "stream",
     "text": [
      "Accuracy: 0.8737378688363886\n"
     ]
    }
   ],
   "source": [
    "# Drop NaN values from both feature and target datasets\n",
    "df_auxaux = df.copy()\n",
    "df_auxaux = df_auxaux.dropna(subset=['age_group_encoded', 'sex', 'diabetes', 'hypertension', 'pneumonia', 'deceased_patient'])\n",
    "\n",
    "X3 = df_auxaux[['age_group_encoded', 'sex', 'diabetes', 'hypertension', 'pneumonia']] # Features\n",
    "y3 = df_auxaux['deceased_patient']  # Target variable\n",
    "\n",
    "# Splitting the dataset into training and testing sets\n",
    "X_train3, X_test3, y_train3, y_test3 = train_test_split(X3, y3, test_size=0.2, random_state=42)\n",
    "\n",
    "# Choose a classifier (Logistic Regression, for example)\n",
    "classifier3 = LogisticRegression()\n",
    "\n",
    "# Train the classifier on the training data\n",
    "classifier3.fit(X_train3, y_train3)\n",
    "\n",
    "# Predict the labels of the test set\n",
    "y_pred3 = classifier3.predict(X_test3)\n",
    "\n",
    "# Evaluate the performance of the classifier\n",
    "accuracy3 = accuracy_score(y_test3, y_pred3)\n",
    "print(\"Accuracy:\", accuracy3)"
   ]
  },
  {
   "cell_type": "markdown",
   "metadata": {},
   "source": [
    "As we can finally see, our last model has greater accuracy. So, maybe for people it may seem not relevant, but sometimes illnesses affect different to men and women."
   ]
  },
  {
   "cell_type": "markdown",
   "metadata": {},
   "source": [
    "<div class=\"alert alert-block alert-primary bg-primary head-2\">\n",
    "    <h2 class=\"alert-heading\">[L3.3] Assess your model performance (1 point)</h2>\n",
    "    <hr>\n",
    "    <p class=\"mb-0\">You should analyse the following analysis:</p>\n",
    "    <ol>\n",
    "        <li>Performance metrics [interpret]</li>\n",
    "        <li>Use Specificity to understand how well it classifies TRUE NEGATIVES (important for COVID) [Interpret</li>\n",
    "        <li>Training a XGB regressor analyse the risk factors used in this dataset and how they impact on your protected class.  [Code and Interpret]</li>\n",
    "    </ol>\n",
    "     \n",
    "</div>\n",
    "\n",
    "<div class=\"alert alert-block alert-info col-md-12\">\n",
    "    <p><b>Specificity metric:</b> (true negative rate) is the probability of a negative test result, conditioned on the individual truly being negative. This is important on COVID-19 detection because we know that is hard to detect the infection, therefore there has been many false negatives, resulting in underidentification.</p>\n",
    "    <p><b>Analysing factors:</b> When using multiple attributes for a classifier, each attribute can have a different impact in the precision of the algorithm, which also varies regarding the dataset. Understanding the weights of each factor can help to understand what are the effects on the protected class.</p>\n",
    "</div>"
   ]
  },
  {
   "cell_type": "markdown",
   "metadata": {},
   "source": [
    "## Performance metrics"
   ]
  },
  {
   "cell_type": "code",
   "execution_count": 87,
   "metadata": {},
   "outputs": [
    {
     "name": "stdout",
     "output_type": "stream",
     "text": [
      "Model Performance Analysis - LogisticRegression()_v3\n",
      "Accuracy: 0.8737\n",
      "ROC AUC: 0.7845\n",
      "Precision: 0.8933\n",
      "Recall: 0.9495\n",
      "\n",
      "Classification report - summary:\n",
      "              precision    recall  f1-score   support\n",
      "\n",
      "           0       0.79      0.62      0.69      4685\n",
      "           1       0.89      0.95      0.92     15717\n",
      "\n",
      "    accuracy                           0.87     20402\n",
      "   macro avg       0.84      0.78      0.81     20402\n",
      "weighted avg       0.87      0.87      0.87     20402\n",
      "\n"
     ]
    },
    {
     "data": {
      "image/png": "[encoded data removed]",
      "text/plain": [
       "<Figure size 720x288 with 2 Axes>"
      ]
     },
     "metadata": {
      "needs_background": "light"
     },
     "output_type": "display_data"
    }
   ],
   "source": [
    "model_name = classifier3\n",
    "\n",
    "# Compute performance metrics\n",
    "accuracy = accuracy_score(y_test3, y_pred3)\n",
    "roc_auc = roc_auc_score(y_test3, y_pred3)\n",
    "precision = precision_score(y_test3, y_pred3)\n",
    "recall = recall_score(y_test3, y_pred3)\n",
    "\n",
    " # Display results\n",
    "print(f'Model Performance Analysis - {model_name}_v3')\n",
    "print('Accuracy:', round(accuracy, 4))\n",
    "print('ROC AUC:', round(roc_auc, 4))\n",
    "print('Precision:', round(precision, 4))\n",
    "print('Recall:', round(recall, 4))\n",
    "\n",
    "# Classification report\n",
    "print('\\nClassification report - summary:')\n",
    "print(classification_report(y_test3, y_pred3, zero_division='warn'))\n",
    "\n",
    "# Compute precision and recall\n",
    "precision, recall, _ = precision_recall_curve(y_test3, y_pred3)\n",
    "\n",
    "# Compute ROC curve and ROC area\n",
    "fpr, tpr, _ = roc_curve(y_test3, y_pred3)\n",
    "\n",
    "# Create subplots\n",
    "fig, (ax1, ax2) = plt.subplots(1, 2, figsize=(10, 4))\n",
    "\n",
    "# Plot Precision-Recall curve\n",
    "ax1.plot(recall, precision, color='green')\n",
    "ax1.set_xlabel('Recall', size=10)\n",
    "ax1.set_ylabel('Precision', size=10)\n",
    "ax1.set_title('Precision-Recall Curve', size=12)\n",
    "\n",
    "\n",
    "# Plot ROC curve\n",
    "ax2.plot(fpr, tpr, color='purple', lw=2, label='ROC curve (area = %f)' % roc_auc)\n",
    "ax2.set_title('ROC Curve', size=12)\n",
    "ax2.set_xlabel('False Positive Rate', size=10)\n",
    "ax2.set_ylabel('True Positive Rate', size=10)\n",
    "ax2.legend(loc=\"lower right\")\n",
    "\n",
    "# Show plots\n",
    "plt.tight_layout()\n",
    "plt.show()"
   ]
  },
  {
   "cell_type": "markdown",
   "metadata": {},
   "source": [
    "In summary, the model seems to perform well in predicting whether a patient is deceased for covid based on the  features related to the age, with high accuracy, precision, and recall, and a fairly good ROC AUC score. (See the report for more detail)"
   ]
  },
  {
   "cell_type": "markdown",
   "metadata": {},
   "source": [
    "## Specificity (with FP & FN)"
   ]
  },
  {
   "cell_type": "code",
   "execution_count": 90,
   "metadata": {},
   "outputs": [
    {
     "name": "stdout",
     "output_type": "stream",
     "text": [
      "Model Error Analysis - LogisticRegression()\n",
      "False Positive Rate: 0.3806\n",
      "False Negative Rate: 0.0505\n"
     ]
    },
    {
     "data": {
      "image/png": "[encoded data removed]",
      "text/plain": [
       "<Figure size 576x288 with 2 Axes>"
      ]
     },
     "metadata": {
      "needs_background": "light"
     },
     "output_type": "display_data"
    }
   ],
   "source": [
    "# Confusion matrix \n",
    "conf_matrix = confusion_matrix(y_test3, y_pred3)\n",
    "\n",
    "# Compute FPR and FNP - errors\n",
    "fpr = conf_matrix[0][1]/conf_matrix[0].sum()\n",
    "fnp = conf_matrix[1][0]/conf_matrix[1].sum()\n",
    "\n",
    "print(f\"Model Error Analysis - {model_name}\")\n",
    "print('False Positive Rate:', round(fpr, 4))\n",
    "print('False Negative Rate:', round(fnp, 4))\n",
    "\n",
    "# Plot confusion matrix\n",
    "disp = ConfusionMatrixDisplay(conf_matrix)\n",
    "fig, ax = plt.subplots(figsize=(8, 4))\n",
    "disp.plot(ax=ax)\n",
    "\n",
    "plt.title('Confusion matrix')\n",
    "plt.show()"
   ]
  },
  {
   "cell_type": "markdown",
   "metadata": {},
   "source": [
    "In summary, the model seems to have a relatively high false positive rate, which could be problematic if the cost of false positives is high (not in our case, it might be useful for prevention). On the other hand, the false negative rate is quite low, which is good if the cost of false negatives is high (that is, almost all deaths can be detected)."
   ]
  },
  {
   "cell_type": "code",
   "execution_count": 91,
   "metadata": {},
   "outputs": [
    {
     "name": "stdout",
     "output_type": "stream",
     "text": [
      "Specificity: 0.6194\n"
     ]
    }
   ],
   "source": [
    "# Compute specificity\n",
    "specificity = conf_matrix[0, 0] / (conf_matrix[0, 0] + conf_matrix[0, 1])\n",
    "print(\"Specificity:\", round(specificity, 4))"
   ]
  },
  {
   "cell_type": "markdown",
   "metadata": {},
   "source": [
    "The specificity indicates that the model is fairly good at predicting negative instances correctly, but there is still room for improvement."
   ]
  },
  {
   "cell_type": "markdown",
   "metadata": {},
   "source": [
    "## Using XGB regressor + Feature's importance"
   ]
  },
  {
   "cell_type": "code",
   "execution_count": 135,
   "metadata": {},
   "outputs": [
    {
     "data": {
      "text/plain": [
       "<Figure size 720x432 with 0 Axes>"
      ]
     },
     "metadata": {},
     "output_type": "display_data"
    },
    {
     "data": {
      "image/png": "[encoded data removed]",
      "text/plain": [
       "<Figure size 432x288 with 1 Axes>"
      ]
     },
     "metadata": {
      "needs_background": "light"
     },
     "output_type": "display_data"
    }
   ],
   "source": [
    "# Preparing the data by changing the dtype of columns\n",
    "s = X_train3.select_dtypes(include='object').columns\n",
    "X_train3[s] = X_train3[s].astype(\"float\")\n",
    "\n",
    "# Training an XGBoost classifier\n",
    "barWidth = 0.9\n",
    "model = XGBClassifier(objective=\"binary:logistic\")\n",
    "model.fit(X_train3, y_train3)\n",
    "\n",
    "# Plot feature importance\n",
    "plot_importance(model, grid=False, color='purple')\n",
    "plt.show()"
   ]
  },
  {
   "cell_type": "markdown",
   "metadata": {},
   "source": [
    "From documentation: The plot_importance function is used to visualize the importance of each feature used in the model. The importance of a feature is calculated based on the number of times a feature appears in the trees of the model. The more an attribute is used to make key decisions in the trees, the higher its relative importance."
   ]
  },
  {
   "cell_type": "markdown",
   "metadata": {},
   "source": [
    "From the plot, we can observe that the feature ‘age_group_encoded’ has the highest importance, followed by ‘pneumonia’, ‘hypertension’, ‘diabetes’, and ‘sex’. This means that ‘age_group_encoded’ was the most useful feature for making predictions in this model, while ‘sex’ was the least useful.\n",
    "\n",
    "In summary, the model finds ‘age_group_encoded’ to be the most important feature in predicting whether a patient is deceased for covid, which could suggest that age plays a significant role in the outcome. (See the report for more detail)"
   ]
  },
  {
   "cell_type": "markdown",
   "metadata": {},
   "source": [
    "## Using SHAP (knowledge from Visual Analytics)"
   ]
  },
  {
   "cell_type": "code",
   "execution_count": 138,
   "metadata": {
    "scrolled": true
   },
   "outputs": [
    {
     "data": {
      "image/png": "[encoded data removed]",
      "text/plain": [
       "<Figure size 576x252 with 2 Axes>"
      ]
     },
     "metadata": {
      "needs_background": "light"
     },
     "output_type": "display_data"
    }
   ],
   "source": [
    "explainer = shap.TreeExplainer(model)\n",
    "shap_values = explainer.shap_values(X_test3)\n",
    "\n",
    "\n",
    "shap.summary_plot(shap_values, X_test3)"
   ]
  },
  {
   "cell_type": "markdown",
   "metadata": {},
   "source": [
    "As we know from the subject of visual analytics, the SHAP summary plot provides a detailed view of the feature importance and their impacts on the model’s output. In this case, it shows that pneumonia and age group are the most influential features in predicting whether a patient is deceased for covid. (See the report for more detail)"
   ]
  },
  {
   "cell_type": "markdown",
   "metadata": {},
   "source": [
    "<div class=\"alert alert-block alert-primary bg-primary head-2\">\n",
    "    <h2 class=\"alert-heading\">[L3.4] Assess the fairness metrics (1 point)</h2>\n",
    "    <hr>\n",
    "    <p class=\"mb-0\">Assess the performance from the fairness point of view of the created model.</p>\n",
    "    <p>For that, you should plot the result of some fairness metric for classification.</p>\n",
    "    <p> You can just use the same metrics we used in Part 1, but remember to add other metrics if you need them to detect changes of performance in the following exercises.</p>\n",
    "</div>"
   ]
  },
  {
   "cell_type": "code",
   "execution_count": null,
   "metadata": {},
   "outputs": [],
   "source": [
    "## Your code here"
   ]
  },
  {
   "cell_type": "markdown",
   "metadata": {},
   "source": [
    "### Unfairness mitigation algorithms  in AIF360\n",
    "The library contains a set of algorithms to mitigate potential unfairness in machine-learning pipelines.\n",
    "\n",
    "The provided algorithms correspond implementation of to state of the art techniques (most of them contain a link to a scientific paper that introduced them).\n",
    "\n",
    "The existing algorithms can be found [here](https://aif360.readthedocs.io/en/latest/modules/algorithms.html).\n",
    "\n",
    "They are divided between:\n",
    "- **Preprocessing.** Algorithms that are applied before starting the learning process (modification of the input data before feeding it to the model).\n",
    "\n",
    "- **Inprocessing.** Algorithms that are applied during the learning process (e.g.: modification of the loss function to account for fairness).\n",
    "\n",
    "- **Postprocessing.** Algorithms that are applied after the predictions of the models, substituting them for more fair solutions."
   ]
  },
  {
   "cell_type": "markdown",
   "metadata": {},
   "source": [
    "<div class=\"alert alert-block alert-primary bg-primary head-2\">\n",
    "    <h2 class=\"alert-heading\">[L3.5] Apply mitigation algorithms to your model (0.5 points)</h2>\n",
    "    <hr>\n",
    "     <p class=\"mb-0\">Apply an unfairness mitigation algorithm of your election, train a new classifier of the same family used above and assess the new performance from the fairness point of view.</p>\n",
    "    <p>Provide a textial description of the results (max 3 lines).</p>\n",
    "</div>\n",
    "\n",
    "\n",
    "\n",
    "<div class=\"alert alert-block alert-info col-md-12\">\n",
    "\n",
    "<p>Although you can try other algorihtms if you want, the suggested algorithms to mitigate unfairness are the following:</p>\n",
    "\n",
    "    \n",
    "<ul>\n",
    "<li><b><a href=\"https://aif360.readthedocs.io/en/latest/modules/generated/aif360.algorithms.preprocessing.DisparateImpactRemover.html\" >Preprocessing</a></b>\n",
    "<ul>\n",
    "<li>Disparate Impact Remover</li>\n",
    "<li>Rewighing (you need a classifier that allows you to parametrize sample weights for this)</li>\n",
    "</ul>\n",
    "\n",
    "</li>\n",
    "<li><b><a href=\"https://aif360.readthedocs.io/en/latest/modules/algorithms.html#aif360-algorithms-inprocessing\">Inprocessing</a></b>\n",
    "<ul>\n",
    "<li>MetaFairClassifier</li>\n",
    "</ul>\n",
    "</li>\n",
    "<li><b><a href=\"https://aif360.readthedocs.io/en/latest/modules/algorithms.html#module-aif360.algorithms.postprocessing\">Postprocessing</a></b>\n",
    "<ul>\n",
    "<li>Disparate Impact Remover</li>\n",
    "<li>EqOddsPostprocessing (You need to use the equalized odds ratio to measure performance of this classifier and the classifier trained above)</li>\n",
    "</ul>\n",
    "</li>\n",
    "</ul>\n",
    "\n",
    "<p>You can add necessary imports for using the algorithm</p>\n",
    "\n",
    "</div>\n",
    "\n",
    "\n",
    "<div class=\"alert alert-block alert-warning col-md-12\">\n",
    "    <p>Sometimes, certain algorithms do not work well with certain classifiers / output distributions</p>\n",
    "    <p>This can happen for several reasons, one of them being the changes done for subsequent versions of the tool</p>\n",
    "    <br>\n",
    "    <p><b>If you see that your unfairness mitigation algorithm does not work as expected, do not invest too much time trying to solve it, use another algorithm.</b></p>\n",
    "</div>   "
   ]
  },
  {
   "cell_type": "code",
   "execution_count": null,
   "metadata": {},
   "outputs": [],
   "source": [
    "## Your code here"
   ]
  },
  {
   "cell_type": "markdown",
   "metadata": {},
   "source": [
    "<div class=\"alert alert-block alert-primary bg-primary head-2\">\n",
    "    <h2 class=\"alert-heading\">[L3.6] Assess the effects of the mitigation technique (1 point)</h2>\n",
    "    <hr>\n",
    "     <p class=\"mb-0\">Analyse the performance of the effects of the mitigation algorithm in the performance of your model. You can iterate over your training to get the best result (in relation to you goal). Explain how do arrive to the best choice and why it is the best one.</p>\n",
    "</div>\n"
   ]
  },
  {
   "cell_type": "code",
   "execution_count": null,
   "metadata": {},
   "outputs": [],
   "source": [
    "## Your code here"
   ]
  },
  {
   "cell_type": "markdown",
   "metadata": {},
   "source": [
    "<div class=\"alert alert-block alert-primary bg-primary head-2\">\n",
    "    <h2 class=\"alert-heading\">[L3.7] Executive report (5 points)</h2>\n",
    "    <hr>\n",
    "     <p class=\"mb-0\">After analysing your dataset and training your models, please create a 1-3 page report containing the following items (on your consideration): </p>\n",
    "    <ul>\n",
    "        <li>Anonymization of the dataset</li>\n",
    "        <li>Fairness in original dataset</li>\n",
    "        <li>Factors that impact on discrimination</li>\n",
    "        <li>Fairness metrics</li>\n",
    "        <li>Algorithms used for training the model</li>\n",
    "        <li>Algorithmic performance expected and obtained</li>\n",
    "        <li>Algorithmic metrics applied</li>\n",
    "        <li>Algorithmic performance after the metrics</li>\n",
    "        <li>Conclusions regarding the goal of your model and the expected utility in a real-case scenario</li>\n",
    "    </ul>\n",
    "</div>\n",
    "\n",
    "<div class=\"alert alert-block alert-warning\">\n",
    "<p>You can include figure if you consider necessary, and you can reuse observations from the notebook, please avoid placing code in the report.</p>\n",
    "<p>Please, include the contribution of each of the team mates to this project. </p>\n",
    "</div> \n"
   ]
  },
  {
   "cell_type": "code",
   "execution_count": null,
   "metadata": {},
   "outputs": [],
   "source": []
  }
 ],
 "metadata": {
  "kernelspec": {
   "display_name": "Python 3",
   "language": "python",
   "name": "python3"
  },
  "language_info": {
   "codemirror_mode": {
    "name": "ipython",
    "version": 3
   },
   "file_extension": ".py",
   "mimetype": "text/x-python",
   "name": "python",
   "nbconvert_exporter": "python",
   "pygments_lexer": "ipython3",
   "version": "3.8.8"
  }
 },
 "nbformat": 4,
 "nbformat_minor": 2
}
