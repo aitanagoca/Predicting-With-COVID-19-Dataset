{
 "cells": [
  {
   "cell_type": "markdown",
   "metadata": {},
   "source": [
    "# Fairness, Accountability, Transparency and Ethics Course (FATE)\n",
    "\n",
    "## Universitat Pompeu Fabra (UPF)\n",
    "### Year 22/23\n",
    "### Author: Manuel Portela (manuel.portela@upf.edu) \n",
    "*** Partially based on the original exercises made by David Solans (david.solans@upf.edu) ***\n",
    "<br>\n",
    "This part of the Lab 3 does not have any deliverable."
   ]
  },
  {
   "cell_type": "markdown",
   "metadata": {},
   "source": [
    "**Legend** <br>\n",
    "In this notebook we use:    \n",
    "<div class=\"alert alert-block col-md-7 alert-info\">To recall information from the theory classes and other tips</div>\n",
    "<div class=\"alert alert-block col-md-7 alert-warning\">To point important things that should not be \n",
    "   forgotten</div> \n",
    "<div class=\"alert alert-block col-md-7 alert-primary bg-primary\">LAB TASK</div>"
   ]
  },
  {
   "cell_type": "markdown",
   "metadata": {},
   "source": [
    "\n",
    "# 3. Part 1: Algorithmic Fairness with Python and IBM AIF360"
   ]
  },
  {
   "cell_type": "markdown",
   "metadata": {},
   "source": [
    "###  Libraries used in this notebook\n",
    "You will need to install: **numpy**, **pandas**, **matplotlib**, and **sklearn**."
   ]
  },
  {
   "cell_type": "code",
   "execution_count": 1,
   "metadata": {},
   "outputs": [
    {
     "name": "stdout",
     "output_type": "stream",
     "text": [
      "Requirement already satisfied: aif360 in /opt/anaconda3/lib/python3.9/site-packages (0.5.0)\n",
      "Requirement already satisfied: scipy>=1.2.0 in /opt/anaconda3/lib/python3.9/site-packages (from aif360) (1.9.1)\n",
      "Requirement already satisfied: numpy>=1.16 in /opt/anaconda3/lib/python3.9/site-packages (from aif360) (1.21.5)\n",
      "Requirement already satisfied: pandas>=0.24.0 in /opt/anaconda3/lib/python3.9/site-packages (from aif360) (1.4.4)\n",
      "Requirement already satisfied: matplotlib in /opt/anaconda3/lib/python3.9/site-packages (from aif360) (3.5.2)\n",
      "Requirement already satisfied: scikit-learn>=1.0 in /opt/anaconda3/lib/python3.9/site-packages (from aif360) (1.4.0)\n",
      "Requirement already satisfied: python-dateutil>=2.8.1 in /opt/anaconda3/lib/python3.9/site-packages (from pandas>=0.24.0->aif360) (2.8.2)\n",
      "Requirement already satisfied: pytz>=2020.1 in /opt/anaconda3/lib/python3.9/site-packages (from pandas>=0.24.0->aif360) (2022.1)\n",
      "Requirement already satisfied: joblib>=1.2.0 in /opt/anaconda3/lib/python3.9/site-packages (from scikit-learn>=1.0->aif360) (1.3.2)\n",
      "Requirement already satisfied: threadpoolctl>=2.0.0 in /opt/anaconda3/lib/python3.9/site-packages (from scikit-learn>=1.0->aif360) (2.2.0)\n",
      "Requirement already satisfied: kiwisolver>=1.0.1 in /opt/anaconda3/lib/python3.9/site-packages (from matplotlib->aif360) (1.4.2)\n",
      "Requirement already satisfied: cycler>=0.10 in /opt/anaconda3/lib/python3.9/site-packages (from matplotlib->aif360) (0.11.0)\n",
      "Requirement already satisfied: fonttools>=4.22.0 in /opt/anaconda3/lib/python3.9/site-packages (from matplotlib->aif360) (4.25.0)\n",
      "Requirement already satisfied: pyparsing>=2.2.1 in /opt/anaconda3/lib/python3.9/site-packages (from matplotlib->aif360) (3.0.9)\n",
      "Requirement already satisfied: packaging>=20.0 in /opt/anaconda3/lib/python3.9/site-packages (from matplotlib->aif360) (21.3)\n",
      "Requirement already satisfied: pillow>=6.2.0 in /opt/anaconda3/lib/python3.9/site-packages (from matplotlib->aif360) (9.2.0)\n",
      "Requirement already satisfied: six>=1.5 in /opt/anaconda3/lib/python3.9/site-packages (from python-dateutil>=2.8.1->pandas>=0.24.0->aif360) (1.16.0)\n",
      "Note: you may need to restart the kernel to use updated packages.\n"
     ]
    }
   ],
   "source": [
    "pip install aif360"
   ]
  },
  {
   "cell_type": "code",
   "execution_count": 3,
   "metadata": {},
   "outputs": [],
   "source": [
    "## Required statements\n",
    "import pandas as pd\n",
    "import numpy as np\n",
    "\n",
    "from sklearn import linear_model\n",
    "from sklearn.metrics import mean_squared_error\n",
    "from sklearn.model_selection import train_test_split, GridSearchCV\n",
    "from sklearn.preprocessing import LabelEncoder\n",
    "from sklearn.linear_model import LogisticRegression\n",
    "from sklearn.preprocessing import StandardScaler, OneHotEncoder\n",
    "from sklearn.metrics import accuracy_score\n",
    "from sklearn.compose import make_column_transformer\n",
    "from sklearn.pipeline import make_pipeline\n",
    "\n",
    "from aif360.datasets import BinaryLabelDataset, StandardDataset\n",
    "from aif360.datasets import AdultDataset\n",
    "from aif360.metrics import BinaryLabelDatasetMetric\n",
    "from aif360.metrics import ClassificationMetric\n",
    "\n",
    "from aif360.sklearn.datasets import standardize_dataset\n",
    "from aif360.sklearn.metrics import disparate_impact_ratio, average_odds_error, base_rate, ratio, difference\n",
    "\n",
    "from aif360.algorithms.preprocessing.optim_preproc_helpers.data_preproc_functions\\\n",
    "        import load_preproc_data_adult\n",
    "\n",
    "from aif360.metrics import BinaryLabelDatasetMetric\n",
    "\n",
    "from IPython.display import Markdown, display\n",
    "\n",
    "from IPython.display import Markdown, display\n",
    "import matplotlib.pyplot as plt\n",
    "import seaborn as sns\n",
    "%matplotlib inline"
   ]
  },
  {
   "cell_type": "markdown",
   "metadata": {},
   "source": [
    "# Session 05"
   ]
  },
  {
   "cell_type": "markdown",
   "metadata": {},
   "source": [
    "## 3.0 Introduction\n",
    "<br>\n",
    "<div class=\"alert alert-block alert-info col-md-12\">\n",
    "<p>In previous Lab we were using pandas to load the Adult dataset (See Lab2 notebook).<p>\n",
    "<p>In pandas we would use the following statements to load a dataset:</p>\n",
    "\n",
    "</div>\n",
    "\n",
    "\n",
    "\n",
    "\n"
   ]
  },
  {
   "cell_type": "code",
   "execution_count": null,
   "metadata": {
    "scrolled": true
   },
   "outputs": [],
   "source": [
    "columns_names = (\n",
    "    'age',\n",
    "    'workclass', #Private, Self-emp-not-inc, Self-emp-inc, Federal-gov, Local-gov, State-gov, Without-pay, Never-worked.\n",
    "    'fnlwgt', # \"weight\" of that person in the dataset (i.e. how many people does that person represent) -> https://www.kansascityfed.org/research/datamuseum/cps/coreinfo/keyconcepts/weights\n",
    "    'education',\n",
    "    'education-num',\n",
    "    'marital-status',\n",
    "    'occupation',\n",
    "    'relationship',\n",
    "    'race',\n",
    "    'sex',\n",
    "    'capital-gain',\n",
    "    'capital-loss',\n",
    "    'hours-per-week',\n",
    "    'native-country',\n",
    "    'income',\n",
    ")\n",
    "columns_types = {'age': str,\n",
    "    'workclass': 'category', \n",
    "    'fnlwgt': int, \n",
    "    'education':'category',\n",
    "    'education-num': int,\n",
    "    'marital-status':'category',\n",
    "    'occupation':'category',\n",
    "    'relationship':'category',\n",
    "    'race':'category',\n",
    "    'sex':'category',\n",
    "    'capital-gain':int,\n",
    "    'capital-loss':int,\n",
    "    'hours-per-week':int,\n",
    "    'native-country':'category',\n",
    "    'income':'category'\n",
    "                }\n",
    "\n",
    "df = pd.read_csv(\"../Data/adult.data\", names=columns_names, dtype=columns_types)\n",
    "df = df.dropna()\n",
    "df.head()"
   ]
  },
  {
   "cell_type": "markdown",
   "metadata": {},
   "source": [
    "## 3.1 AIF360"
   ]
  },
  {
   "cell_type": "markdown",
   "metadata": {},
   "source": [
    "AIF360 is a Python library developed by IBM that aims to help ML practicioners to include Algorithmic Fairness considerations on their developments.\n",
    "\n",
    "It's one of the most used libraries in the topic of Algorithmic Fairness and little by little is becoming an standard.\n",
    "\n",
    "Documentation is available [here](https://aif360.readthedocs.io/en/latest/)\n",
    "\n",
    "Video tutorial is available [here](https://www.youtube.com/watch?v=X1NsrcaRQTE)\n",
    "\n",
    "\n",
    "AIF360 offers tools for **fairness metrics** and **bias mitigation algorithms**"
   ]
  },
  {
   "cell_type": "markdown",
   "metadata": {},
   "source": [
    "## 3.2 Using AIF360"
   ]
  },
  {
   "cell_type": "markdown",
   "metadata": {},
   "source": [
    "### 1. Installation"
   ]
  },
  {
   "cell_type": "code",
   "execution_count": 11,
   "metadata": {},
   "outputs": [],
   "source": [
    "## Uncomment this line to install the last version of the library\n",
    "#!pip install -U aif360"
   ]
  },
  {
   "cell_type": "markdown",
   "metadata": {},
   "source": [
    "In AIF360, there is the class Dataset that can be used for similar purposes. AIF360 already has some pre-loaded datasets. \n",
    "\n",
    "In the following example, we will use again the Adult Census dataset."
   ]
  },
  {
   "cell_type": "markdown",
   "metadata": {},
   "source": [
    "### 2. Loading Common Datasets: \n",
    "\n",
    "#### Option A. Pre loaded in the tool\n",
    "\n",
    "\n",
    "Last versions of the libary do not install the preloaded datasets directly but require a manual installation of them. \n",
    "\n",
    "You can see [here](https://aif360.readthedocs.io/en/latest/modules/datasets.html#common-datasets) what are the **Common Datasets** that you can directly download.\n",
    "\n",
    "You can use the following script to automatize the downloading of the three main datasets:\n"
   ]
  },
  {
   "cell_type": "code",
   "execution_count": 12,
   "metadata": {},
   "outputs": [],
   "source": [
    "## Uncomment this to automatize the downloading of AIF pre-loaded datasets (we will use a custom dataset)\n",
    "\n",
    "## First: Check the PythonPath if its according to your python version and the actual path to be installed. \n",
    "#import os\n",
    "#import sys\n",
    "#print(os.path.dirname(sys.executable))\n",
    "\n",
    "## Second: Edit the sh with the correct path and execute the following line:\n",
    "#!sh download_aif360_datasets.sh"
   ]
  },
  {
   "cell_type": "markdown",
   "metadata": {},
   "source": [
    "#### Option b. Set a custom dataset\n",
    "\n",
    "Alternative, we will use the scikit-learn functions from AIF360 to load a custom dataset. See <a href=\"https://aif360.readthedocs.io/en/latest/modules/sklearn.html#module-aif360.sklearn.datasets\">documentation</a>.\n",
    "\n",
    "We will need to standarize the dataset in order to be used with AIF360 scikit-learn functions."
   ]
  },
  {
   "cell_type": "code",
   "execution_count": 13,
   "metadata": {},
   "outputs": [
    {
     "data": {
      "text/html": [
       "<div>\n",
       "<style scoped>\n",
       "    .dataframe tbody tr th:only-of-type {\n",
       "        vertical-align: middle;\n",
       "    }\n",
       "\n",
       "    .dataframe tbody tr th {\n",
       "        vertical-align: top;\n",
       "    }\n",
       "\n",
       "    .dataframe thead th {\n",
       "        text-align: right;\n",
       "    }\n",
       "</style>\n",
       "<table border=\"1\" class=\"dataframe\">\n",
       "  <thead>\n",
       "    <tr style=\"text-align: right;\">\n",
       "      <th></th>\n",
       "      <th></th>\n",
       "      <th>age</th>\n",
       "      <th>workclass</th>\n",
       "      <th>education</th>\n",
       "      <th>education-num</th>\n",
       "      <th>marital-status</th>\n",
       "      <th>occupation</th>\n",
       "      <th>relationship</th>\n",
       "      <th>race</th>\n",
       "      <th>sex</th>\n",
       "      <th>capital-gain</th>\n",
       "      <th>capital-loss</th>\n",
       "      <th>hours-per-week</th>\n",
       "      <th>native-country</th>\n",
       "    </tr>\n",
       "    <tr>\n",
       "      <th>race</th>\n",
       "      <th>sex</th>\n",
       "      <th></th>\n",
       "      <th></th>\n",
       "      <th></th>\n",
       "      <th></th>\n",
       "      <th></th>\n",
       "      <th></th>\n",
       "      <th></th>\n",
       "      <th></th>\n",
       "      <th></th>\n",
       "      <th></th>\n",
       "      <th></th>\n",
       "      <th></th>\n",
       "      <th></th>\n",
       "    </tr>\n",
       "  </thead>\n",
       "  <tbody>\n",
       "    <tr>\n",
       "      <th rowspan=\"3\" valign=\"top\">White</th>\n",
       "      <th>Male</th>\n",
       "      <td>39</td>\n",
       "      <td>State-gov</td>\n",
       "      <td>Bachelors</td>\n",
       "      <td>13</td>\n",
       "      <td>Never-married</td>\n",
       "      <td>Adm-clerical</td>\n",
       "      <td>Not-in-family</td>\n",
       "      <td>White</td>\n",
       "      <td>Male</td>\n",
       "      <td>2174</td>\n",
       "      <td>0</td>\n",
       "      <td>40</td>\n",
       "      <td>United-States</td>\n",
       "    </tr>\n",
       "    <tr>\n",
       "      <th>Male</th>\n",
       "      <td>50</td>\n",
       "      <td>Self-emp-not-inc</td>\n",
       "      <td>Bachelors</td>\n",
       "      <td>13</td>\n",
       "      <td>Married-civ-spouse</td>\n",
       "      <td>Exec-managerial</td>\n",
       "      <td>Husband</td>\n",
       "      <td>White</td>\n",
       "      <td>Male</td>\n",
       "      <td>0</td>\n",
       "      <td>0</td>\n",
       "      <td>13</td>\n",
       "      <td>United-States</td>\n",
       "    </tr>\n",
       "    <tr>\n",
       "      <th>Male</th>\n",
       "      <td>38</td>\n",
       "      <td>Private</td>\n",
       "      <td>HS-grad</td>\n",
       "      <td>9</td>\n",
       "      <td>Divorced</td>\n",
       "      <td>Handlers-cleaners</td>\n",
       "      <td>Not-in-family</td>\n",
       "      <td>White</td>\n",
       "      <td>Male</td>\n",
       "      <td>0</td>\n",
       "      <td>0</td>\n",
       "      <td>40</td>\n",
       "      <td>United-States</td>\n",
       "    </tr>\n",
       "    <tr>\n",
       "      <th rowspan=\"2\" valign=\"top\">Black</th>\n",
       "      <th>Male</th>\n",
       "      <td>53</td>\n",
       "      <td>Private</td>\n",
       "      <td>11th</td>\n",
       "      <td>7</td>\n",
       "      <td>Married-civ-spouse</td>\n",
       "      <td>Handlers-cleaners</td>\n",
       "      <td>Husband</td>\n",
       "      <td>Black</td>\n",
       "      <td>Male</td>\n",
       "      <td>0</td>\n",
       "      <td>0</td>\n",
       "      <td>40</td>\n",
       "      <td>United-States</td>\n",
       "    </tr>\n",
       "    <tr>\n",
       "      <th>Female</th>\n",
       "      <td>28</td>\n",
       "      <td>Private</td>\n",
       "      <td>Bachelors</td>\n",
       "      <td>13</td>\n",
       "      <td>Married-civ-spouse</td>\n",
       "      <td>Prof-specialty</td>\n",
       "      <td>Wife</td>\n",
       "      <td>Black</td>\n",
       "      <td>Female</td>\n",
       "      <td>0</td>\n",
       "      <td>0</td>\n",
       "      <td>40</td>\n",
       "      <td>Cuba</td>\n",
       "    </tr>\n",
       "    <tr>\n",
       "      <th>...</th>\n",
       "      <th>...</th>\n",
       "      <td>...</td>\n",
       "      <td>...</td>\n",
       "      <td>...</td>\n",
       "      <td>...</td>\n",
       "      <td>...</td>\n",
       "      <td>...</td>\n",
       "      <td>...</td>\n",
       "      <td>...</td>\n",
       "      <td>...</td>\n",
       "      <td>...</td>\n",
       "      <td>...</td>\n",
       "      <td>...</td>\n",
       "      <td>...</td>\n",
       "    </tr>\n",
       "    <tr>\n",
       "      <th rowspan=\"5\" valign=\"top\">White</th>\n",
       "      <th>Female</th>\n",
       "      <td>27</td>\n",
       "      <td>Private</td>\n",
       "      <td>Assoc-acdm</td>\n",
       "      <td>12</td>\n",
       "      <td>Married-civ-spouse</td>\n",
       "      <td>Tech-support</td>\n",
       "      <td>Wife</td>\n",
       "      <td>White</td>\n",
       "      <td>Female</td>\n",
       "      <td>0</td>\n",
       "      <td>0</td>\n",
       "      <td>38</td>\n",
       "      <td>United-States</td>\n",
       "    </tr>\n",
       "    <tr>\n",
       "      <th>Male</th>\n",
       "      <td>40</td>\n",
       "      <td>Private</td>\n",
       "      <td>HS-grad</td>\n",
       "      <td>9</td>\n",
       "      <td>Married-civ-spouse</td>\n",
       "      <td>Machine-op-inspct</td>\n",
       "      <td>Husband</td>\n",
       "      <td>White</td>\n",
       "      <td>Male</td>\n",
       "      <td>0</td>\n",
       "      <td>0</td>\n",
       "      <td>40</td>\n",
       "      <td>United-States</td>\n",
       "    </tr>\n",
       "    <tr>\n",
       "      <th>Female</th>\n",
       "      <td>58</td>\n",
       "      <td>Private</td>\n",
       "      <td>HS-grad</td>\n",
       "      <td>9</td>\n",
       "      <td>Widowed</td>\n",
       "      <td>Adm-clerical</td>\n",
       "      <td>Unmarried</td>\n",
       "      <td>White</td>\n",
       "      <td>Female</td>\n",
       "      <td>0</td>\n",
       "      <td>0</td>\n",
       "      <td>40</td>\n",
       "      <td>United-States</td>\n",
       "    </tr>\n",
       "    <tr>\n",
       "      <th>Male</th>\n",
       "      <td>22</td>\n",
       "      <td>Private</td>\n",
       "      <td>HS-grad</td>\n",
       "      <td>9</td>\n",
       "      <td>Never-married</td>\n",
       "      <td>Adm-clerical</td>\n",
       "      <td>Own-child</td>\n",
       "      <td>White</td>\n",
       "      <td>Male</td>\n",
       "      <td>0</td>\n",
       "      <td>0</td>\n",
       "      <td>20</td>\n",
       "      <td>United-States</td>\n",
       "    </tr>\n",
       "    <tr>\n",
       "      <th>Female</th>\n",
       "      <td>52</td>\n",
       "      <td>Self-emp-inc</td>\n",
       "      <td>HS-grad</td>\n",
       "      <td>9</td>\n",
       "      <td>Married-civ-spouse</td>\n",
       "      <td>Exec-managerial</td>\n",
       "      <td>Wife</td>\n",
       "      <td>White</td>\n",
       "      <td>Female</td>\n",
       "      <td>15024</td>\n",
       "      <td>0</td>\n",
       "      <td>40</td>\n",
       "      <td>United-States</td>\n",
       "    </tr>\n",
       "  </tbody>\n",
       "</table>\n",
       "<p>32560 rows × 13 columns</p>\n",
       "</div>"
      ],
      "text/plain": [
       "               age          workclass    education  education-num  \\\n",
       "race   sex                                                          \n",
       " White  Male    39          State-gov    Bachelors             13   \n",
       "        Male    50   Self-emp-not-inc    Bachelors             13   \n",
       "        Male    38            Private      HS-grad              9   \n",
       " Black  Male    53            Private         11th              7   \n",
       "        Female  28            Private    Bachelors             13   \n",
       "...             ..                ...          ...            ...   \n",
       " White  Female  27            Private   Assoc-acdm             12   \n",
       "        Male    40            Private      HS-grad              9   \n",
       "        Female  58            Private      HS-grad              9   \n",
       "        Male    22            Private      HS-grad              9   \n",
       "        Female  52       Self-emp-inc      HS-grad              9   \n",
       "\n",
       "                     marital-status          occupation    relationship  \\\n",
       "race   sex                                                                \n",
       " White  Male          Never-married        Adm-clerical   Not-in-family   \n",
       "        Male     Married-civ-spouse     Exec-managerial         Husband   \n",
       "        Male               Divorced   Handlers-cleaners   Not-in-family   \n",
       " Black  Male     Married-civ-spouse   Handlers-cleaners         Husband   \n",
       "        Female   Married-civ-spouse      Prof-specialty            Wife   \n",
       "...                             ...                 ...             ...   \n",
       " White  Female   Married-civ-spouse        Tech-support            Wife   \n",
       "        Male     Married-civ-spouse   Machine-op-inspct         Husband   \n",
       "        Female              Widowed        Adm-clerical       Unmarried   \n",
       "        Male          Never-married        Adm-clerical       Own-child   \n",
       "        Female   Married-civ-spouse     Exec-managerial            Wife   \n",
       "\n",
       "                  race      sex  capital-gain  capital-loss  hours-per-week  \\\n",
       "race   sex                                                                    \n",
       " White  Male     White     Male          2174             0              40   \n",
       "        Male     White     Male             0             0              13   \n",
       "        Male     White     Male             0             0              40   \n",
       " Black  Male     Black     Male             0             0              40   \n",
       "        Female   Black   Female             0             0              40   \n",
       "...                ...      ...           ...           ...             ...   \n",
       " White  Female   White   Female             0             0              38   \n",
       "        Male     White     Male             0             0              40   \n",
       "        Female   White   Female             0             0              40   \n",
       "        Male     White     Male             0             0              20   \n",
       "        Female   White   Female         15024             0              40   \n",
       "\n",
       "                native-country  \n",
       "race   sex                      \n",
       " White  Male     United-States  \n",
       "        Male     United-States  \n",
       "        Male     United-States  \n",
       " Black  Male     United-States  \n",
       "        Female            Cuba  \n",
       "...                        ...  \n",
       " White  Female   United-States  \n",
       "        Male     United-States  \n",
       "        Female   United-States  \n",
       "        Male     United-States  \n",
       "        Female   United-States  \n",
       "\n",
       "[32560 rows x 13 columns]"
      ]
     },
     "execution_count": 13,
     "metadata": {},
     "output_type": "execute_result"
    }
   ],
   "source": [
    "#Examples and other sources:\n",
    "# https://github.com/Trusted-AI/AIF360/blob/master/examples/sklearn/monthly_bee_datasets_metrics.ipynb\n",
    "# https://github.com/Trusted-AI/AIF360/blob/master/examples/sklearn/demo_new_features.ipynb    \n",
    "\n",
    "columns_names = (\n",
    "    'age',\n",
    "    'workclass', #Private, Self-emp-not-inc, Self-emp-inc, Federal-gov, Local-gov, State-gov, Without-pay, Never-worked.\n",
    "    #'fnlwgt', # \"weight\" of that person in the dataset (i.e. how many people does that person represent) -> https://www.kansascityfed.org/research/datamuseum/cps/coreinfo/keyconcepts/weights\n",
    "    'education',\n",
    "    'education-num',\n",
    "    'marital-status',\n",
    "    'occupation',\n",
    "    'relationship',\n",
    "    'race',\n",
    "    'sex',\n",
    "    'capital-gain',\n",
    "    'capital-loss',\n",
    "    'hours-per-week',\n",
    "    'native-country',\n",
    "    #'income'\n",
    ")\n",
    "\n",
    "X, y, sample_weight = standardize_dataset(df, prot_attr=['race', 'sex'], target='income',sample_weight='fnlwgt', usecols=columns_names)\n",
    "X"
   ]
  },
  {
   "cell_type": "code",
   "execution_count": 14,
   "metadata": {},
   "outputs": [],
   "source": [
    "#We can then map the protected attributes to integers,\n",
    "X.index = pd.MultiIndex.from_arrays(X.index.codes, names=X.index.names)\n",
    "y.index = pd.MultiIndex.from_arrays(y.index.codes, names=y.index.names)\n",
    "\n",
    "#and the target classes to 0/1\n",
    "y = pd.Series(y.factorize(sort=True)[0], index=y.index)"
   ]
  },
  {
   "cell_type": "code",
   "execution_count": 15,
   "metadata": {},
   "outputs": [
    {
     "name": "stderr",
     "output_type": "stream",
     "text": [
      "/Users/aitanagonzalezcardenas/opt/anaconda3/lib/python3.8/site-packages/sklearn/preprocessing/_encoders.py:975: FutureWarning: `sparse` was renamed to `sparse_output` in version 1.2 and will be removed in 1.4. `sparse_output` is ignored unless you leave `sparse` to its default value.\n",
      "  warnings.warn(\n"
     ]
    },
    {
     "data": {
      "text/html": [
       "<div>\n",
       "<style scoped>\n",
       "    .dataframe tbody tr th:only-of-type {\n",
       "        vertical-align: middle;\n",
       "    }\n",
       "\n",
       "    .dataframe tbody tr th {\n",
       "        vertical-align: top;\n",
       "    }\n",
       "\n",
       "    .dataframe thead th {\n",
       "        text-align: right;\n",
       "    }\n",
       "</style>\n",
       "<table border=\"1\" class=\"dataframe\">\n",
       "  <thead>\n",
       "    <tr style=\"text-align: right;\">\n",
       "      <th></th>\n",
       "      <th></th>\n",
       "      <th>workclass_ ?</th>\n",
       "      <th>workclass_ Federal-gov</th>\n",
       "      <th>workclass_ Local-gov</th>\n",
       "      <th>workclass_ Never-worked</th>\n",
       "      <th>workclass_ Private</th>\n",
       "      <th>workclass_ Self-emp-inc</th>\n",
       "      <th>workclass_ Self-emp-not-inc</th>\n",
       "      <th>workclass_ State-gov</th>\n",
       "      <th>workclass_ Without-pay</th>\n",
       "      <th>education_ 10th</th>\n",
       "      <th>...</th>\n",
       "      <th>native-country_ Thailand</th>\n",
       "      <th>native-country_ Trinadad&amp;Tobago</th>\n",
       "      <th>native-country_ United-States</th>\n",
       "      <th>native-country_ Vietnam</th>\n",
       "      <th>native-country_ Yugoslavia</th>\n",
       "      <th>age</th>\n",
       "      <th>education-num</th>\n",
       "      <th>capital-gain</th>\n",
       "      <th>capital-loss</th>\n",
       "      <th>hours-per-week</th>\n",
       "    </tr>\n",
       "    <tr>\n",
       "      <th>race</th>\n",
       "      <th>sex</th>\n",
       "      <th></th>\n",
       "      <th></th>\n",
       "      <th></th>\n",
       "      <th></th>\n",
       "      <th></th>\n",
       "      <th></th>\n",
       "      <th></th>\n",
       "      <th></th>\n",
       "      <th></th>\n",
       "      <th></th>\n",
       "      <th></th>\n",
       "      <th></th>\n",
       "      <th></th>\n",
       "      <th></th>\n",
       "      <th></th>\n",
       "      <th></th>\n",
       "      <th></th>\n",
       "      <th></th>\n",
       "      <th></th>\n",
       "      <th></th>\n",
       "      <th></th>\n",
       "    </tr>\n",
       "  </thead>\n",
       "  <tbody>\n",
       "    <tr>\n",
       "      <th rowspan=\"5\" valign=\"top\">4</th>\n",
       "      <th>0</th>\n",
       "      <td>0.0</td>\n",
       "      <td>0.0</td>\n",
       "      <td>0.0</td>\n",
       "      <td>0.0</td>\n",
       "      <td>1.0</td>\n",
       "      <td>0.0</td>\n",
       "      <td>0.0</td>\n",
       "      <td>0.0</td>\n",
       "      <td>0.0</td>\n",
       "      <td>0.0</td>\n",
       "      <td>...</td>\n",
       "      <td>0.0</td>\n",
       "      <td>0.0</td>\n",
       "      <td>1.0</td>\n",
       "      <td>0.0</td>\n",
       "      <td>0.0</td>\n",
       "      <td>64</td>\n",
       "      <td>7</td>\n",
       "      <td>0</td>\n",
       "      <td>0</td>\n",
       "      <td>16</td>\n",
       "    </tr>\n",
       "    <tr>\n",
       "      <th>0</th>\n",
       "      <td>0.0</td>\n",
       "      <td>0.0</td>\n",
       "      <td>0.0</td>\n",
       "      <td>0.0</td>\n",
       "      <td>1.0</td>\n",
       "      <td>0.0</td>\n",
       "      <td>0.0</td>\n",
       "      <td>0.0</td>\n",
       "      <td>0.0</td>\n",
       "      <td>0.0</td>\n",
       "      <td>...</td>\n",
       "      <td>0.0</td>\n",
       "      <td>0.0</td>\n",
       "      <td>1.0</td>\n",
       "      <td>0.0</td>\n",
       "      <td>0.0</td>\n",
       "      <td>22</td>\n",
       "      <td>10</td>\n",
       "      <td>0</td>\n",
       "      <td>0</td>\n",
       "      <td>40</td>\n",
       "    </tr>\n",
       "    <tr>\n",
       "      <th>1</th>\n",
       "      <td>0.0</td>\n",
       "      <td>0.0</td>\n",
       "      <td>0.0</td>\n",
       "      <td>0.0</td>\n",
       "      <td>1.0</td>\n",
       "      <td>0.0</td>\n",
       "      <td>0.0</td>\n",
       "      <td>0.0</td>\n",
       "      <td>0.0</td>\n",
       "      <td>0.0</td>\n",
       "      <td>...</td>\n",
       "      <td>0.0</td>\n",
       "      <td>0.0</td>\n",
       "      <td>0.0</td>\n",
       "      <td>0.0</td>\n",
       "      <td>0.0</td>\n",
       "      <td>42</td>\n",
       "      <td>13</td>\n",
       "      <td>0</td>\n",
       "      <td>0</td>\n",
       "      <td>45</td>\n",
       "    </tr>\n",
       "    <tr>\n",
       "      <th>0</th>\n",
       "      <td>0.0</td>\n",
       "      <td>0.0</td>\n",
       "      <td>0.0</td>\n",
       "      <td>0.0</td>\n",
       "      <td>1.0</td>\n",
       "      <td>0.0</td>\n",
       "      <td>0.0</td>\n",
       "      <td>0.0</td>\n",
       "      <td>0.0</td>\n",
       "      <td>0.0</td>\n",
       "      <td>...</td>\n",
       "      <td>0.0</td>\n",
       "      <td>0.0</td>\n",
       "      <td>1.0</td>\n",
       "      <td>0.0</td>\n",
       "      <td>0.0</td>\n",
       "      <td>18</td>\n",
       "      <td>8</td>\n",
       "      <td>0</td>\n",
       "      <td>0</td>\n",
       "      <td>30</td>\n",
       "    </tr>\n",
       "    <tr>\n",
       "      <th>0</th>\n",
       "      <td>0.0</td>\n",
       "      <td>0.0</td>\n",
       "      <td>0.0</td>\n",
       "      <td>0.0</td>\n",
       "      <td>1.0</td>\n",
       "      <td>0.0</td>\n",
       "      <td>0.0</td>\n",
       "      <td>0.0</td>\n",
       "      <td>0.0</td>\n",
       "      <td>0.0</td>\n",
       "      <td>...</td>\n",
       "      <td>0.0</td>\n",
       "      <td>0.0</td>\n",
       "      <td>1.0</td>\n",
       "      <td>0.0</td>\n",
       "      <td>0.0</td>\n",
       "      <td>40</td>\n",
       "      <td>9</td>\n",
       "      <td>0</td>\n",
       "      <td>0</td>\n",
       "      <td>38</td>\n",
       "    </tr>\n",
       "  </tbody>\n",
       "</table>\n",
       "<p>5 rows × 106 columns</p>\n",
       "</div>"
      ],
      "text/plain": [
       "         workclass_ ? workclass_ Federal-gov workclass_ Local-gov  \\\n",
       "race sex                                                            \n",
       "4    0            0.0                    0.0                  0.0   \n",
       "     0            0.0                    0.0                  0.0   \n",
       "     1            0.0                    0.0                  0.0   \n",
       "     0            0.0                    0.0                  0.0   \n",
       "     0            0.0                    0.0                  0.0   \n",
       "\n",
       "         workclass_ Never-worked workclass_ Private workclass_ Self-emp-inc  \\\n",
       "race sex                                                                      \n",
       "4    0                       0.0                1.0                     0.0   \n",
       "     0                       0.0                1.0                     0.0   \n",
       "     1                       0.0                1.0                     0.0   \n",
       "     0                       0.0                1.0                     0.0   \n",
       "     0                       0.0                1.0                     0.0   \n",
       "\n",
       "         workclass_ Self-emp-not-inc workclass_ State-gov  \\\n",
       "race sex                                                    \n",
       "4    0                           0.0                  0.0   \n",
       "     0                           0.0                  0.0   \n",
       "     1                           0.0                  0.0   \n",
       "     0                           0.0                  0.0   \n",
       "     0                           0.0                  0.0   \n",
       "\n",
       "         workclass_ Without-pay education_ 10th  ... native-country_ Thailand  \\\n",
       "race sex                                         ...                            \n",
       "4    0                      0.0             0.0  ...                      0.0   \n",
       "     0                      0.0             0.0  ...                      0.0   \n",
       "     1                      0.0             0.0  ...                      0.0   \n",
       "     0                      0.0             0.0  ...                      0.0   \n",
       "     0                      0.0             0.0  ...                      0.0   \n",
       "\n",
       "         native-country_ Trinadad&Tobago native-country_ United-States  \\\n",
       "race sex                                                                 \n",
       "4    0                               0.0                           1.0   \n",
       "     0                               0.0                           1.0   \n",
       "     1                               0.0                           0.0   \n",
       "     0                               0.0                           1.0   \n",
       "     0                               0.0                           1.0   \n",
       "\n",
       "         native-country_ Vietnam native-country_ Yugoslavia age education-num  \\\n",
       "race sex                                                                        \n",
       "4    0                       0.0                        0.0  64             7   \n",
       "     0                       0.0                        0.0  22            10   \n",
       "     1                       0.0                        0.0  42            13   \n",
       "     0                       0.0                        0.0  18             8   \n",
       "     0                       0.0                        0.0  40             9   \n",
       "\n",
       "         capital-gain capital-loss hours-per-week  \n",
       "race sex                                           \n",
       "4    0              0            0             16  \n",
       "     0              0            0             40  \n",
       "     1              0            0             45  \n",
       "     0              0            0             30  \n",
       "     0              0            0             38  \n",
       "\n",
       "[5 rows x 106 columns]"
      ]
     },
     "execution_count": 15,
     "metadata": {},
     "output_type": "execute_result"
    }
   ],
   "source": [
    "#Then we need to split the dataset\n",
    "(X_train, X_test,\n",
    " y_train, y_test) = train_test_split(X, y, train_size=0.7, random_state=1234567)\n",
    "\n",
    "#Onehotencoding the features\n",
    "ohe = make_column_transformer(\n",
    "        (OneHotEncoder(sparse=False), X_train.dtypes == 'category'),\n",
    "        remainder='passthrough', verbose_feature_names_out=False)\n",
    "X_train  = pd.DataFrame(ohe.fit_transform(X_train), columns=ohe.get_feature_names_out(), index=X_train.index)\n",
    "X_test = pd.DataFrame(ohe.transform(X_test), columns=ohe.get_feature_names_out(), index=X_test.index)\n",
    "\n",
    "X_train.head()"
   ]
  },
  {
   "cell_type": "code",
   "execution_count": 16,
   "metadata": {},
   "outputs": [
    {
     "data": {
      "text/plain": [
       "0.3635311214505411"
      ]
     },
     "execution_count": 16,
     "metadata": {},
     "output_type": "execute_result"
    }
   ],
   "source": [
    "#we can analyse the disparate impact on the original dataset for sex\n",
    "disparate_impact_ratio(y_train, prot_attr='sex')"
   ]
  },
  {
   "cell_type": "code",
   "execution_count": 17,
   "metadata": {},
   "outputs": [
    {
     "data": {
      "text/plain": [
       "0.8472563472563472"
      ]
     },
     "execution_count": 17,
     "metadata": {},
     "output_type": "execute_result"
    }
   ],
   "source": [
    "# With the data in this format, we can easily train a scikit-learn model and get predictions for the test data:\n",
    "\n",
    "y_pred = LogisticRegression(solver='liblinear').fit(X_train, y_train).predict(X_test)\n",
    "accuracy_score(y_test, y_pred)"
   ]
  },
  {
   "cell_type": "code",
   "execution_count": 18,
   "metadata": {},
   "outputs": [
    {
     "data": {
      "text/plain": [
       "0.10931549143991781"
      ]
     },
     "execution_count": 18,
     "metadata": {},
     "output_type": "execute_result"
    }
   ],
   "source": [
    "#we can analyse the accuracy difference on the original dataset for each group\n",
    "difference(accuracy_score, y_test, y_pred, prot_attr='sex')"
   ]
  },
  {
   "cell_type": "code",
   "execution_count": 19,
   "metadata": {},
   "outputs": [
    {
     "data": {
      "text/plain": [
       "0.28638213103054927"
      ]
     },
     "execution_count": 19,
     "metadata": {},
     "output_type": "execute_result"
    }
   ],
   "source": [
    "# Now, we can analyze our predictions and quickly calucate the disparate impact for females vs. males:\n",
    "\n",
    "disparate_impact_ratio(y_test, y_pred, prot_attr='sex')"
   ]
  },
  {
   "cell_type": "code",
   "execution_count": 21,
   "metadata": {},
   "outputs": [
    {
     "data": {
      "text/plain": [
       "0.10375466247790618"
      ]
     },
     "execution_count": 21,
     "metadata": {},
     "output_type": "execute_result"
    }
   ],
   "source": [
    "# And similarly, we can assess how close the predictions are to equality of odds.\n",
    "average_odds_error(y_test, y_pred, prot_attr='sex')"
   ]
  },
  {
   "cell_type": "code",
   "execution_count": 22,
   "metadata": {},
   "outputs": [
    {
     "data": {
      "text/plain": [
       "0.7987925654592322"
      ]
     },
     "execution_count": 22,
     "metadata": {},
     "output_type": "execute_result"
    }
   ],
   "source": [
    "'''\n",
    "In that case, we chose to look at the intersection of all protected attributes (race and sex) and designate a single combination (white males) as privileged.\n",
    "\n",
    "If we wish to do something more complex, we can pass a custom array of protected attributes, like so (note: this choice of protected groups is just for demonstration):\n",
    "'''\n",
    "\n",
    "di_test = disparate_impact_ratio(y_test, y_pred, prot_attr='race')\n",
    "di_test"
   ]
  },
  {
   "cell_type": "code",
   "execution_count": 1,
   "metadata": {},
   "outputs": [
    {
     "ename": "NameError",
     "evalue": "name 'X_train' is not defined",
     "output_type": "error",
     "traceback": [
      "\u001b[0;31m---------------------------------------------------------------------------\u001b[0m",
      "\u001b[0;31mNameError\u001b[0m                                 Traceback (most recent call last)",
      "\u001b[0;32m/var/folders/1z/rv7tklz53bq5df2t4s7wkyf80000gn/T/ipykernel_1518/3359505048.py\u001b[0m in \u001b[0;36m<module>\u001b[0;34m\u001b[0m\n\u001b[1;32m      1\u001b[0m \u001b[0;31m#preparing the data by changing the dtype of columns\u001b[0m\u001b[0;34m\u001b[0m\u001b[0;34m\u001b[0m\u001b[0m\n\u001b[0;32m----> 2\u001b[0;31m \u001b[0ms\u001b[0m \u001b[0;34m=\u001b[0m \u001b[0mX_train\u001b[0m\u001b[0;34m.\u001b[0m\u001b[0mselect_dtypes\u001b[0m\u001b[0;34m(\u001b[0m\u001b[0minclude\u001b[0m\u001b[0;34m=\u001b[0m\u001b[0;34m'object'\u001b[0m\u001b[0;34m)\u001b[0m\u001b[0;34m.\u001b[0m\u001b[0mcolumns\u001b[0m\u001b[0;34m\u001b[0m\u001b[0;34m\u001b[0m\u001b[0m\n\u001b[0m\u001b[1;32m      3\u001b[0m \u001b[0mX_train\u001b[0m\u001b[0;34m[\u001b[0m\u001b[0ms\u001b[0m\u001b[0;34m]\u001b[0m \u001b[0;34m=\u001b[0m \u001b[0mX_train\u001b[0m\u001b[0;34m[\u001b[0m\u001b[0ms\u001b[0m\u001b[0;34m]\u001b[0m\u001b[0;34m.\u001b[0m\u001b[0mastype\u001b[0m\u001b[0;34m(\u001b[0m\u001b[0;34m\"float\"\u001b[0m\u001b[0;34m)\u001b[0m\u001b[0;34m\u001b[0m\u001b[0;34m\u001b[0m\u001b[0m\n\u001b[1;32m      4\u001b[0m \u001b[0;34m\u001b[0m\u001b[0m\n\u001b[1;32m      5\u001b[0m \u001b[0;31m#training an XGBoost classifier\u001b[0m\u001b[0;34m\u001b[0m\u001b[0;34m\u001b[0m\u001b[0m\n",
      "\u001b[0;31mNameError\u001b[0m: name 'X_train' is not defined"
     ]
    }
   ],
   "source": [
    "#preparing the data by changing the dtype of columns\n",
    "s = X_train.select_dtypes(include='object').columns\n",
    "X_train[s] = X_train[s].astype(\"float\")\n",
    "\n",
    "#training an XGBoost classifier\n",
    "barWidth = 0.9\n",
    "model = XGBClassifier(objective=\"binary:logistic\")\n",
    "model.fit(X_train, y_train)\n",
    "importances = pd.DataFrame(data={\n",
    "    'Attribute': X_train.columns,\n",
    "    'Importance': model.feature_importances_\n",
    "})\n",
    "importances = importances.sort_values(by='Importance', ascending=False)\n",
    "\n",
    "#plot\n",
    "plt.figure(4, figsize=(12, 6))\n",
    "plt.bar(x=importances['Attribute'], height=importances['Importance'], color='#FF796C', width=barWidth,\n",
    "        edgecolor='black')\n",
    "plt.title('Risk Factors with XGB Regressor', size=20)\n",
    "plt.xticks(rotation='vertical', fontsize=6)\n",
    "plt.yticks(fontsize=14)\n",
    "plt.ylabel('Coefficient of Importance', fontsize=14)\n",
    "plt.show()"
   ]
  },
  {
   "cell_type": "markdown",
   "metadata": {},
   "source": [
    "<div class=\"alert alert-block alert-primary bg-primary head-2\">\n",
    "    <h2 class=\"alert-heading\">Lab 3 in-class exercise 1: train a different classifier</h2>\n",
    "    <hr>\n",
    "     <p class=\"mb-0\">Use the data above to train three different scikit-learn classifiers of your election and store them in an array.</p>\n",
    "</div>"
   ]
  },
  {
   "cell_type": "code",
   "execution_count": 27,
   "metadata": {},
   "outputs": [],
   "source": [
    "## Your code here\n",
    "#clfs = []"
   ]
  },
  {
   "cell_type": "markdown",
   "metadata": {},
   "source": [
    "### 7. Predicting classification for the test set\n",
    "\n",
    "<div class=\"alert alert-block alert-primary bg-primary head-2\">\n",
    "    <h2 class=\"alert-heading\">Lab 3 in-class exercise 2: Obtaining predictions </h2>\n",
    "    <hr>\n",
    "     <p class=\"mb-0\">Get the predictions for our X_test for each of the classifiers. Store the resulting result on an array.</p>\n",
    "</div>"
   ]
  },
  {
   "cell_type": "code",
   "execution_count": 16,
   "metadata": {},
   "outputs": [],
   "source": [
    "## Your code_here\n",
    "#clfs_preds = []\n",
    "\n",
    "dataset_orig_test_pred = dataset_orig_test.copy(deepcopy=True)\n",
    "X_test = scale_orig.transform(dataset_orig_test_pred.features)\n",
    "y_test = dataset_orig_test_pred.labels\n",
    "dataset_orig_test_pred.scores = lmod.predict_proba(X_test)[:,pos_ind].reshape(-1,1)\n"
   ]
  },
  {
   "cell_type": "markdown",
   "metadata": {},
   "source": [
    "### 8. Assessing classification fairness for the predictions\n",
    "\n",
    "In this cell, we will assess different [classification fairness metrics](https://aif360.readthedocs.io/en/latest/modules/generated/aif360.metrics.ClassificationMetric.html#aif360.metrics.ClassificationMetric)\n",
    "\n",
    "In this analysis, we will use:\n",
    "- **Balanced accuracy.** \n",
    "Accuracy balanced across privileged and unprivileged individuals.\n",
    "$$0.5 * ACC_{D=unprivileged} + 0.5*ACC_{D=privileged} $$\n",
    "\n",
    "\n",
    "- **Average odds difference.** \n",
    "Average of difference in FPR and TPR for unprivileged and privileged groups:\n",
    "$$\\frac{1}{2}[(FPR_{D=unprivileged} - FPR_{D=privileged}) + (TPR_{D=unprivileged}-TPR_{D=unprivileged})]$$\n",
    "\n",
    "- **Disparate impact.** \n",
    "Ratio of probabilities of favorable label predicted for each group:\n",
    "$$\\frac{P(\\hat Y = 1 | D=unprivileged)}{P(\\hat Y = 1 | D=privileged)}$$\n",
    "\n",
    "- **Error rate ratio.** Ratio of error rate for across groups:\n",
    "$$\\frac{ERR_{D=unprivileged}}{ERR_{D=privileged}}$$"
   ]
  },
  {
   "cell_type": "markdown",
   "metadata": {},
   "source": [
    "<div class=\"alert alert-block alert-primary bg-primary head-2\">\n",
    "    <h2 class=\"alert-heading\">Lab 3 in-class exercise 3: Assess classification fairness </h2>\n",
    "    <hr>\n",
    "     <p class=\"mb-0\">Using the prediction results seen above, obtain the values for each of the fairness metrics mentioned above and store them in an array.</p>\n",
    "    <p>See fairness metrics for scikit-learn <a href=\"https://aif360.readthedocs.io/en/latest/modules/sklearn.html#module-aif360.sklearn.metrics\">here</a>.</p>\n",
    "</div>"
   ]
  },
  {
   "cell_type": "code",
   "execution_count": 24,
   "metadata": {},
   "outputs": [],
   "source": [
    "## Your code here"
   ]
  },
  {
   "cell_type": "markdown",
   "metadata": {},
   "source": [
    "### 9. Plotting and interpretation of the obtained results\n",
    "\n",
    "<div class=\"alert alert-block alert-primary bg-primary head-2\">\n",
    "    <h2 class=\"alert-heading\">Lab 3 in-class exercise 4: Plot results </h2>\n",
    "    <hr>\n",
    "     <p class=\"mb-0\">Plot the obtained values for the classification metrics for each of the trained classifiers.</p>\n",
    "</div>"
   ]
  },
  {
   "cell_type": "code",
   "execution_count": 26,
   "metadata": {},
   "outputs": [],
   "source": [
    "## Your code here"
   ]
  },
  {
   "cell_type": "markdown",
   "metadata": {},
   "source": [
    "<div class=\"alert alert-block alert-primary bg-primary head-2\">\n",
    "    <h2 class=\"alert-heading\">Lab 3 in-class exercise 5: Interpret the results </h2>\n",
    "    <hr>\n",
    "     <p class=\"mb-0\">Provide an interpretation of the observed results (max 5 lines)</p>\n",
    "    <p>Focusing in the two metrics for which you observe bigger and smaller differences is enough.</p>\n",
    "\n",
    "</div>\n"
   ]
  },
  {
   "cell_type": "markdown",
   "metadata": {},
   "source": [
    "**Your answer here**:"
   ]
  }
 ],
 "metadata": {
  "kernelspec": {
   "display_name": "Python 3 (ipykernel)",
   "language": "python",
   "name": "python3"
  },
  "language_info": {
   "codemirror_mode": {
    "name": "ipython",
    "version": 3
   },
   "file_extension": ".py",
   "mimetype": "text/x-python",
   "name": "python",
   "nbconvert_exporter": "python",
   "pygments_lexer": "ipython3",
   "version": "3.9.13"
  }
 },
 "nbformat": 4,
 "nbformat_minor": 2
}
