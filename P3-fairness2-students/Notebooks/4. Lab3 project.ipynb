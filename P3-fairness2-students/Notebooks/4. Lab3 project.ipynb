{
 "cells": [
  {
   "cell_type": "markdown",
   "metadata": {},
   "source": [
    "# Fairness, Accountability, Transparency and Ethics Course (FATE)\n",
    "\n",
    "## Universitat Pompeu Fabra (UPF)\n",
    "### Year 23/24\n",
    "### Author: Manuel Portela (manuel.portela@upf.edu) with the contribution from Ioannis Bilionis (ibilionis@adherahealth.com)\n",
    "*** Partially based on the original exercises made by David Solans (david.solans@upf.edu) ***\n",
    "<br>\n",
    "<br>\n",
    "<br>\n",
    "Submission date: 22/03/2024 at 23:59 on Aula Global\n",
    "\n",
    "Please, implement this notebook **in pairs**.\n",
    "\n",
    "<br>\n",
    "<br>"
   ]
  },
  {
   "cell_type": "markdown",
   "metadata": {},
   "source": [
    "**Legend** <br>\n",
    "In this notebook we use:    \n",
    "<div class=\"alert alert-block col-md-7 alert-info\">To recall information from the theory classes and other tips</div>\n",
    "<div class=\"alert alert-block col-md-7 alert-warning\">To point important things that should not be \n",
    "   forgotten</div> \n",
    "<div class=\"alert alert-block col-md-7 alert-primary bg-primary\">LAB TASK</div>"
   ]
  },
  {
   "cell_type": "markdown",
   "metadata": {},
   "source": [
    "# 3. Part 2: Predicting with a COVID-19 Dataset\n",
    "\n",
    "This project consist on applying the concepts and the techniques acquired during the course, with the addition of mitigation algorithms. \n",
    "\n",
    "The purpose of this project is to train a model that answer a specific question. Each group will have to choose a question and will have a subset of the original dataset to use. \n",
    "\n",
    "<div class=\"alert alert-block alert-info\">We will work with subsets obtainef from the full dataset available at <a href=\"https://www.kaggle.com/datasets/omarlarasa/cov19-open-data-mexico\">kaggle</a>.</div>\n",
    "\n",
    "Use the question that correlates to your group with its corresponding dataset:\n",
    "1. What is the probability of dying increase with the patient's age? \n",
    "2. What does probability change if the patient has another health issue? \n",
    "3. How dying probability increases when the patient has been intubated? \n",
    "4. Is it true that smoking increases the probability of dying by COV19?\n",
    "5. Do pregnant women has more probability of being intubated?\n",
    "6. How is the probability of hospitalization and probability of death are related to the length of symptoms?  \n",
    "7. Is there a potential discrimination against Migrants? Hint: calculate the ratio between death and ICU/intubation\n",
    "\n",
    "\n",
    "<div class=\"alert alert-block alert-success\">\n",
    "    <p><b>[To complete]</b></p>\n",
    "    <p>Group number: 6</p>\n",
    "    <p>Group members: Aitana Gonzalez, Berta Mitjavila </p>\n",
    "    <p>Chosen question: How does the probability of dying from covid vary with the age of the patient?</p>\n",
    "</div>"
   ]
  },
  {
   "cell_type": "markdown",
   "metadata": {},
   "source": [
    "###  Libraries used in this notebook\n",
    "You will need to install: **numpy**, **pandas**, **matplotlib**, and **sklearn**."
   ]
  },
  {
   "cell_type": "code",
   "execution_count": 2,
   "metadata": {},
   "outputs": [
    {
     "name": "stderr",
     "output_type": "stream",
     "text": [
      "WARNING:root:No module named 'tempeh': LawSchoolGPADataset will be unavailable. To install, run:\n",
      "pip install 'aif360[LawSchoolGPA]'\n",
      "WARNING:root:No module named 'tensorflow': AdversarialDebiasing will be unavailable. To install, run:\n",
      "pip install 'aif360[AdversarialDebiasing]'\n",
      "WARNING:root:No module named 'tensorflow': AdversarialDebiasing will be unavailable. To install, run:\n",
      "pip install 'aif360[AdversarialDebiasing]'\n",
      "WARNING:root:No module named 'fairlearn': ExponentiatedGradientReduction will be unavailable. To install, run:\n",
      "pip install 'aif360[Reductions]'\n",
      "WARNING:root:No module named 'fairlearn': GridSearchReduction will be unavailable. To install, run:\n",
      "pip install 'aif360[Reductions]'\n",
      "WARNING:root:No module named 'fairlearn': GridSearchReduction will be unavailable. To install, run:\n",
      "pip install 'aif360[Reductions]'\n"
     ]
    }
   ],
   "source": [
    "## Required statements\n",
    "import pandas as pd\n",
    "import numpy as np\n",
    "\n",
    "from sklearn import linear_model\n",
    "\n",
    "from sklearn.metrics import mean_squared_error, mean_absolute_error, accuracy_score, confusion_matrix, precision_score, recall_score, roc_auc_score, roc_curve, auc, ConfusionMatrixDisplay, classification_report\n",
    "\n",
    "from sklearn.model_selection import train_test_split\n",
    "from sklearn.preprocessing import LabelEncoder\n",
    "from sklearn.linear_model import LogisticRegression\n",
    "from sklearn.preprocessing import StandardScaler\n",
    "from sklearn.impute import SimpleImputer\n",
    "from sklearn.metrics import accuracy_score\n",
    "\n",
    "#!pip install aif360\n",
    "\n",
    "from aif360.datasets import BinaryLabelDataset\n",
    "from aif360.datasets import AdultDataset\n",
    "from aif360.metrics import BinaryLabelDatasetMetric\n",
    "from aif360.metrics import ClassificationMetric\n",
    "\n",
    "from aif360.algorithms.preprocessing.optim_preproc_helpers.data_preproc_functions\\\n",
    "        import load_preproc_data_adult\n",
    "\n",
    "from aif360.metrics import BinaryLabelDatasetMetric\n",
    "\n",
    "from IPython.display import Markdown, display\n",
    "\n",
    "\n",
    "from IPython.display import Markdown, display\n",
    "import matplotlib.pyplot as plt\n",
    "%matplotlib inline\n",
    "\n",
    "# Ignore all warnings\n",
    "import warnings\n",
    "warnings.simplefilter(\"ignore\")"
   ]
  },
  {
   "cell_type": "markdown",
   "metadata": {},
   "source": [
    "<div class=\"alert alert-block alert-primary bg-primary head-2\">\n",
    "    <h2 class=\"alert-heading\">[L3.1] Load and analyse your dataset (1 point)</h2>\n",
    "    <hr>\n",
    "     <p class=\"mb-0\">Load your assigned dataset and answer the following questions:</p>\n",
    "\n",
    "   <ol>\n",
    "    <li>Is it k-anonymous?  [Interpret]</li>\n",
    "    <li>Does it complies with l-diversity ? [interpret]</li>\n",
    "    <li>Is it balanced? [Interpret]</li>\n",
    "    <li>Select your protected class [justify]</li>\n",
    "    <li>Define sensitive attributes [justify]</li>\n",
    "   </ol>\n",
    "</div>"
   ]
  },
  {
   "cell_type": "code",
   "execution_count": 40,
   "metadata": {},
   "outputs": [
    {
     "data": {
      "text/html": [
       "<div>\n",
       "<style scoped>\n",
       "    .dataframe tbody tr th:only-of-type {\n",
       "        vertical-align: middle;\n",
       "    }\n",
       "\n",
       "    .dataframe tbody tr th {\n",
       "        vertical-align: top;\n",
       "    }\n",
       "\n",
       "    .dataframe thead th {\n",
       "        text-align: right;\n",
       "    }\n",
       "</style>\n",
       "<table border=\"1\" class=\"dataframe\">\n",
       "  <thead>\n",
       "    <tr style=\"text-align: right;\">\n",
       "      <th></th>\n",
       "      <th>respiratory_hospital_unit</th>\n",
       "      <th>sex</th>\n",
       "      <th>admission_date</th>\n",
       "      <th>symptoms_onset_date</th>\n",
       "      <th>decease_date</th>\n",
       "      <th>intubation</th>\n",
       "      <th>pneumonia</th>\n",
       "      <th>age</th>\n",
       "      <th>native_speaker</th>\n",
       "      <th>native_mexican</th>\n",
       "      <th>...</th>\n",
       "      <th>immunosuppression</th>\n",
       "      <th>hypertension</th>\n",
       "      <th>other_diseases</th>\n",
       "      <th>cardiovascular</th>\n",
       "      <th>obesity</th>\n",
       "      <th>chronic_renal_failure</th>\n",
       "      <th>smoker</th>\n",
       "      <th>ICU_admission</th>\n",
       "      <th>covid_positive</th>\n",
       "      <th>deceased_patient</th>\n",
       "    </tr>\n",
       "  </thead>\n",
       "  <tbody>\n",
       "    <tr>\n",
       "      <th>0</th>\n",
       "      <td>1.0</td>\n",
       "      <td>1.0</td>\n",
       "      <td>12/10/2020</td>\n",
       "      <td>12/09/2020</td>\n",
       "      <td>12/14/2020</td>\n",
       "      <td>0.0</td>\n",
       "      <td>1.0</td>\n",
       "      <td>76.0</td>\n",
       "      <td>0.0</td>\n",
       "      <td>0.0</td>\n",
       "      <td>...</td>\n",
       "      <td>0.0</td>\n",
       "      <td>1.0</td>\n",
       "      <td>0.0</td>\n",
       "      <td>0.0</td>\n",
       "      <td>0.0</td>\n",
       "      <td>0.0</td>\n",
       "      <td>0.0</td>\n",
       "      <td>0.0</td>\n",
       "      <td>1</td>\n",
       "      <td>1</td>\n",
       "    </tr>\n",
       "    <tr>\n",
       "      <th>1</th>\n",
       "      <td>1.0</td>\n",
       "      <td>2.0</td>\n",
       "      <td>07/25/2020</td>\n",
       "      <td>07/18/2020</td>\n",
       "      <td>08/07/2020</td>\n",
       "      <td>0.0</td>\n",
       "      <td>0.0</td>\n",
       "      <td>55.0</td>\n",
       "      <td>1.0</td>\n",
       "      <td>1.0</td>\n",
       "      <td>...</td>\n",
       "      <td>0.0</td>\n",
       "      <td>1.0</td>\n",
       "      <td>0.0</td>\n",
       "      <td>0.0</td>\n",
       "      <td>0.0</td>\n",
       "      <td>0.0</td>\n",
       "      <td>0.0</td>\n",
       "      <td>0.0</td>\n",
       "      <td>1</td>\n",
       "      <td>1</td>\n",
       "    </tr>\n",
       "    <tr>\n",
       "      <th>2</th>\n",
       "      <td>1.0</td>\n",
       "      <td>1.0</td>\n",
       "      <td>05/19/2020</td>\n",
       "      <td>05/16/2020</td>\n",
       "      <td>05/23/2020</td>\n",
       "      <td>0.0</td>\n",
       "      <td>1.0</td>\n",
       "      <td>81.0</td>\n",
       "      <td>0.0</td>\n",
       "      <td>0.0</td>\n",
       "      <td>...</td>\n",
       "      <td>0.0</td>\n",
       "      <td>0.0</td>\n",
       "      <td>0.0</td>\n",
       "      <td>0.0</td>\n",
       "      <td>1.0</td>\n",
       "      <td>0.0</td>\n",
       "      <td>0.0</td>\n",
       "      <td>0.0</td>\n",
       "      <td>1</td>\n",
       "      <td>1</td>\n",
       "    </tr>\n",
       "    <tr>\n",
       "      <th>3</th>\n",
       "      <td>0.0</td>\n",
       "      <td>2.0</td>\n",
       "      <td>01/19/2021</td>\n",
       "      <td>01/07/2021</td>\n",
       "      <td>01/25/2021</td>\n",
       "      <td>0.0</td>\n",
       "      <td>1.0</td>\n",
       "      <td>76.0</td>\n",
       "      <td>0.0</td>\n",
       "      <td>0.0</td>\n",
       "      <td>...</td>\n",
       "      <td>0.0</td>\n",
       "      <td>0.0</td>\n",
       "      <td>0.0</td>\n",
       "      <td>0.0</td>\n",
       "      <td>0.0</td>\n",
       "      <td>0.0</td>\n",
       "      <td>0.0</td>\n",
       "      <td>0.0</td>\n",
       "      <td>1</td>\n",
       "      <td>1</td>\n",
       "    </tr>\n",
       "    <tr>\n",
       "      <th>4</th>\n",
       "      <td>1.0</td>\n",
       "      <td>2.0</td>\n",
       "      <td>05/06/2020</td>\n",
       "      <td>05/02/2020</td>\n",
       "      <td>NaN</td>\n",
       "      <td>NaN</td>\n",
       "      <td>0.0</td>\n",
       "      <td>20.0</td>\n",
       "      <td>0.0</td>\n",
       "      <td>0.0</td>\n",
       "      <td>...</td>\n",
       "      <td>0.0</td>\n",
       "      <td>0.0</td>\n",
       "      <td>0.0</td>\n",
       "      <td>0.0</td>\n",
       "      <td>0.0</td>\n",
       "      <td>0.0</td>\n",
       "      <td>0.0</td>\n",
       "      <td>NaN</td>\n",
       "      <td>0</td>\n",
       "      <td>0</td>\n",
       "    </tr>\n",
       "  </tbody>\n",
       "</table>\n",
       "<p>5 rows × 23 columns</p>\n",
       "</div>"
      ],
      "text/plain": [
       "   respiratory_hospital_unit  sex admission_date symptoms_onset_date  \\\n",
       "0                        1.0  1.0     12/10/2020          12/09/2020   \n",
       "1                        1.0  2.0     07/25/2020          07/18/2020   \n",
       "2                        1.0  1.0     05/19/2020          05/16/2020   \n",
       "3                        0.0  2.0     01/19/2021          01/07/2021   \n",
       "4                        1.0  2.0     05/06/2020          05/02/2020   \n",
       "\n",
       "  decease_date  intubation  pneumonia   age  native_speaker  native_mexican  \\\n",
       "0   12/14/2020         0.0        1.0  76.0             0.0             0.0   \n",
       "1   08/07/2020         0.0        0.0  55.0             1.0             1.0   \n",
       "2   05/23/2020         0.0        1.0  81.0             0.0             0.0   \n",
       "3   01/25/2021         0.0        1.0  76.0             0.0             0.0   \n",
       "4          NaN         NaN        0.0  20.0             0.0             0.0   \n",
       "\n",
       "   ...  immunosuppression  hypertension  other_diseases  cardiovascular  \\\n",
       "0  ...                0.0           1.0             0.0             0.0   \n",
       "1  ...                0.0           1.0             0.0             0.0   \n",
       "2  ...                0.0           0.0             0.0             0.0   \n",
       "3  ...                0.0           0.0             0.0             0.0   \n",
       "4  ...                0.0           0.0             0.0             0.0   \n",
       "\n",
       "   obesity  chronic_renal_failure  smoker  ICU_admission  covid_positive  \\\n",
       "0      0.0                    0.0     0.0            0.0               1   \n",
       "1      0.0                    0.0     0.0            0.0               1   \n",
       "2      1.0                    0.0     0.0            0.0               1   \n",
       "3      0.0                    0.0     0.0            0.0               1   \n",
       "4      0.0                    0.0     0.0            NaN               0   \n",
       "\n",
       "   deceased_patient  \n",
       "0                 1  \n",
       "1                 1  \n",
       "2                 1  \n",
       "3                 1  \n",
       "4                 0  \n",
       "\n",
       "[5 rows x 23 columns]"
      ]
     },
     "execution_count": 40,
     "metadata": {},
     "output_type": "execute_result"
    }
   ],
   "source": [
    "df = pd.read_csv(\"../Data/deceased_dataset_v1.csv\")\n",
    "df.head()"
   ]
  },
  {
   "cell_type": "code",
   "execution_count": 41,
   "metadata": {},
   "outputs": [
    {
     "data": {
      "text/plain": [
       "['respiratory_hospital_unit',\n",
       " 'sex',\n",
       " 'admission_date',\n",
       " 'symptoms_onset_date',\n",
       " 'decease_date',\n",
       " 'intubation',\n",
       " 'pneumonia',\n",
       " 'age',\n",
       " 'native_speaker',\n",
       " 'native_mexican',\n",
       " 'diabetes',\n",
       " 'epoc',\n",
       " 'asma',\n",
       " 'immunosuppression',\n",
       " 'hypertension',\n",
       " 'other_diseases',\n",
       " 'cardiovascular',\n",
       " 'obesity',\n",
       " 'chronic_renal_failure',\n",
       " 'smoker',\n",
       " 'ICU_admission',\n",
       " 'covid_positive',\n",
       " 'deceased_patient']"
      ]
     },
     "execution_count": 41,
     "metadata": {},
     "output_type": "execute_result"
    }
   ],
   "source": [
    "df.columns.to_list()"
   ]
  },
  {
   "cell_type": "code",
   "execution_count": 42,
   "metadata": {},
   "outputs": [
    {
     "data": {
      "text/plain": [
       "['sex',\n",
       " 'pneumonia',\n",
       " 'age',\n",
       " 'native_speaker',\n",
       " 'native_mexican',\n",
       " 'diabetes',\n",
       " 'epoc',\n",
       " 'asma',\n",
       " 'immunosuppression',\n",
       " 'hypertension',\n",
       " 'other_diseases',\n",
       " 'cardiovascular',\n",
       " 'obesity',\n",
       " 'chronic_renal_failure',\n",
       " 'deceased_patient']"
      ]
     },
     "execution_count": 42,
     "metadata": {},
     "output_type": "execute_result"
    }
   ],
   "source": [
    "# We will work only with covid_positive = 1 because we want the probability of dying due to covid\n",
    "df = df[df['covid_positive'] == 1]\n",
    "\n",
    "# As covid_positive is always 1, it is unuseful\n",
    "# Attributes like 'admission_date' are not affected by the age so are irrelevant\n",
    "df = df.drop(columns=['covid_positive', 'admission_date', 'symptoms_onset_date', 'decease_date', 'respiratory_hospital_unit', 'intubation', 'smoker','ICU_admission'])\n",
    "\n",
    "df.columns.to_list()"
   ]
  },
  {
   "cell_type": "code",
   "execution_count": 43,
   "metadata": {},
   "outputs": [],
   "source": [
    "df = df.dropna(subset=['age'])"
   ]
  },
  {
   "cell_type": "code",
   "execution_count": 44,
   "metadata": {},
   "outputs": [
    {
     "data": {
      "text/html": [
       "<div>\n",
       "<style scoped>\n",
       "    .dataframe tbody tr th:only-of-type {\n",
       "        vertical-align: middle;\n",
       "    }\n",
       "\n",
       "    .dataframe tbody tr th {\n",
       "        vertical-align: top;\n",
       "    }\n",
       "\n",
       "    .dataframe thead th {\n",
       "        text-align: right;\n",
       "    }\n",
       "</style>\n",
       "<table border=\"1\" class=\"dataframe\">\n",
       "  <thead>\n",
       "    <tr style=\"text-align: right;\">\n",
       "      <th></th>\n",
       "      <th>sex</th>\n",
       "      <th>pneumonia</th>\n",
       "      <th>age</th>\n",
       "      <th>native_speaker</th>\n",
       "      <th>native_mexican</th>\n",
       "      <th>diabetes</th>\n",
       "      <th>epoc</th>\n",
       "      <th>asma</th>\n",
       "      <th>immunosuppression</th>\n",
       "      <th>hypertension</th>\n",
       "      <th>other_diseases</th>\n",
       "      <th>cardiovascular</th>\n",
       "      <th>obesity</th>\n",
       "      <th>chronic_renal_failure</th>\n",
       "      <th>deceased_patient</th>\n",
       "    </tr>\n",
       "  </thead>\n",
       "  <tbody>\n",
       "    <tr>\n",
       "      <th>0</th>\n",
       "      <td>1.0</td>\n",
       "      <td>1.0</td>\n",
       "      <td>76.0</td>\n",
       "      <td>0.0</td>\n",
       "      <td>0.0</td>\n",
       "      <td>1.0</td>\n",
       "      <td>0.0</td>\n",
       "      <td>0.0</td>\n",
       "      <td>0.0</td>\n",
       "      <td>1.0</td>\n",
       "      <td>0.0</td>\n",
       "      <td>0.0</td>\n",
       "      <td>0.0</td>\n",
       "      <td>0.0</td>\n",
       "      <td>1</td>\n",
       "    </tr>\n",
       "    <tr>\n",
       "      <th>1</th>\n",
       "      <td>2.0</td>\n",
       "      <td>0.0</td>\n",
       "      <td>55.0</td>\n",
       "      <td>1.0</td>\n",
       "      <td>1.0</td>\n",
       "      <td>1.0</td>\n",
       "      <td>0.0</td>\n",
       "      <td>0.0</td>\n",
       "      <td>0.0</td>\n",
       "      <td>1.0</td>\n",
       "      <td>0.0</td>\n",
       "      <td>0.0</td>\n",
       "      <td>0.0</td>\n",
       "      <td>0.0</td>\n",
       "      <td>1</td>\n",
       "    </tr>\n",
       "    <tr>\n",
       "      <th>2</th>\n",
       "      <td>1.0</td>\n",
       "      <td>1.0</td>\n",
       "      <td>81.0</td>\n",
       "      <td>0.0</td>\n",
       "      <td>0.0</td>\n",
       "      <td>0.0</td>\n",
       "      <td>0.0</td>\n",
       "      <td>0.0</td>\n",
       "      <td>0.0</td>\n",
       "      <td>0.0</td>\n",
       "      <td>0.0</td>\n",
       "      <td>0.0</td>\n",
       "      <td>1.0</td>\n",
       "      <td>0.0</td>\n",
       "      <td>1</td>\n",
       "    </tr>\n",
       "    <tr>\n",
       "      <th>3</th>\n",
       "      <td>2.0</td>\n",
       "      <td>1.0</td>\n",
       "      <td>76.0</td>\n",
       "      <td>0.0</td>\n",
       "      <td>0.0</td>\n",
       "      <td>1.0</td>\n",
       "      <td>0.0</td>\n",
       "      <td>0.0</td>\n",
       "      <td>0.0</td>\n",
       "      <td>0.0</td>\n",
       "      <td>0.0</td>\n",
       "      <td>0.0</td>\n",
       "      <td>0.0</td>\n",
       "      <td>0.0</td>\n",
       "      <td>1</td>\n",
       "    </tr>\n",
       "    <tr>\n",
       "      <th>10</th>\n",
       "      <td>2.0</td>\n",
       "      <td>1.0</td>\n",
       "      <td>38.0</td>\n",
       "      <td>NaN</td>\n",
       "      <td>NaN</td>\n",
       "      <td>1.0</td>\n",
       "      <td>0.0</td>\n",
       "      <td>0.0</td>\n",
       "      <td>0.0</td>\n",
       "      <td>1.0</td>\n",
       "      <td>0.0</td>\n",
       "      <td>0.0</td>\n",
       "      <td>0.0</td>\n",
       "      <td>0.0</td>\n",
       "      <td>1</td>\n",
       "    </tr>\n",
       "  </tbody>\n",
       "</table>\n",
       "</div>"
      ],
      "text/plain": [
       "    sex  pneumonia   age  native_speaker  native_mexican  diabetes  epoc  \\\n",
       "0   1.0        1.0  76.0             0.0             0.0       1.0   0.0   \n",
       "1   2.0        0.0  55.0             1.0             1.0       1.0   0.0   \n",
       "2   1.0        1.0  81.0             0.0             0.0       0.0   0.0   \n",
       "3   2.0        1.0  76.0             0.0             0.0       1.0   0.0   \n",
       "10  2.0        1.0  38.0             NaN             NaN       1.0   0.0   \n",
       "\n",
       "    asma  immunosuppression  hypertension  other_diseases  cardiovascular  \\\n",
       "0    0.0                0.0           1.0             0.0             0.0   \n",
       "1    0.0                0.0           1.0             0.0             0.0   \n",
       "2    0.0                0.0           0.0             0.0             0.0   \n",
       "3    0.0                0.0           0.0             0.0             0.0   \n",
       "10   0.0                0.0           1.0             0.0             0.0   \n",
       "\n",
       "    obesity  chronic_renal_failure  deceased_patient  \n",
       "0       0.0                    0.0                 1  \n",
       "1       0.0                    0.0                 1  \n",
       "2       1.0                    0.0                 1  \n",
       "3       0.0                    0.0                 1  \n",
       "10      0.0                    0.0                 1  "
      ]
     },
     "execution_count": 44,
     "metadata": {},
     "output_type": "execute_result"
    }
   ],
   "source": [
    "df.head()"
   ]
  },
  {
   "cell_type": "markdown",
   "metadata": {},
   "source": [
    "## K-anonimity"
   ]
  },
  {
   "cell_type": "markdown",
   "metadata": {},
   "source": [
    "### - Initial Idea -\n",
    "\n",
    "**Identifiers:** These are unique attributes that can be used to identify an individual. In this dataset, there doesn’t seem to be any explicit identifiers like name, social security number, or patient ID.\n",
    "\n",
    "**Quasi-identifiers:** These are attributes that, in combination, can be used to identify an individual. In this dataset, the following could be considered quasi-identifiers: ‘age’, 'sex', 'native_speaker’, ‘native_mexican’.\n",
    "\n",
    "**Sensitive attributes:** These are sensitive attributes that should be protected. In this dataset, the following could be considered confidential attributes: 'sex', 'native_speaker’, ‘native_mexican’.\n",
    "\n",
    "**Other:** These attributes could also be considered sensitive attributes, however, as far as our study is concerned, they are attributes that are related to a person's state of health, as well as possible habits (such as smoking). These attributes are related to a person's age, so we consider them as \"other\": 'pneumonia', 'diabetes', 'epoc', 'asma', 'immunosuppression', 'hypertension', 'other_diseases', 'cardiovascular', 'obesity', 'chronic_renal_failure', 'deceased_patient'."
   ]
  },
  {
   "cell_type": "code",
   "execution_count": 45,
   "metadata": {},
   "outputs": [],
   "source": [
    "df_anonimity = df[['age', 'sex', 'native_speaker', 'native_mexican', 'deceased_patient']]"
   ]
  },
  {
   "cell_type": "code",
   "execution_count": 46,
   "metadata": {},
   "outputs": [],
   "source": [
    "## Use a helper function that calculates the groups by value\n",
    "## If using pandas, you can consider using grouping and group sizes for that\n",
    "def get_values_frequencies(_df, quasi_identifier_cols):\n",
    "    _df = _df.groupby(quasi_identifier_cols).size().reset_index(name='Count')\n",
    "    return _df[_df['Count'] != 0]\n",
    "\n",
    "## Code a function that uses the function above and determines whether a given dataset satifies K-anonimity \n",
    "# for a given K\n",
    "def is_k_anonymous(_df, K, quasi_identifier_cols):\n",
    "    value_counts = get_values_frequencies(_df, quasi_identifier_cols)\n",
    "    max_k = min(value_counts['Count'])\n",
    "    if K < max_k:\n",
    "        return str(all(value_counts['Count'] >= K)) + f', and it is {max_k}-anonymous too.'\n",
    "    else:\n",
    "        return all(value_counts['Count'] >= K)"
   ]
  },
  {
   "cell_type": "code",
   "execution_count": 47,
   "metadata": {},
   "outputs": [
    {
     "name": "stdout",
     "output_type": "stream",
     "text": [
      "Given the previously established quasi-identifiers, does the dataset satisfy 2-anonymity)? False\n"
     ]
    }
   ],
   "source": [
    "print(\"Given the previously established quasi-identifiers, does the dataset satisfy 2-anonymity)?\", is_k_anonymous(df_anonimity, 2, ['age', 'sex', 'native_speaker', 'native_mexican']))\n"
   ]
  },
  {
   "cell_type": "markdown",
   "metadata": {},
   "source": [
    "As we can observe, with the given quasi-identifiers, the dataset is not 2-anonymous. If a dataset does not satisfy 2-anonymity, it means that there are individuals in the dataset who can be uniquely identified based on the quasi-identifiers."
   ]
  },
  {
   "cell_type": "code",
   "execution_count": 48,
   "metadata": {},
   "outputs": [
    {
     "data": {
      "text/plain": [
       "age   sex  native_speaker  native_mexican\n",
       "12.0  1.0  0.0             0.0                21\n",
       "                           1.0                 1\n",
       "      2.0  0.0             0.0                22\n",
       "13.0  1.0  0.0             0.0                24\n",
       "      2.0  0.0             0.0                29\n",
       "                                            ... \n",
       "90.0  1.0  1.0             0.0                 1\n",
       "                           1.0                 2\n",
       "      2.0  0.0             0.0               185\n",
       "                           1.0                 1\n",
       "           1.0             1.0                 4\n",
       "Length: 525, dtype: int64"
      ]
     },
     "execution_count": 48,
     "metadata": {},
     "output_type": "execute_result"
    }
   ],
   "source": [
    "df_anonimity.groupby(by=['age', 'sex', 'native_speaker', 'native_mexican']).size()\n"
   ]
  },
  {
   "cell_type": "markdown",
   "metadata": {},
   "source": [
    "The previous output shows the count of records for each unique combination of the four quasi-identifiers, and we can observe that there is an individual that can be uniquely identified."
   ]
  },
  {
   "cell_type": "code",
   "execution_count": 49,
   "metadata": {},
   "outputs": [
    {
     "data": {
      "text/html": [
       "<div>\n",
       "<style scoped>\n",
       "    .dataframe tbody tr th:only-of-type {\n",
       "        vertical-align: middle;\n",
       "    }\n",
       "\n",
       "    .dataframe tbody tr th {\n",
       "        vertical-align: top;\n",
       "    }\n",
       "\n",
       "    .dataframe thead th {\n",
       "        text-align: right;\n",
       "    }\n",
       "</style>\n",
       "<table border=\"1\" class=\"dataframe\">\n",
       "  <thead>\n",
       "    <tr style=\"text-align: right;\">\n",
       "      <th></th>\n",
       "      <th>age</th>\n",
       "      <th>sex</th>\n",
       "      <th>native_speaker</th>\n",
       "      <th>native_mexican</th>\n",
       "      <th>deceased_patient</th>\n",
       "    </tr>\n",
       "  </thead>\n",
       "  <tbody>\n",
       "    <tr>\n",
       "      <th>172362</th>\n",
       "      <td>12.0</td>\n",
       "      <td>1.0</td>\n",
       "      <td>0.0</td>\n",
       "      <td>1.0</td>\n",
       "      <td>0</td>\n",
       "    </tr>\n",
       "  </tbody>\n",
       "</table>\n",
       "</div>"
      ],
      "text/plain": [
       "         age  sex  native_speaker  native_mexican  deceased_patient\n",
       "172362  12.0  1.0             0.0             1.0                 0"
      ]
     },
     "execution_count": 49,
     "metadata": {},
     "output_type": "execute_result"
    }
   ],
   "source": [
    "df_anonimity[(df_anonimity['age'] == 12.0) & (df_anonimity['sex'] == 1.0) & (df_anonimity['native_speaker'] == 0.0) & (df_anonimity['native_mexican'] == 1.0)]\n"
   ]
  },
  {
   "cell_type": "markdown",
   "metadata": {},
   "source": [
    "Given this situation, we will have to **anonymize** the dataset. In this case, we could apply generalization to the ‘age’ attribute."
   ]
  },
  {
   "cell_type": "code",
   "execution_count": 50,
   "metadata": {},
   "outputs": [
    {
     "name": "stdout",
     "output_type": "stream",
     "text": [
      "[12. 13. 14. 15. 16. 17. 18. 19. 20. 21. 22. 23. 24. 25. 26. 27. 28. 29.\n",
      " 30. 31. 32. 33. 34. 35. 36. 37. 38. 39. 40. 41. 42. 43. 44. 45. 46. 47.\n",
      " 48. 49. 50. 51. 52. 53. 54. 55. 56. 57. 58. 59. 60. 61. 62. 63. 64. 65.\n",
      " 66. 67. 68. 69. 70. 71. 72. 73. 74. 75. 76. 77. 78. 79. 80. 81. 82. 83.\n",
      " 84. 85. 86. 87. 88. 89. 90.]\n"
     ]
    }
   ],
   "source": [
    "unique_ages = df_anonimity['age'].unique()\n",
    "unique_ages.sort()\n",
    "print(unique_ages)"
   ]
  },
  {
   "cell_type": "code",
   "execution_count": 51,
   "metadata": {},
   "outputs": [
    {
     "data": {
      "text/html": [
       "<div>\n",
       "<style scoped>\n",
       "    .dataframe tbody tr th:only-of-type {\n",
       "        vertical-align: middle;\n",
       "    }\n",
       "\n",
       "    .dataframe tbody tr th {\n",
       "        vertical-align: top;\n",
       "    }\n",
       "\n",
       "    .dataframe thead th {\n",
       "        text-align: right;\n",
       "    }\n",
       "</style>\n",
       "<table border=\"1\" class=\"dataframe\">\n",
       "  <thead>\n",
       "    <tr style=\"text-align: right;\">\n",
       "      <th></th>\n",
       "      <th>sex</th>\n",
       "      <th>native_speaker</th>\n",
       "      <th>native_mexican</th>\n",
       "      <th>deceased_patient</th>\n",
       "      <th>age_group</th>\n",
       "    </tr>\n",
       "  </thead>\n",
       "  <tbody>\n",
       "    <tr>\n",
       "      <th>0</th>\n",
       "      <td>1.0</td>\n",
       "      <td>0.0</td>\n",
       "      <td>0.0</td>\n",
       "      <td>1</td>\n",
       "      <td>70-80</td>\n",
       "    </tr>\n",
       "    <tr>\n",
       "      <th>1</th>\n",
       "      <td>2.0</td>\n",
       "      <td>1.0</td>\n",
       "      <td>1.0</td>\n",
       "      <td>1</td>\n",
       "      <td>50-60</td>\n",
       "    </tr>\n",
       "    <tr>\n",
       "      <th>2</th>\n",
       "      <td>1.0</td>\n",
       "      <td>0.0</td>\n",
       "      <td>0.0</td>\n",
       "      <td>1</td>\n",
       "      <td>80-90</td>\n",
       "    </tr>\n",
       "    <tr>\n",
       "      <th>3</th>\n",
       "      <td>2.0</td>\n",
       "      <td>0.0</td>\n",
       "      <td>0.0</td>\n",
       "      <td>1</td>\n",
       "      <td>70-80</td>\n",
       "    </tr>\n",
       "    <tr>\n",
       "      <th>10</th>\n",
       "      <td>2.0</td>\n",
       "      <td>NaN</td>\n",
       "      <td>NaN</td>\n",
       "      <td>1</td>\n",
       "      <td>30-40</td>\n",
       "    </tr>\n",
       "  </tbody>\n",
       "</table>\n",
       "</div>"
      ],
      "text/plain": [
       "    sex  native_speaker  native_mexican  deceased_patient age_group\n",
       "0   1.0             0.0             0.0                 1     70-80\n",
       "1   2.0             1.0             1.0                 1     50-60\n",
       "2   1.0             0.0             0.0                 1     80-90\n",
       "3   2.0             0.0             0.0                 1     70-80\n",
       "10  2.0             NaN             NaN                 1     30-40"
      ]
     },
     "execution_count": 51,
     "metadata": {},
     "output_type": "execute_result"
    }
   ],
   "source": [
    "bins = [10, 20, 30, 40, 50, 60, 70, 80, 90]\n",
    "labels = ['10-20', '20-30', '30-40', '40-50', '50-60', '60-70', '70-80', '80-90']\n",
    "df_anonimity['age_group'] = pd.cut(df_anonimity['age'], bins=bins, labels=labels, right=False)\n",
    "df_anonimity = df_anonimity.drop(columns=['age'])\n",
    "df_anonimity.head()"
   ]
  },
  {
   "cell_type": "markdown",
   "metadata": {},
   "source": [
    "We check that there is no individual who can be uniquely identified."
   ]
  },
  {
   "cell_type": "code",
   "execution_count": 52,
   "metadata": {},
   "outputs": [
    {
     "data": {
      "text/html": [
       "<div>\n",
       "<style scoped>\n",
       "    .dataframe tbody tr th:only-of-type {\n",
       "        vertical-align: middle;\n",
       "    }\n",
       "\n",
       "    .dataframe tbody tr th {\n",
       "        vertical-align: top;\n",
       "    }\n",
       "\n",
       "    .dataframe thead th {\n",
       "        text-align: right;\n",
       "    }\n",
       "</style>\n",
       "<table border=\"1\" class=\"dataframe\">\n",
       "  <thead>\n",
       "    <tr style=\"text-align: right;\">\n",
       "      <th></th>\n",
       "      <th>age_group</th>\n",
       "      <th>sex</th>\n",
       "      <th>native_speaker</th>\n",
       "      <th>native_mexican</th>\n",
       "      <th>Count</th>\n",
       "    </tr>\n",
       "  </thead>\n",
       "  <tbody>\n",
       "    <tr>\n",
       "      <th>3</th>\n",
       "      <td>10-20</td>\n",
       "      <td>1.0</td>\n",
       "      <td>1.0</td>\n",
       "      <td>1.0</td>\n",
       "      <td>2</td>\n",
       "    </tr>\n",
       "    <tr>\n",
       "      <th>10</th>\n",
       "      <td>20-30</td>\n",
       "      <td>1.0</td>\n",
       "      <td>1.0</td>\n",
       "      <td>0.0</td>\n",
       "      <td>2</td>\n",
       "    </tr>\n",
       "    <tr>\n",
       "      <th>14</th>\n",
       "      <td>20-30</td>\n",
       "      <td>2.0</td>\n",
       "      <td>1.0</td>\n",
       "      <td>0.0</td>\n",
       "      <td>3</td>\n",
       "    </tr>\n",
       "    <tr>\n",
       "      <th>1</th>\n",
       "      <td>10-20</td>\n",
       "      <td>1.0</td>\n",
       "      <td>0.0</td>\n",
       "      <td>1.0</td>\n",
       "      <td>4</td>\n",
       "    </tr>\n",
       "    <tr>\n",
       "      <th>7</th>\n",
       "      <td>10-20</td>\n",
       "      <td>2.0</td>\n",
       "      <td>1.0</td>\n",
       "      <td>1.0</td>\n",
       "      <td>4</td>\n",
       "    </tr>\n",
       "    <tr>\n",
       "      <th>...</th>\n",
       "      <td>...</td>\n",
       "      <td>...</td>\n",
       "      <td>...</td>\n",
       "      <td>...</td>\n",
       "      <td>...</td>\n",
       "    </tr>\n",
       "    <tr>\n",
       "      <th>28</th>\n",
       "      <td>40-50</td>\n",
       "      <td>2.0</td>\n",
       "      <td>0.0</td>\n",
       "      <td>0.0</td>\n",
       "      <td>8537</td>\n",
       "    </tr>\n",
       "    <tr>\n",
       "      <th>40</th>\n",
       "      <td>60-70</td>\n",
       "      <td>1.0</td>\n",
       "      <td>0.0</td>\n",
       "      <td>0.0</td>\n",
       "      <td>9261</td>\n",
       "    </tr>\n",
       "    <tr>\n",
       "      <th>52</th>\n",
       "      <td>70-80</td>\n",
       "      <td>2.0</td>\n",
       "      <td>0.0</td>\n",
       "      <td>0.0</td>\n",
       "      <td>11198</td>\n",
       "    </tr>\n",
       "    <tr>\n",
       "      <th>36</th>\n",
       "      <td>50-60</td>\n",
       "      <td>2.0</td>\n",
       "      <td>0.0</td>\n",
       "      <td>0.0</td>\n",
       "      <td>12476</td>\n",
       "    </tr>\n",
       "    <tr>\n",
       "      <th>44</th>\n",
       "      <td>60-70</td>\n",
       "      <td>2.0</td>\n",
       "      <td>0.0</td>\n",
       "      <td>0.0</td>\n",
       "      <td>14295</td>\n",
       "    </tr>\n",
       "  </tbody>\n",
       "</table>\n",
       "<p>62 rows × 5 columns</p>\n",
       "</div>"
      ],
      "text/plain": [
       "   age_group  sex  native_speaker  native_mexican  Count\n",
       "3      10-20  1.0             1.0             1.0      2\n",
       "10     20-30  1.0             1.0             0.0      2\n",
       "14     20-30  2.0             1.0             0.0      3\n",
       "1      10-20  1.0             0.0             1.0      4\n",
       "7      10-20  2.0             1.0             1.0      4\n",
       "..       ...  ...             ...             ...    ...\n",
       "28     40-50  2.0             0.0             0.0   8537\n",
       "40     60-70  1.0             0.0             0.0   9261\n",
       "52     70-80  2.0             0.0             0.0  11198\n",
       "36     50-60  2.0             0.0             0.0  12476\n",
       "44     60-70  2.0             0.0             0.0  14295\n",
       "\n",
       "[62 rows x 5 columns]"
      ]
     },
     "execution_count": 52,
     "metadata": {},
     "output_type": "execute_result"
    }
   ],
   "source": [
    "get_values_frequencies(df_anonimity, ['age_group', 'sex', 'native_speaker', 'native_mexican']).sort_values(by=\"Count\", ascending=True)\n"
   ]
  },
  {
   "cell_type": "code",
   "execution_count": 53,
   "metadata": {},
   "outputs": [
    {
     "name": "stdout",
     "output_type": "stream",
     "text": [
      "Given the previously established quasi-identifiers, does the dataset satisfy 2-anonymity)? True\n"
     ]
    }
   ],
   "source": [
    "print(\"Given the previously established quasi-identifiers, does the dataset satisfy 2-anonymity)?\", is_k_anonymous(df_anonimity, 2, ['age_group', 'sex', 'native_speaker', 'native_mexican']))\n"
   ]
  },
  {
   "cell_type": "markdown",
   "metadata": {},
   "source": [
    "## L-diversity"
   ]
  },
  {
   "cell_type": "code",
   "execution_count": 54,
   "metadata": {},
   "outputs": [],
   "source": [
    "def is_l_diverse(df, partitions, sensitive_column, l=2):\n",
    "    #your function here\n",
    "    \n",
    "    aux = True\n",
    "    \n",
    "    # Step 1: Create Qi groups\n",
    "    qi_groups = df.groupby(partitions)\n",
    "    \n",
    "    # Step 2: Check ℓ-diversity for each Qi group\n",
    "    for group_name, group_data in qi_groups:\n",
    "        unique_sensitive_values = group_data[sensitive_column].nunique()\n",
    "        \n",
    "        # Check if the number of unique sensitive attribute values is more than ℓ\n",
    "        if unique_sensitive_values > l:\n",
    "            print(f'{group_name} -> false')  # Print combination + False\n",
    "            aux = False  # Dataset does not satisfy ℓ-diversity for this group\n",
    "    \n",
    "    # Step 3: All Qi groups satisfy ℓ-diversity\n",
    "    return f\"* l-diversity of the dataset: {aux}\""
   ]
  },
  {
   "cell_type": "code",
   "execution_count": 55,
   "metadata": {},
   "outputs": [
    {
     "name": "stdout",
     "output_type": "stream",
     "text": [
      "For l = 2 : \n",
      "* l-diversity of the dataset: True \n",
      "\n",
      "For l = 3 : \n",
      "* l-diversity of the dataset: True \n",
      "\n",
      "For l = 4 : \n",
      "* l-diversity of the dataset: True \n",
      "\n",
      "For l = 5 : \n",
      "* l-diversity of the dataset: True \n",
      "\n"
     ]
    }
   ],
   "source": [
    "# Defining groups and sensitive column\n",
    "target_columns = ['age_group', 'sex', 'native_speaker', 'native_mexican']\n",
    "sensitive_column = \"deceased_patient\"\n",
    "\n",
    "for i in range(2,6):\n",
    "    print('For l =', i, ': ')\n",
    "    print(is_l_diverse(df_anonimity, target_columns, sensitive_column, l=i), \"\\n\")"
   ]
  },
  {
   "cell_type": "markdown",
   "metadata": {},
   "source": [
    "## Balance"
   ]
  },
  {
   "cell_type": "code",
   "execution_count": 98,
   "metadata": {},
   "outputs": [
    {
     "data": {
      "image/png": "[encoded data removed]",
      "text/plain": [
       "<Figure size 576x432 with 1 Axes>"
      ]
     },
     "metadata": {
      "needs_background": "light"
     },
     "output_type": "display_data"
    }
   ],
   "source": [
    "# Balance between recovered vs deceased\n",
    "counts = df_anonimity['deceased_patient'].value_counts()\n",
    "\n",
    "# Plotting\n",
    "plt.figure(figsize=(8, 6))  # Adjust the figure size as needed\n",
    "bars = counts.plot(kind='barh', color=['red', 'green'])  # Using barh() for horizontal bars\n",
    "plt.title('Count of Deceased Patients')\n",
    "plt.ylabel('Deceased Status')\n",
    "plt.xlabel('Count')\n",
    "plt.yticks(ticks=[0, 1], labels=['Deceased', 'Recovered'])\n",
    "\n",
    "# Annotating bars with counts\n",
    "for i, count in enumerate(counts_sex):\n",
    "    plt.text(y=i, x=count/2, s=str(count), ha='center', va='center')  # Adjusting x and y positions for horizontal bars\n",
    "\n",
    "plt.show()"
   ]
  },
  {
   "cell_type": "markdown",
   "metadata": {},
   "source": [
    "As we can observe, regarding \"deceased_patients\", we could say that the dataset is imbalanced. The factor that there are significantly more deceased patients than recovered ones, could lead the model to become biased towards the majority class."
   ]
  },
  {
   "cell_type": "code",
   "execution_count": 57,
   "metadata": {},
   "outputs": [
    {
     "data": {
      "image/png": "[encoded data removed]",
      "text/plain": [
       "<Figure size 720x432 with 1 Axes>"
      ]
     },
     "metadata": {
      "needs_background": "light"
     },
     "output_type": "display_data"
    }
   ],
   "source": [
    "# Group by age and deceased status and count occurrences\n",
    "counts = df_anonimity.groupby(['age_group', 'deceased_patient']).size().unstack(fill_value=0)\n",
    "\n",
    "# Plotting\n",
    "plt.figure(figsize=(10, 6))\n",
    "\n",
    "# Plot deceased patients\n",
    "plt.bar(counts.index, counts[1], color='red', label='Deceased')\n",
    "\n",
    "# Plot recovered patients\n",
    "plt.bar(counts.index, counts[0], bottom=counts[1], color='green', label='Recovered')\n",
    "\n",
    "plt.title('Count of Deceased vs Recovered Patients by Age')\n",
    "plt.xlabel('Age')\n",
    "plt.ylabel('Count')\n",
    "plt.legend()\n",
    "\n",
    "# Annotating bars with counts\n",
    "for age, (recovered, deceased) in zip(counts.index, counts.values):\n",
    "    plt.text(age, deceased + recovered, f'{deceased} vs. {recovered}', ha='center', va='bottom')\n",
    "\n",
    "plt.show()"
   ]
  },
  {
   "cell_type": "code",
   "execution_count": 101,
   "metadata": {},
   "outputs": [
    {
     "data": {
      "image/png": "[encoded data removed]",
      "text/plain": [
       "<Figure size 432x432 with 1 Axes>"
      ]
     },
     "metadata": {
      "needs_background": "light"
     },
     "output_type": "display_data"
    }
   ],
   "source": [
    "# Group by sex and deceased status and count occurrences\n",
    "counts = df_anonimity.groupby(['sex', 'deceased_patient']).size().unstack(fill_value=0)\n",
    "\n",
    "# Plotting\n",
    "plt.figure(figsize=(6, 6))\n",
    "\n",
    "# Plot deceased patients\n",
    "plt.bar(counts.index, counts[1], color='red', label='Deceased')\n",
    "\n",
    "# Plot recovered patients\n",
    "plt.bar(counts.index, counts[0], bottom=counts[1], color='green', label='Recovered')\n",
    "\n",
    "plt.title('Count of Deceased vs Recovered Patients by Sex')\n",
    "plt.xlabel('Sex')\n",
    "plt.ylabel('Count')\n",
    "plt.xticks(ticks=[1, 2], labels=['Female', 'Male'])  # 1=Female, 2=Male\n",
    "plt.legend()\n",
    "\n",
    "# Annotating bars with counts\n",
    "for sex, (recovered, deceased) in zip(counts.index, counts.values):\n",
    "    plt.text(sex, deceased + recovered, f'{deceased} vs. {recovered}', ha='center', va='bottom')\n",
    "\n",
    "plt.show()"
   ]
  },
  {
   "cell_type": "code",
   "execution_count": 109,
   "metadata": {},
   "outputs": [
    {
     "data": {
      "text/html": [
       "<div>\n",
       "<style scoped>\n",
       "    .dataframe tbody tr th:only-of-type {\n",
       "        vertical-align: middle;\n",
       "    }\n",
       "\n",
       "    .dataframe tbody tr th {\n",
       "        vertical-align: top;\n",
       "    }\n",
       "\n",
       "    .dataframe thead th {\n",
       "        text-align: right;\n",
       "    }\n",
       "</style>\n",
       "<table border=\"1\" class=\"dataframe\">\n",
       "  <thead>\n",
       "    <tr style=\"text-align: right;\">\n",
       "      <th></th>\n",
       "      <th>sex</th>\n",
       "      <th>deceased_patient</th>\n",
       "    </tr>\n",
       "  </thead>\n",
       "  <tbody>\n",
       "    <tr>\n",
       "      <th>0</th>\n",
       "      <td>1.0</td>\n",
       "      <td>0.728652</td>\n",
       "    </tr>\n",
       "    <tr>\n",
       "      <th>1</th>\n",
       "      <td>2.0</td>\n",
       "      <td>0.796536</td>\n",
       "    </tr>\n",
       "  </tbody>\n",
       "</table>\n",
       "</div>"
      ],
      "text/plain": [
       "   sex  deceased_patient\n",
       "0  1.0          0.728652\n",
       "1  2.0          0.796536"
      ]
     },
     "execution_count": 109,
     "metadata": {},
     "output_type": "execute_result"
    }
   ],
   "source": [
    "df_anonimity[['sex', \"deceased_patient\"]].groupby('sex', as_index=False).mean()"
   ]
  },
  {
   "cell_type": "code",
   "execution_count": 76,
   "metadata": {},
   "outputs": [
    {
     "data": {
      "image/png": "[encoded data removed]",
      "text/plain": [
       "<Figure size 1008x864 with 2 Axes>"
      ]
     },
     "metadata": {
      "needs_background": "light"
     },
     "output_type": "display_data"
    }
   ],
   "source": [
    "# Group by age group, gender, and deceased status and count occurrences\n",
    "counts_male = df_anonimity[df_anonimity['sex'] == 1.0].groupby(['age_group', 'deceased_patient']).size().unstack(fill_value=0)\n",
    "counts_female = df_anonimity[df_anonimity['sex'] == 2.0].groupby(['age_group', 'deceased_patient']).size().unstack(fill_value=0)\n",
    "\n",
    "# Plotting for male patients\n",
    "plt.figure(figsize=(14, 12))\n",
    "\n",
    "# Plot deceased male patients\n",
    "plt.subplot(2, 1, 1)\n",
    "plt.bar(counts_male.index, counts_male[1], color='red', label='Deceased')\n",
    "plt.bar(counts_male.index, counts_male[0], bottom=counts_male[1], color='green', label='Recovered')\n",
    "plt.title('Count of Deceased vs Recovered Male Patients by Age')\n",
    "plt.xlabel('Age')\n",
    "plt.ylabel('Count')\n",
    "plt.legend()\n",
    "\n",
    "# Annotating bars with counts for male patients\n",
    "for age, (recovered, deceased) in zip(counts_male.index, counts_male.values):\n",
    "    plt.text(age, deceased + recovered, f'{deceased} vs. {recovered}', ha='center', va='bottom')\n",
    "\n",
    "# Plotting for female patients\n",
    "plt.subplot(2, 1, 2)\n",
    "\n",
    "# Plot deceased female patients\n",
    "plt.bar(counts_female.index, counts_female[1], color='red', label='Deceased')\n",
    "plt.bar(counts_female.index, counts_female[0], bottom=counts_female[1], color='green', label='Recovered')\n",
    "plt.title('Count of Deceased vs Recovered Female Patients by Age')\n",
    "plt.xlabel('Age')\n",
    "plt.ylabel('Count')\n",
    "plt.legend()\n",
    "\n",
    "# Annotating bars with counts for female patients\n",
    "for age, (recovered, deceased) in zip(counts_female.index, counts_female.values):\n",
    "    plt.text(age, deceased + recovered, f'{deceased} vs. {recovered}', ha='center', va='bottom')\n",
    "\n",
    "plt.tight_layout()\n",
    "plt.show()"
   ]
  },
  {
   "cell_type": "code",
   "execution_count": 103,
   "metadata": {},
   "outputs": [
    {
     "data": {
      "image/png": "[encoded data removed]",
      "text/plain": [
       "<Figure size 432x432 with 1 Axes>"
      ]
     },
     "metadata": {
      "needs_background": "light"
     },
     "output_type": "display_data"
    }
   ],
   "source": [
    "# Group by native speaker and deceased status and count occurrences\n",
    "counts_native_speaker = df_anonimity.groupby(['native_speaker', 'deceased_patient']).size().unstack(fill_value=0)\n",
    "\n",
    "# Plotting\n",
    "plt.figure(figsize=(6, 6))\n",
    "\n",
    "# Plot deceased patients\n",
    "plt.bar(counts_native_speaker.index, counts_native_speaker[1], color='red', label='Deceased')\n",
    "\n",
    "# Plot recovered patients\n",
    "plt.bar(counts_native_speaker.index, counts_native_speaker[0], bottom=counts_native_speaker[1], color='green', label='Recovered')\n",
    "\n",
    "plt.title('Count of Deceased vs Recovered Patients by Native Speaker')\n",
    "plt.xlabel('Native Speaker')\n",
    "plt.ylabel('Count')\n",
    "plt.xticks(ticks=[0, 1], labels=['Non-Native Speaker', 'Native Speaker'])  # Assuming 0=Non-Native Speaker, 1=Native Speaker\n",
    "plt.legend()\n",
    "\n",
    "# Annotating bars with counts\n",
    "for speaker, (recovered, deceased) in zip(counts_native_speaker.index, counts_native_speaker.values):\n",
    "    plt.text(speaker, deceased + recovered, f'{deceased} vs. {recovered}', ha='center', va='bottom')\n",
    "\n",
    "plt.show()"
   ]
  },
  {
   "cell_type": "code",
   "execution_count": 106,
   "metadata": {},
   "outputs": [
    {
     "data": {
      "text/html": [
       "<div>\n",
       "<style scoped>\n",
       "    .dataframe tbody tr th:only-of-type {\n",
       "        vertical-align: middle;\n",
       "    }\n",
       "\n",
       "    .dataframe tbody tr th {\n",
       "        vertical-align: top;\n",
       "    }\n",
       "\n",
       "    .dataframe thead th {\n",
       "        text-align: right;\n",
       "    }\n",
       "</style>\n",
       "<table border=\"1\" class=\"dataframe\">\n",
       "  <thead>\n",
       "    <tr style=\"text-align: right;\">\n",
       "      <th></th>\n",
       "      <th>native_speaker</th>\n",
       "      <th>deceased_patient</th>\n",
       "    </tr>\n",
       "  </thead>\n",
       "  <tbody>\n",
       "    <tr>\n",
       "      <th>0</th>\n",
       "      <td>0.0</td>\n",
       "      <td>0.771025</td>\n",
       "    </tr>\n",
       "    <tr>\n",
       "      <th>1</th>\n",
       "      <td>1.0</td>\n",
       "      <td>0.791355</td>\n",
       "    </tr>\n",
       "  </tbody>\n",
       "</table>\n",
       "</div>"
      ],
      "text/plain": [
       "   native_speaker  deceased_patient\n",
       "0             0.0          0.771025\n",
       "1             1.0          0.791355"
      ]
     },
     "execution_count": 106,
     "metadata": {},
     "output_type": "execute_result"
    }
   ],
   "source": [
    "df_anonimity[['native_speaker', \"deceased_patient\"]].groupby('native_speaker', as_index=False).mean()"
   ]
  },
  {
   "cell_type": "code",
   "execution_count": 112,
   "metadata": {},
   "outputs": [
    {
     "data": {
      "image/png": "[encoded data removed]",
      "text/plain": [
       "<Figure size 1008x864 with 2 Axes>"
      ]
     },
     "metadata": {
      "needs_background": "light"
     },
     "output_type": "display_data"
    }
   ],
   "source": [
    "# Group by age group, native speaker, and deceased status and count occurrences\n",
    "counts_native_speaker = df_anonimity.groupby(['age_group', 'native_speaker', 'deceased_patient']).size().unstack(fill_value=0)\n",
    "\n",
    "# Separate counts for native speakers and non-native speakers\n",
    "counts_native = counts_native_speaker.xs(1, level='native_speaker')\n",
    "counts_non_native = counts_native_speaker.xs(0, level='native_speaker')\n",
    "\n",
    "# Plotting\n",
    "plt.figure(figsize=(14, 12))\n",
    "\n",
    "# Plot deceased patients for native speakers\n",
    "plt.subplot(2, 1, 1)\n",
    "plt.bar(counts_native.index, counts_native[1], color='red', label='Deceased')\n",
    "plt.bar(counts_native.index, counts_native[0], bottom=counts_native[1], color='green', label='Recovered')\n",
    "plt.title('Count of Deceased vs Recovered Native Speaker Patients by Age')\n",
    "plt.xlabel('Age')\n",
    "plt.ylabel('Count')\n",
    "plt.legend()\n",
    "\n",
    "# Annotating bars with counts for native speakers\n",
    "for age, (recovered, deceased) in zip(counts_native.index, counts_native.values):\n",
    "    plt.text(age, deceased + recovered, f'{deceased} vs. {recovered}', ha='center', va='bottom')\n",
    "\n",
    "# Plotting for non-native speakers\n",
    "plt.subplot(2, 1, 2)\n",
    "\n",
    "# Plot deceased patients for non-native speakers\n",
    "plt.bar(counts_non_native.index, counts_non_native[1], color='red', label='Deceased')\n",
    "plt.bar(counts_non_native.index, counts_non_native[0], bottom=counts_non_native[1], color='green', label='Recovered')\n",
    "plt.title('Count of Deceased vs Recovered Non-Native Speaker Patients by Age')\n",
    "plt.xlabel('Age')\n",
    "plt.ylabel('Count')\n",
    "plt.legend()\n",
    "\n",
    "# Annotating bars with counts for non-native speakers\n",
    "for age, (recovered, deceased) in zip(counts_non_native.index, counts_non_native.values):\n",
    "    plt.text(age, deceased + recovered, f'{deceased} vs. {recovered}', ha='center', va='bottom')\n",
    "\n",
    "plt.tight_layout()\n",
    "plt.show()"
   ]
  },
  {
   "cell_type": "code",
   "execution_count": 104,
   "metadata": {},
   "outputs": [
    {
     "data": {
      "image/png": "[encoded data removed]",
      "text/plain": [
       "<Figure size 432x432 with 1 Axes>"
      ]
     },
     "metadata": {
      "needs_background": "light"
     },
     "output_type": "display_data"
    }
   ],
   "source": [
    "# Group by native Mexican and deceased status and count occurrences\n",
    "counts_native_mexican = df_anonimity.groupby(['native_mexican', 'deceased_patient']).size().unstack(fill_value=0)\n",
    "\n",
    "# Plotting\n",
    "plt.figure(figsize=(6, 6))\n",
    "\n",
    "# Plot deceased patients\n",
    "plt.bar(counts_native_mexican.index, counts_native_mexican[1], color='red', label='Deceased')\n",
    "\n",
    "# Plot recovered patients\n",
    "plt.bar(counts_native_mexican.index, counts_native_mexican[0], bottom=counts_native_mexican[1], color='green', label='Recovered')\n",
    "\n",
    "plt.title('Count of Deceased vs Recovered Patients by Native Mexican')\n",
    "plt.xlabel('Native Mexican')\n",
    "plt.ylabel('Count')\n",
    "plt.xticks(ticks=[0, 1], labels=['Non-Native Mexican', 'Native Mexican'])  # Assuming 0=Non-Native Mexican, 1=Native Mexican\n",
    "plt.legend()\n",
    "\n",
    "# Annotating bars with counts\n",
    "for mexican, (recovered, deceased) in zip(counts_native_mexican.index, counts_native_mexican.values):\n",
    "    plt.text(mexican, deceased + recovered, f'{deceased} vs. {recovered}', ha='center', va='bottom')\n",
    "\n",
    "plt.show()"
   ]
  },
  {
   "cell_type": "code",
   "execution_count": 105,
   "metadata": {},
   "outputs": [
    {
     "data": {
      "text/html": [
       "<div>\n",
       "<style scoped>\n",
       "    .dataframe tbody tr th:only-of-type {\n",
       "        vertical-align: middle;\n",
       "    }\n",
       "\n",
       "    .dataframe tbody tr th {\n",
       "        vertical-align: top;\n",
       "    }\n",
       "\n",
       "    .dataframe thead th {\n",
       "        text-align: right;\n",
       "    }\n",
       "</style>\n",
       "<table border=\"1\" class=\"dataframe\">\n",
       "  <thead>\n",
       "    <tr style=\"text-align: right;\">\n",
       "      <th></th>\n",
       "      <th>native_mexican</th>\n",
       "      <th>deceased_patient</th>\n",
       "    </tr>\n",
       "  </thead>\n",
       "  <tbody>\n",
       "    <tr>\n",
       "      <th>0</th>\n",
       "      <td>0.0</td>\n",
       "      <td>0.771438</td>\n",
       "    </tr>\n",
       "    <tr>\n",
       "      <th>1</th>\n",
       "      <td>1.0</td>\n",
       "      <td>0.742678</td>\n",
       "    </tr>\n",
       "  </tbody>\n",
       "</table>\n",
       "</div>"
      ],
      "text/plain": [
       "   native_mexican  deceased_patient\n",
       "0             0.0          0.771438\n",
       "1             1.0          0.742678"
      ]
     },
     "execution_count": 105,
     "metadata": {},
     "output_type": "execute_result"
    }
   ],
   "source": [
    "df_anonimity[['native_mexican', \"deceased_patient\"]].groupby('native_mexican', as_index=False).mean()"
   ]
  },
  {
   "cell_type": "code",
   "execution_count": 113,
   "metadata": {},
   "outputs": [
    {
     "data": {
      "image/png": "[encoded data removed]",
      "text/plain": [
       "<Figure size 1008x864 with 2 Axes>"
      ]
     },
     "metadata": {
      "needs_background": "light"
     },
     "output_type": "display_data"
    }
   ],
   "source": [
    "# Group by age group, native Mexican, and deceased status and count occurrences\n",
    "counts_native_mexican = df_anonimity.groupby(['age_group', 'native_mexican', 'deceased_patient']).size().unstack(fill_value=0)\n",
    "\n",
    "# Separate counts for native Mexican and non-native Mexican\n",
    "counts_native = counts_native_mexican.xs(1, level='native_mexican')\n",
    "counts_non_native = counts_native_mexican.xs(0, level='native_mexican')\n",
    "\n",
    "# Plotting\n",
    "plt.figure(figsize=(14, 12))\n",
    "\n",
    "# Plot deceased patients for native Mexican\n",
    "plt.subplot(2, 1, 1)\n",
    "plt.bar(counts_native.index, counts_native[1], color='red', label='Deceased')\n",
    "plt.bar(counts_native.index, counts_native[0], bottom=counts_native[1], color='green', label='Recovered')\n",
    "plt.title('Count of Deceased vs Recovered Native Mexican Patients by Age')\n",
    "plt.xlabel('Age')\n",
    "plt.ylabel('Count')\n",
    "plt.legend()\n",
    "\n",
    "# Annotating bars with counts for native Mexican\n",
    "for age, (recovered, deceased) in zip(counts_native.index, counts_native.values):\n",
    "    plt.text(age, deceased + recovered, f'{deceased} vs. {recovered}', ha='center', va='bottom')\n",
    "\n",
    "# Plotting for non-native Mexican\n",
    "plt.subplot(2, 1, 2)\n",
    "\n",
    "# Plot deceased patients for non-native Mexican\n",
    "plt.bar(counts_non_native.index, counts_non_native[1], color='red', label='Deceased')\n",
    "plt.bar(counts_non_native.index, counts_non_native[0], bottom=counts_non_native[1], color='green', label='Recovered')\n",
    "plt.title('Count of Deceased vs Recovered Non-Native Mexican Patients by Age')\n",
    "plt.xlabel('Age')\n",
    "plt.ylabel('Count')\n",
    "plt.legend()\n",
    "\n",
    "# Annotating bars with counts for non-native Mexican\n",
    "for age, (recovered, deceased) in zip(counts_non_native.index, counts_non_native.values):\n",
    "    plt.text(age, deceased + recovered, f'{deceased} vs. {recovered}', ha='center', va='bottom')\n",
    "\n",
    "plt.tight_layout()\n",
    "plt.show()"
   ]
  },
  {
   "cell_type": "markdown",
   "metadata": {},
   "source": [
    "## Protected Class"
   ]
  },
  {
   "cell_type": "markdown",
   "metadata": {},
   "source": [
    "## Sensitive Attributes"
   ]
  },
  {
   "cell_type": "markdown",
   "metadata": {},
   "source": [
    "<div class=\"alert alert-block alert-primary bg-primary head-2\">\n",
    "    <h2 class=\"alert-heading\">[L3.2] Prepare your dataset and train a model (0.5 point)</h2>\n",
    "    <hr>\n",
    "    <p class=\"mb-0\">Split your dataset for train and test [Code]</p>\n",
    "     <p>Then, train a classifier (scikit-learn model) [Code] considering the question that you should solve [justify]. </p>\n",
    "</div>\n",
    "\n"
   ]
  },
  {
   "cell_type": "code",
   "execution_count": 18,
   "metadata": {},
   "outputs": [],
   "source": [
    "# encoded the age group column\n",
    "age_col = df_anonimity['age_group']\n",
    "encoder = LabelEncoder()\n",
    "df_anonimity['age_group_encoded'] = encoder.fit_transform(age_col)"
   ]
  },
  {
   "cell_type": "code",
   "execution_count": 21,
   "metadata": {},
   "outputs": [],
   "source": [
    "## Your code here\n",
    "# split the data\n",
    "X = df_anonimity['age_group_encoded']  # Features\n",
    "y = df_anonimity['deceased_patient']  # Target variable\n",
    "\n",
    "# Splitting the dataset into training and testing sets\n",
    "X_train, X_test, y_train, y_test = train_test_split(X, y, test_size=0.2, random_state=42)"
   ]
  },
  {
   "cell_type": "code",
   "execution_count": 25,
   "metadata": {},
   "outputs": [],
   "source": [
    "# train the classifier\n",
    "X_train = X_train.values.reshape(-1, 1)\n",
    "X_test = X_test.values.reshape(-1, 1)\n",
    "\n",
    "# logistic regression\n",
    "model_name = LogisticRegression()\n",
    "model_name.fit(X_train, y_train)\n",
    "\n",
    "# Predicting on the testing set\n",
    "y_pred = model_name.predict(X_test)"
   ]
  },
  {
   "cell_type": "markdown",
   "metadata": {},
   "source": [
    "Para analizar cómo varía la probabilidad de morir por COVID-19 con la edad del paciente y considerando las variables \"age_group\" (grupo de edad) y \"deceased_patient\" (paciente fallecido), puedes utilizar un modelo de regresión logística.\n",
    "\n",
    "La regresión logística es un modelo estadístico utilizado para modelar la probabilidad de que una variable dependiente binaria, en este caso \"deceased_patient\" (fallecido o no fallecido), esté en función de una o más variables independientes, como la edad del paciente (representada por \"age_group\").\n",
    "\n",
    "El enfoque sería analizar cómo la probabilidad de que un paciente fallezca por COVID-19 cambia según el grupo de edad al que pertenece. Esto se puede lograr ajustando un modelo de regresión logística donde la variable dependiente es \"deceased_patient\" (0 para no fallecido, 1 para fallecido) y la variable independiente es \"age_group\" (o una variable derivada de \"age_group\" si se prefiere una representación numérica de la edad en lugar de categorías).\n",
    "\n",
    "El modelo de regresión logística estima los coeficientes de las variables independientes (en este caso, la edad del paciente) y utiliza la función logística para calcular la probabilidad de que la variable dependiente (fallecimiento) sea 1 dado el valor de la variable independiente (edad del paciente).\n",
    "\n",
    "Después de ajustar el modelo, puedes interpretar los coeficientes para entender cómo la probabilidad de fallecimiento varía con la edad del paciente, y puedes realizar inferencias sobre la asociación entre la edad y el riesgo de fallecimiento por COVID-19."
   ]
  },
  {
   "cell_type": "markdown",
   "metadata": {},
   "source": [
    "<div class=\"alert alert-block alert-primary bg-primary head-2\">\n",
    "    <h2 class=\"alert-heading\">[L3.3] Assess your model performance (1 point)</h2>\n",
    "    <hr>\n",
    "    <p class=\"mb-0\">You should analyse the following analysis:</p>\n",
    "    <ol>\n",
    "        <li>Performance metrics [interpret]</li>\n",
    "        <li>Use Specificity to understand how well it classifies TRUE NEGATIVES (important for COVID) [Interpret</li>\n",
    "        <li>Training a XGB regressor analyse the risk factors used in this dataset and how they impact on your protected class.  [Code and Interpret]</li>\n",
    "    </ol>\n",
    "     \n",
    "</div>\n",
    "\n",
    "<div class=\"alert alert-block alert-info col-md-12\">\n",
    "    <p><b>Specificity metric:</b> (true negative rate) is the probability of a negative test result, conditioned on the individual truly being negative. This is important on COVID-19 detection because we know that is hard to detect the infection, therefore there has been many false negatives, resulting in underidentification.</p>\n",
    "    <p><b>Analysing factors:</b> When using multiple attributes for a classifier, each attribute can have a different impact in the precision of the algorithm, which also varies regarding the dataset. Understanding the weights of each factor can help to understand what are the effects on the protected class.</p>\n",
    "</div>"
   ]
  },
  {
   "cell_type": "code",
   "execution_count": 26,
   "metadata": {},
   "outputs": [
    {
     "name": "stdout",
     "output_type": "stream",
     "text": [
      "Model Performance Analysis - LogisticRegression()\n",
      "Accuracy: 0.8214\n",
      "ROC AUC: 0.6793\n",
      "Precision: 0.8422\n",
      "Recall: 0.9443\n",
      "\n",
      "Classification report - summary:\n",
      "              precision    recall  f1-score   support\n",
      "\n",
      "           0       0.69      0.41      0.52      4755\n",
      "           1       0.84      0.94      0.89     15745\n",
      "\n",
      "    accuracy                           0.82     20500\n",
      "   macro avg       0.77      0.68      0.70     20500\n",
      "weighted avg       0.81      0.82      0.80     20500\n",
      "\n"
     ]
    },
    {
     "data": {
      "image/png": "[encoded data removed]",
      "text/plain": [
       "<Figure size 400x200 with 1 Axes>"
      ]
     },
     "metadata": {},
     "output_type": "display_data"
    }
   ],
   "source": [
    "## Your code here\n",
    "# Compute performance metrics\n",
    "accuracy = accuracy_score(y_test, y_pred)\n",
    "roc_auc = roc_auc_score(y_test, y_pred)\n",
    "precision = precision_score(y_test, y_pred)\n",
    "recall = recall_score(y_test, y_pred)\n",
    "\n",
    " # Display results\n",
    "print(f'Model Performance Analysis - {model_name}')\n",
    "print('Accuracy:', round(accuracy, 4))\n",
    "print('ROC AUC:', round(roc_auc, 4))\n",
    "print('Precision:', round(precision, 4))\n",
    "print('Recall:', round(recall, 4))\n",
    "\n",
    "# classification report\n",
    "print('\\nClassification report - summary:')\n",
    "print(classification_report(y_test, y_pred, zero_division='warn'))\n",
    "\n",
    "# Plot ROC curve\n",
    "fpr, tpr, _ = roc_curve(y_test, y_pred, pos_label=model_name.classes_[1])\n",
    "plt.figure(figsize=(4, 2)) \n",
    "plt.plot(fpr, tpr, color='purple')\n",
    "plt.title('ROC Curve', size = 9)\n",
    "plt.xlabel('False Positive Rate', size = 7)\n",
    "plt.ylabel('True Positive Rate', size = 7)\n",
    "plt.show()"
   ]
  },
  {
   "cell_type": "code",
   "execution_count": 27,
   "metadata": {},
   "outputs": [
    {
     "name": "stdout",
     "output_type": "stream",
     "text": [
      "Model Error Analysis - LogisticRegression()\n",
      "False Positive Rate: 0.5857\n",
      "False Negative Rate: 0.0557\n"
     ]
    },
    {
     "data": {
      "image/png": "[encoded data removed]",
      "text/plain": [
       "<Figure size 500x300 with 2 Axes>"
      ]
     },
     "metadata": {},
     "output_type": "display_data"
    }
   ],
   "source": [
    "# confusion matrix \n",
    "conf_matrix = confusion_matrix(y_test, y_pred)\n",
    "\n",
    "# compute FPR and FNP - errors\n",
    "fpr = conf_matrix[0][1]/conf_matrix[0].sum()\n",
    "fnp = conf_matrix[1][0]/conf_matrix[1].sum()\n",
    "\n",
    "print(f\"Model Error Analysis - {model_name}\")\n",
    "print('False Positive Rate:', round(fpr, 4))\n",
    "print('False Negative Rate:', round(fnp, 4))\n",
    "\n",
    "# Plot confusion matrix\n",
    "disp = ConfusionMatrixDisplay(conf_matrix)\n",
    "fig, ax = plt.subplots(figsize=(5, 3))\n",
    "disp.plot(ax=ax)\n",
    "\n",
    "plt.title('Confusion matrix')\n",
    "plt.show()"
   ]
  },
  {
   "cell_type": "code",
   "execution_count": 28,
   "metadata": {},
   "outputs": [
    {
     "name": "stdout",
     "output_type": "stream",
     "text": [
      "Specificity: 0.4143\n"
     ]
    }
   ],
   "source": [
    "# compute specificity\n",
    "specificity = conf_matrix[0, 0] / (conf_matrix[0, 0] + conf_matrix[0, 1])\n",
    "print(\"Specificity:\", round(specificity, 4))"
   ]
  },
  {
   "cell_type": "code",
   "execution_count": 29,
   "metadata": {},
   "outputs": [
    {
     "ename": "AttributeError",
     "evalue": "'numpy.ndarray' object has no attribute 'select_dtypes'",
     "output_type": "error",
     "traceback": [
      "\u001b[0;31m---------------------------------------------------------------------------\u001b[0m",
      "\u001b[0;31mAttributeError\u001b[0m                            Traceback (most recent call last)",
      "\u001b[0;32m/var/folders/1z/rv7tklz53bq5df2t4s7wkyf80000gn/T/ipykernel_2105/3359505048.py\u001b[0m in \u001b[0;36m<module>\u001b[0;34m\u001b[0m\n\u001b[1;32m      1\u001b[0m \u001b[0;31m#preparing the data by changing the dtype of columns\u001b[0m\u001b[0;34m\u001b[0m\u001b[0;34m\u001b[0m\u001b[0m\n\u001b[0;32m----> 2\u001b[0;31m \u001b[0ms\u001b[0m \u001b[0;34m=\u001b[0m \u001b[0mX_train\u001b[0m\u001b[0;34m.\u001b[0m\u001b[0mselect_dtypes\u001b[0m\u001b[0;34m(\u001b[0m\u001b[0minclude\u001b[0m\u001b[0;34m=\u001b[0m\u001b[0;34m'object'\u001b[0m\u001b[0;34m)\u001b[0m\u001b[0;34m.\u001b[0m\u001b[0mcolumns\u001b[0m\u001b[0;34m\u001b[0m\u001b[0;34m\u001b[0m\u001b[0m\n\u001b[0m\u001b[1;32m      3\u001b[0m \u001b[0mX_train\u001b[0m\u001b[0;34m[\u001b[0m\u001b[0ms\u001b[0m\u001b[0;34m]\u001b[0m \u001b[0;34m=\u001b[0m \u001b[0mX_train\u001b[0m\u001b[0;34m[\u001b[0m\u001b[0ms\u001b[0m\u001b[0;34m]\u001b[0m\u001b[0;34m.\u001b[0m\u001b[0mastype\u001b[0m\u001b[0;34m(\u001b[0m\u001b[0;34m\"float\"\u001b[0m\u001b[0;34m)\u001b[0m\u001b[0;34m\u001b[0m\u001b[0;34m\u001b[0m\u001b[0m\n\u001b[1;32m      4\u001b[0m \u001b[0;34m\u001b[0m\u001b[0m\n\u001b[1;32m      5\u001b[0m \u001b[0;31m#training an XGBoost classifier\u001b[0m\u001b[0;34m\u001b[0m\u001b[0;34m\u001b[0m\u001b[0m\n",
      "\u001b[0;31mAttributeError\u001b[0m: 'numpy.ndarray' object has no attribute 'select_dtypes'"
     ]
    }
   ],
   "source": [
    "#preparing the data by changing the dtype of columns\n",
    "s = X_train.select_dtypes(include='object').columns\n",
    "X_train[s] = X_train[s].astype(\"float\")\n",
    "\n",
    "#training an XGBoost classifier\n",
    "barWidth = 0.9\n",
    "model = XGBClassifier(objective=\"binary:logistic\")\n",
    "model.fit(X_train, y_train)\n",
    "importances = pd.DataFrame(data={\n",
    "    'Attribute': X_train.columns,\n",
    "    'Importance': model.feature_importances_\n",
    "})\n",
    "importances = importances.sort_values(by='Importance', ascending=False)\n",
    "\n",
    "#plot\n",
    "plt.figure(4, figsize=(12, 6))\n",
    "plt.bar(x=importances['Attribute'], height=importances['Importance'], color='#FF796C', width=barWidth,\n",
    "        edgecolor='black')\n",
    "plt.title('Risk Factors with XGB Regressor', size=20)\n",
    "plt.xticks(rotation='vertical', fontsize=6)\n",
    "plt.yticks(fontsize=14)\n",
    "plt.ylabel('Coefficient of Importance', fontsize=14)\n",
    "plt.show()"
   ]
  },
  {
   "cell_type": "markdown",
   "metadata": {},
   "source": [
    "**1.Performance metrics.**\n",
    "\n",
    "\n",
    "**2.Use Specificity to understand how well it classifies TRUE NEGATIVES.**"
   ]
  },
  {
   "cell_type": "markdown",
   "metadata": {},
   "source": []
  },
  {
   "cell_type": "markdown",
   "metadata": {},
   "source": [
    "<div class=\"alert alert-block alert-primary bg-primary head-2\">\n",
    "    <h2 class=\"alert-heading\">[L3.4] Assess the fairness metrics (1 point)</h2>\n",
    "    <hr>\n",
    "    <p class=\"mb-0\">Assess the performance from the fairness point of view of the created model.</p>\n",
    "    <p>For that, you should plot the result of some fairness metric for classification.</p>\n",
    "    <p> You can just use the same metrics we used in Part 1, but remember to add other metrics if you need them to detect changes of performance in the following exercises.</p>\n",
    "</div>"
   ]
  },
  {
   "cell_type": "code",
   "execution_count": null,
   "metadata": {},
   "outputs": [],
   "source": [
    "## Your code here"
   ]
  },
  {
   "cell_type": "markdown",
   "metadata": {},
   "source": [
    "### Unfairness mitigation algorithms  in AIF360\n",
    "The library contains a set of algorithms to mitigate potential unfairness in machine-learning pipelines.\n",
    "\n",
    "The provided algorithms correspond implementation of to state of the art techniques (most of them contain a link to a scientific paper that introduced them).\n",
    "\n",
    "The existing algorithms can be found [here](https://aif360.readthedocs.io/en/latest/modules/algorithms.html).\n",
    "\n",
    "They are divided between:\n",
    "- **Preprocessing.** Algorithms that are applied before starting the learning process (modification of the input data before feeding it to the model).\n",
    "\n",
    "- **Inprocessing.** Algorithms that are applied during the learning process (e.g.: modification of the loss function to account for fairness).\n",
    "\n",
    "- **Postprocessing.** Algorithms that are applied after the predictions of the models, substituting them for more fair solutions."
   ]
  },
  {
   "cell_type": "markdown",
   "metadata": {},
   "source": [
    "<div class=\"alert alert-block alert-primary bg-primary head-2\">\n",
    "    <h2 class=\"alert-heading\">[L3.5] Apply mitigation algorithms to your model (0.5 points)</h2>\n",
    "    <hr>\n",
    "     <p class=\"mb-0\">Apply an unfairness mitigation algorithm of your election, train a new classifier of the same family used above and assess the new performance from the fairness point of view.</p>\n",
    "    <p>Provide a textial description of the results (max 3 lines).</p>\n",
    "</div>\n",
    "\n",
    "\n",
    "\n",
    "<div class=\"alert alert-block alert-info col-md-12\">\n",
    "\n",
    "<p>Although you can try other algorihtms if you want, the suggested algorithms to mitigate unfairness are the following:</p>\n",
    "\n",
    "    \n",
    "<ul>\n",
    "<li><b><a href=\"https://aif360.readthedocs.io/en/latest/modules/generated/aif360.algorithms.preprocessing.DisparateImpactRemover.html\" >Preprocessing</a></b>\n",
    "<ul>\n",
    "<li>Disparate Impact Remover</li>\n",
    "<li>Rewighing (you need a classifier that allows you to parametrize sample weights for this)</li>\n",
    "</ul>\n",
    "\n",
    "</li>\n",
    "<li><b><a href=\"https://aif360.readthedocs.io/en/latest/modules/algorithms.html#aif360-algorithms-inprocessing\">Inprocessing</a></b>\n",
    "<ul>\n",
    "<li>MetaFairClassifier</li>\n",
    "</ul>\n",
    "</li>\n",
    "<li><b><a href=\"https://aif360.readthedocs.io/en/latest/modules/algorithms.html#module-aif360.algorithms.postprocessing\">Postprocessing</a></b>\n",
    "<ul>\n",
    "<li>Disparate Impact Remover</li>\n",
    "<li>EqOddsPostprocessing (You need to use the equalized odds ratio to measure performance of this classifier and the classifier trained above)</li>\n",
    "</ul>\n",
    "</li>\n",
    "</ul>\n",
    "\n",
    "<p>You can add necessary imports for using the algorithm</p>\n",
    "\n",
    "</div>\n",
    "\n",
    "\n",
    "<div class=\"alert alert-block alert-warning col-md-12\">\n",
    "    <p>Sometimes, certain algorithms do not work well with certain classifiers / output distributions</p>\n",
    "    <p>This can happen for several reasons, one of them being the changes done for subsequent versions of the tool</p>\n",
    "    <br>\n",
    "    <p><b>If you see that your unfairness mitigation algorithm does not work as expected, do not invest too much time trying to solve it, use another algorithm.</b></p>\n",
    "</div>   "
   ]
  },
  {
   "cell_type": "code",
   "execution_count": null,
   "metadata": {},
   "outputs": [],
   "source": [
    "## Your code here"
   ]
  },
  {
   "cell_type": "markdown",
   "metadata": {},
   "source": [
    "<div class=\"alert alert-block alert-primary bg-primary head-2\">\n",
    "    <h2 class=\"alert-heading\">[L3.6] Assess the effects of the mitigation technique (1 point)</h2>\n",
    "    <hr>\n",
    "     <p class=\"mb-0\">Analyse the performance of the effects of the mitigation algorithm in the performance of your model. You can iterate over your training to get the best result (in relation to you goal). Explain how do arrive to the best choice and why it is the best one.</p>\n",
    "</div>\n"
   ]
  },
  {
   "cell_type": "code",
   "execution_count": null,
   "metadata": {},
   "outputs": [],
   "source": [
    "## Your code here"
   ]
  },
  {
   "cell_type": "markdown",
   "metadata": {},
   "source": [
    "<div class=\"alert alert-block alert-primary bg-primary head-2\">\n",
    "    <h2 class=\"alert-heading\">[L3.7] Executive report (5 points)</h2>\n",
    "    <hr>\n",
    "     <p class=\"mb-0\">After analysing your dataset and training your models, please create a 1-3 page report containing the following items (on your consideration): </p>\n",
    "    <ul>\n",
    "        <li>Anonymization of the dataset</li>\n",
    "        <li>Fairness in original dataset</li>\n",
    "        <li>Factors that impact on discrimination</li>\n",
    "        <li>Fairness metrics</li>\n",
    "        <li>Algorithms used for training the model</li>\n",
    "        <li>Algorithmic performance expected and obtained</li>\n",
    "        <li>Algorithmic metrics applied</li>\n",
    "        <li>Algorithmic performance after the metrics</li>\n",
    "        <li>Conclusions regarding the goal of your model and the expected utility in a real-case scenario</li>\n",
    "    </ul>\n",
    "</div>\n",
    "\n",
    "<div class=\"alert alert-block alert-warning\">\n",
    "<p>You can include figure if you consider necessary, and you can reuse observations from the notebook, please avoid placing code in the report.</p>\n",
    "<p>Please, include the contribution of each of the team mates to this project. </p>\n",
    "</div> \n"
   ]
  },
  {
   "cell_type": "code",
   "execution_count": null,
   "metadata": {},
   "outputs": [],
   "source": []
  }
 ],
 "metadata": {
  "kernelspec": {
   "display_name": "Python 3",
   "language": "python",
   "name": "python3"
  },
  "language_info": {
   "codemirror_mode": {
    "name": "ipython",
    "version": 3
   },
   "file_extension": ".py",
   "mimetype": "text/x-python",
   "name": "python",
   "nbconvert_exporter": "python",
   "pygments_lexer": "ipython3",
   "version": "3.8.8"
  }
 },
 "nbformat": 4,
 "nbformat_minor": 2
}
